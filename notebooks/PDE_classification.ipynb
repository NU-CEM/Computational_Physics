{
 "cells": [
  {
   "cell_type": "markdown",
   "id": "dutch-corrections",
   "metadata": {},
   "source": [
    "---\n",
    "title: \"Classification\"\n",
    "format:\n",
    "  ipynb: default\n",
    "  html:\n",
    "    code-fold: false\n",
    "jupyter: python3\n",
    "---  "
   ]
  },
  {
   "cell_type": "markdown",
   "id": "original-concentration",
   "metadata": {},
   "source": [
    "::: {.callout-note icon=false}\n",
    "## Questions\n",
    "\n",
    "- Which physical systems can be described using a PDE?\n",
    "- What is the Laplacian operator?\n",
    ":::\n",
    "\n",
    "::: {.callout-note icon=false}\n",
    "##  Objectives\n",
    "\n",
    "- Recognise common classes of PDE: the diffusion equation, Poisson's equation and the wave equation\n",
    "- Express the Laplacian as a differential operator\n",
    ":::\n"
   ]
  },
  {
   "cell_type": "markdown",
   "id": "running-trouble",
   "metadata": {},
   "source": [
    "### Partial differential equations have multiple inputs\n",
    "\n",
    "In the previous section of the course we studied <bold>ordinary differential equations</bold>. ODEs have a single input (also known as independent variable) - for example, time. \n",
    "\n",
    "Partial differential equations (PDEs) have multiple inputs (independent variables). For example, think about a sheet of metal that has been heated unevenly across the surface. Over time, heat will diffuse through the 2-dimensional sheet. The temperature depends on both time *and* position - there are two inputs.\n",
    "\n",
    "Because PDEs have multiple inputs they are generally much more difficult to solve analytically than ODEs. However, there are a range of numerical methods that can be used to find approximate solutions."
   ]
  },
  {
   "cell_type": "markdown",
   "id": "fluid-developer",
   "metadata": {},
   "source": [
    "### PDEs have application across a wide variety of topics\n",
    "\n",
    "The same type of PDE often appears in different contexts. For example, the <mark>diffusion equation</mark> takes the form:\n",
    "\n",
    "\\begin{equation}\n",
    "\\nabla^2T = \\alpha \\frac{\\partial T}{\\partial t}\n",
    "\\end{equation}\n",
    "\n",
    "When used to describe heat diffusion, this PDE is known as the heat equation. This same PDE however can be used to model other seemingly unrelated processes such as brownian motion, or used in financial modelling via the Black-Sholes equation. \n",
    "\n",
    "Another type of PDE is known as <mark>Poisson's equation</mark>:\n",
    "\n",
    "\\begin{equation}\n",
    "\\nabla^2\\phi = f(x,y,z)\n",
    "\\end{equation}\n",
    "\n",
    "Poisson's equation can be used to describe electrostatic forces, where $\\phi$ is the electric potential. It can also be applied to mechanics (where $\\phi$ is the gravitational potential) or thermodynamics (where $\\phi$ is the temperature). When $f(x,y,z)=0$ this equation is known as Laplace's equation. \n",
    "\n",
    "The third common type of PDE is the <mark>wave equation</mark>:\n",
    "\n",
    "\\begin{equation}\n",
    "\\nabla^2r = \\alpha \\frac{\\partial^2 r}{\\partial t^2}\n",
    "\\end{equation}\n",
    "\n",
    "This describes mechanical processes such as the vibration of a string or the motion of a pendulum. It can also be used in electrodynamics to describe the exchange of energy between the electric and magnetic fields. \n",
    "\n",
    "In this course we will look at techniques for solving the diffusion equation and Poisson's equation, but many of the topics we will discuss - such as boundary conditions, and finite difference methods - can be transferred to PDEs more generally. "
   ]
  },
  {
   "cell_type": "markdown",
   "id": "injured-starter",
   "metadata": {},
   "source": [
    "### The Laplacian operator corresponds to an average rate of change\n",
    "\n",
    "*But what is the operator $\\nabla^2$?*. This is the <mark>Laplacian operator</mark>. When applied to $\\phi$ and written in full for a three dimensional cartesian coordinate system with dependent variables $x$, $y$ and $z$ it takes the following form:\n",
    "\n",
    "\\begin{equation}\n",
    "\\nabla^2\\phi = \\frac{\\partial^2\\phi}{\\partial x^2} + \\frac{\\partial^2\\phi}{\\partial y^2} + \\frac{\\partial^2\\phi}{\\partial z^2}.\n",
    "\\end{equation}\n",
    "\n",
    "We can think of the laplacian as encoding an average rate of change. To develop an intuition for how the laplacian can be interpreted physically, we need to understand two related operators - div and curl. We will not explore these operators further in this lesson, but a video is included under external resources."
   ]
  },
  {
   "cell_type": "markdown",
   "id": "greenhouse-burke",
   "metadata": {},
   "source": [
    "::: {.callout-note icon=false}\n",
    "##  Keypoints\n",
    "\n",
    "- PDEs have multiple inputs (independent variables)\n",
    "- PDEs have application across a wide variety of topics\n",
    "- The Laplacian operator corresponds to an average rate of change\n",
    ":::"
   ]
  },
  {
   "cell_type": "markdown",
   "id": "77f7875d-c40d-4b53-b618-41e66a5dd458",
   "metadata": {},
   "source": [
    "### Test your understanding\n",
    "\n",
    "::: {.callout-tip icon=false collapse=\"true\" appearance=\"simple\"}\n",
    "## Classifying PDEs\n",
    "\n",
    "Decide whether the following systems are a boundary value problem or initial value problem, and whether they are diffusion-like, wave-like or poisson-like:\n",
    "\n",
    "a) Brownian motion of small particles in a liquid (the random-walk)\n",
    "\n",
    "\\begin{equation}\n",
    "\\frac{dP}{dt} = \\frac{l^2}{2Np^2}\\nabla^2P\n",
    "\\end{equation}\n",
    "\n",
    "b) the Klein-Gordon equation for describing the energy-momentum relation of relativistic particles:\n",
    "\n",
    "\\begin{equation}\n",
    "\\left(\\frac{1}{c^2}\\frac{\\partial^2}{\\partial t^2} - \\nabla^2 + \\frac{m^2c^2}{\\hbar^2}\\right)\\phi(t,x)=0\n",
    "\\end{equation}\n",
    "\n",
    "::: {.callout-tip icon=false collapse=\"true\" appearance=\"simple\"}\n",
    "## Show answer\n",
    "  \n",
    "a) this is an initial value problem described by the diffusion equation   \n",
    "b) this is an initial value problem described by the wave equation\n",
    ":::\n",
    ":::"
   ]
  }
 ],
 "metadata": {
  "kernelspec": {
   "display_name": "Python 3 (ipykernel)",
   "language": "python",
   "name": "python3"
  },
  "language_info": {
   "codemirror_mode": {
    "name": "ipython",
    "version": 3
   },
   "file_extension": ".py",
   "mimetype": "text/x-python",
   "name": "python",
   "nbconvert_exporter": "python",
   "pygments_lexer": "ipython3",
   "version": "3.10.10"
  }
 },
 "nbformat": 4,
 "nbformat_minor": 5
}
