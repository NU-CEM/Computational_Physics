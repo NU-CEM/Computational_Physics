{
 "cells": [
  {
   "cell_type": "markdown",
   "id": "alive-discretion",
   "metadata": {},
   "source": [
    "---\n",
    "title: \"Evaluating numerical error, accuracy and speed\"\n",
    "format:\n",
    "  html:\n",
    "    code-fold: false\n",
    "  ipynb: default\n",
    "execute:\n",
    "  error: true\n",
    "jupyter: python3\n",
    "---"
   ]
  },
  {
   "cell_type": "markdown",
   "id": "buried-estonia",
   "metadata": {},
   "source": [
    "::: {.callout-note icon=false}\n",
    "## Questions\n",
    "* Which numerical errors are unavoidable in a Python programme?\n",
    "* How do I choose the optimum step size $h$ when using the finite difference method?\n",
    "* How can I measure the speed of my code?\n",
    ":::\n",
    "\n",
    "::: {.callout-note icon=false}\n",
    "##  Objectives\n",
    "* Understand that there are unavoidable rounding errors when working with floats\n",
    "* Write code for testing if two floats are equivalent (to within machine accuracy)\n",
    "* Calculate the optimum step size $h$ for finite difference methods\n",
    "* Measure the length of time a Notebook cell takes to run using the `%time` magic.\n",
    ":::\n",
    "\n",
    "### Finite difference methods have two sources of error\n",
    "\n",
    "The error in a method's solution is defined as the difference between the approximation and the exact analytical solution. The two sources of error in finite difference methods are round-off error, the loss of precision due to computer rounding of decimal quantities, and truncation error or discretization error, the difference between the exact solution of the original differential equation and the exact quantity assuming perfect arithmetic (that is, assuming no round-off).\n",
    "\n",
    "### Computers have inherent limitations that lead to rounding errors\n",
    "\n",
    "We have seen how computer programming can be used to model physical systems. However computers have inherent limitations - they cannot store real numbers with an infinite number of decimal places.\n",
    "\n",
    "In many cases this is not a problem, but it is something to be aware of. For example, take the following piece of code: "
   ]
  },
  {
   "cell_type": "code",
   "execution_count": 4,
   "id": "urban-current",
   "metadata": {
    "tags": []
   },
   "outputs": [],
   "source": [
    "def add_numbers(a,b):\n",
    "    return a+b\n",
    "\n",
    "def test_add_numbers():\n",
    "    assert add_numbers(0.1,0.2) == 0.3"
   ]
  },
  {
   "cell_type": "markdown",
   "id": "convenient-louis",
   "metadata": {},
   "source": [
    "- `add_numbers` is a function for adding two Python objects `a` and `b`.\n",
    "- `test_add_numbers` is a function for testing is the `add_numbers` function is working as expected (we will see more on testing later in the course). This function will raise an error if $0.1 + 0.2$ does not equal 0.3."
   ]
  },
  {
   "cell_type": "code",
   "execution_count": 5,
   "id": "clear-drinking",
   "metadata": {
    "tags": []
   },
   "outputs": [
    {
     "data": {
      "text/plain": [
       "3"
      ]
     },
     "execution_count": 5,
     "metadata": {},
     "output_type": "execute_result"
    }
   ],
   "source": [
    "add_numbers(1,2)"
   ]
  },
  {
   "cell_type": "markdown",
   "id": "narrative-ribbon",
   "metadata": {},
   "source": [
    "The `add_numbers` function works as expected if we pass it two integers. However when we run the test function we raise an assertion error:\n"
   ]
  },
  {
   "cell_type": "code",
   "execution_count": 6,
   "id": "lucky-trader",
   "metadata": {
    "tags": []
   },
   "outputs": [
    {
     "ename": "AssertionError",
     "evalue": "",
     "output_type": "error",
     "traceback": [
      "\u001b[0;31m---------------------------------------------------------------------------\u001b[0m",
      "\u001b[0;31mAssertionError\u001b[0m                            Traceback (most recent call last)",
      "Cell \u001b[0;32mIn[6], line 1\u001b[0m\n\u001b[0;32m----> 1\u001b[0m \u001b[43mtest_add_numbers\u001b[49m\u001b[43m(\u001b[49m\u001b[43m)\u001b[49m\n",
      "Cell \u001b[0;32mIn[4], line 5\u001b[0m, in \u001b[0;36mtest_add_numbers\u001b[0;34m()\u001b[0m\n\u001b[1;32m      4\u001b[0m \u001b[38;5;28;01mdef\u001b[39;00m \u001b[38;5;21mtest_add_numbers\u001b[39m():\n\u001b[0;32m----> 5\u001b[0m     \u001b[38;5;28;01massert\u001b[39;00m add_numbers(\u001b[38;5;241m0.1\u001b[39m,\u001b[38;5;241m0.2\u001b[39m) \u001b[38;5;241m==\u001b[39m \u001b[38;5;241m0.3\u001b[39m\n",
      "\u001b[0;31mAssertionError\u001b[0m: "
     ]
    }
   ],
   "source": [
    "test_add_numbers()"
   ]
  },
  {
   "cell_type": "markdown",
   "id": "novel-monaco",
   "metadata": {},
   "source": [
    "This <mark> rounding error </mark> is given because $0.1+0.2$ does not equal 0.3 exactly:"
   ]
  },
  {
   "cell_type": "code",
   "execution_count": 7,
   "id": "structured-still",
   "metadata": {
    "tags": []
   },
   "outputs": [
    {
     "data": {
      "text/plain": [
       "0.30000000000000004"
      ]
     },
     "execution_count": 7,
     "metadata": {},
     "output_type": "execute_result"
    }
   ],
   "source": [
    "0.1+0.2"
   ]
  },
  {
   "cell_type": "markdown",
   "id": "metropolitan-person",
   "metadata": {},
   "source": [
    "This is because floating point numbers (floats) are represented on the computer to a certain precision. In Python the standard level of precision is 16 significant digits."
   ]
  },
  {
   "cell_type": "markdown",
   "id": "found-designation",
   "metadata": {},
   "source": [
    "> Note: The largest value you can give a floating point variable is about $10^{308}$. The smallest is -$10^{308}$. If you exceed these values (which is unlikely) then the computer will return an Overflow error. In contrast, PYthon can represent integers to any precision - limited only by the memory of the machine."
   ]
  },
  {
   "cell_type": "markdown",
   "id": "genetic-hypothesis",
   "metadata": {},
   "source": [
    "### Do not test for the equality of two floats\n",
    "\n",
    "As we have seen in the previous example, we should not test for the equality of two floats. Instead we should ask if they are equal up to a given precision:\n"
   ]
  },
  {
   "cell_type": "code",
   "execution_count": 8,
   "id": "approximate-edgar",
   "metadata": {
    "tags": []
   },
   "outputs": [],
   "source": [
    "def add_numbers(a,b):\n",
    "    return a+b\n",
    "\n",
    "epsilon = 1e-12\n",
    "\n",
    "def test_add_numbers():\n",
    "    assert abs(add_numbers(0.1,0.2) - 0.3) < epsilon"
   ]
  },
  {
   "cell_type": "code",
   "execution_count": 9,
   "id": "devoted-minneapolis",
   "metadata": {
    "tags": []
   },
   "outputs": [],
   "source": [
    "test_add_numbers()"
   ]
  },
  {
   "cell_type": "markdown",
   "id": "indian-joining",
   "metadata": {},
   "source": [
    "###  The finite difference discretisation error is associated with step size $h$\n",
    "\n",
    "The finite difference method is only exact in the limit that $h$ is zero. This is not possible, so the differences we calculate do not give exact derivatives.\n",
    "However one way of improving the finite-$h$ approximation is to decrease the step size in space (use a higher number of points on our real space grid). \n",
    "To demonstrate this, consider the Taylor expansion of $f(x)$ about $x$:\n",
    "\n",
    "\\begin{equation}\n",
    "f(x+h) = f(x) + hf'(x) +\\frac{1}{2}h^2f''(x) + \\ldots\n",
    "\\end{equation}\n",
    "\n",
    "Re-arranging gives an expression for the forward difference method:\n",
    "\n",
    "\\begin{equation}\n",
    "f'(x) = \\frac{f(x+h) - f(x)}{h} - \\frac{1}{2}hf''(x) + \\ldots\n",
    "\\end{equation}\n",
    "\n",
    "When we calculate the forward difference method we ignore all terms $f''(x)$ and higher. The size of the neglected terms gives the approximation error. We can see from above that the error us linear in $h$ so, as we would expect, the approximation generally improves as we decrease step size $h$.\n",
    "Note however that when the step size is decreased the programme will run more slowly.\n",
    "\n",
    "### It is possible to make the step size $h$ too small\n",
    "\n",
    "We also need to think about the rounding errors associated with finite differences. Counter-intuitively, these errors can increase as we decrease the step size $h$. \n",
    "\n",
    "A computer can typically store a number $f(x)$ to an accuracy of 16 significant figures, or $Cf(x)$ where $C=10^{-16}$. In the worst case, this makes the error $\\epsilon$ on our derivative:\n",
    "\n",
    "\\begin{equation}\n",
    "\\epsilon = \\frac{2C|f(x)|}{h} + \\frac{1}{2}h|f''(x)|.\n",
    "\\end{equation}\n",
    "\n",
    "We want to find the value of $h$ which minimises this error so we differentiate with respect to $h$ and set the result equal to zero.\n",
    "\n",
    "\\begin{equation}\n",
    "-\\frac{2C|f(x)|}{h^2} + h|f''(x)|\n",
    "\\end{equation}\n",
    "\n",
    "\\begin{equation}\n",
    "h = \\sqrt{4C\\lvert\\frac{f(x)}{f''(x)}\\rvert}\n",
    "\\end{equation}\n",
    "\n",
    "If $f(x)$ and $f''(x)$ are order 1, then $h$ should be order $\\sqrt{C}$, or $10^{-8}$.\n",
    "\n",
    "Similar reasoning applied to the central difference formula suggests that the optimum step size for this method is $10^{-5}$."
   ]
  },
  {
   "cell_type": "markdown",
   "id": "hearing-workstation",
   "metadata": {},
   "source": [
    "### Use the %time magic to measure the length of time a Jupyter Notebook cell takes to run \n",
    "\n",
    "It is often possible to use a range of numerical methods to achieve the same level of accuracy. In this case, we may want to consider code speed - which method will run the fastest? This is a particularly important question when writing code that is computationally intensive. To measure the length of time it takes for a Jupyter Notebook cell to run we can use the `%` time magic"
   ]
  },
  {
   "cell_type": "code",
   "execution_count": 10,
   "id": "swiss-weekend",
   "metadata": {
    "tags": []
   },
   "outputs": [],
   "source": [
    "def sum_integers(max_integer):\n",
    "    count = 0\n",
    "    for i in range(max_integer):\n",
    "        count += max_integer + 1\n",
    "        \n",
    "    return count\n",
    "        "
   ]
  },
  {
   "cell_type": "code",
   "execution_count": 11,
   "id": "empty-tamil",
   "metadata": {
    "tags": []
   },
   "outputs": [
    {
     "name": "stdout",
     "output_type": "stream",
     "text": [
      "CPU times: user 72.3 ms, sys: 2.91 ms, total: 75.2 ms\n",
      "Wall time: 73.8 ms\n"
     ]
    }
   ],
   "source": [
    "%time sum = sum_integers(1000000)"
   ]
  },
  {
   "cell_type": "markdown",
   "id": "residential-protocol",
   "metadata": {},
   "source": [
    "::: {.callout-note icon=false}\n",
    "##  Keypoints\n",
    "\n",
    "- Finite difference methods have two sources of error\n",
    "- Computers have inherent limitations that lead to rounding errors\n",
    "- Do not test for the equality of two floats\n",
    "- The finite difference discretisation error is associated with step size  ℎ\n",
    "- It is possible to make the step size  ℎ  too smal\n",
    "- Use the `%time` magic to measure the length of time a Jupyter Notebook cell takes to run \n",
    ":::"
   ]
  }
 ],
 "metadata": {
  "kernelspec": {
   "display_name": "Python 3 (ipykernel)",
   "language": "python",
   "name": "python3"
  },
  "language_info": {
   "codemirror_mode": {
    "name": "ipython",
    "version": 3
   },
   "file_extension": ".py",
   "mimetype": "text/x-python",
   "name": "python",
   "nbconvert_exporter": "python",
   "pygments_lexer": "ipython3",
   "version": "3.10.10"
  }
 },
 "nbformat": 4,
 "nbformat_minor": 5
}
