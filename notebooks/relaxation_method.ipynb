{
 "cells": [
  {
   "cell_type": "markdown",
   "id": "stable-questionnaire",
   "metadata": {},
   "source": [
    "---\n",
    "title: \"Relaxation method\"\n",
    "format:\n",
    "  ipynb: default\n",
    "  html:\n",
    "    code-fold: false\n",
    "jupyter: python3\n",
    "---  "
   ]
  },
  {
   "cell_type": "markdown",
   "id": "raised-authentication",
   "metadata": {},
   "source": [
    "::: {.callout-note icon=false}\n",
    "## Questions\n",
    "\n",
    "- How do I use the relaxation method to solve Laplace's equation?\n",
    ":::\n",
    "\n",
    "::: {.callout-note icon=false}\n",
    "##  Objectives\n",
    "\n",
    "- Use the finite difference method to convert Laplace's equation into a set of linear simultaneous equations\n",
    "- Use the relaxation method to solve Laplace's equation\n",
    ":::\n"
   ]
  },
  {
   "cell_type": "markdown",
   "id": "stuck-lemon",
   "metadata": {},
   "source": [
    "### The method of finite differences is often used to solve partial differential equations\n",
    "\n",
    "Consider the two-dimensional Laplace equation for the electric potential $\\phi$ subject to appropriate boundary conditions:\n",
    "\n",
    "\\begin{equation}\n",
    "\\frac{\\partial^2\\phi}{\\partial x^2} + \\frac{\\partial^2\\phi}{\\partial y^2} = 0\n",
    "\\end{equation}\n",
    "\n",
    "Real physical problems are in three dimensions, but we can more easily visualise the method of finite differences - and the extension to three dimensions is straight forward."
   ]
  },
  {
   "cell_type": "markdown",
   "id": "infinite-andrew",
   "metadata": {},
   "source": [
    "The method of finite differences, which has already been introduced earlier in the course, involves dividing the space into a grid of discrete points $[x,y]$ and calculating numerical derivatives or at each of these points. \n",
    "\n",
    "<figure>\n",
    "<img src=\"../images/electrostatics2.png\" width=\"200\" >\n",
    "</figure> \n",
    "    \n",
    "In this case we consider a 2-dimensional sheet with a fixed voltage $V$ at the top side, and all other sides fixed at $0V$.  \n",
    "\n",
    "As a quick recap from what was learnt earlier in the course, we can express the Laplacian in two dimensions using finite differences:\n",
    "\n",
    "\\begin{equation}\n",
    "\\frac{\\partial ^2f}{\\partial x^2} + \\frac{\\partial ^2f}{\\partial y^2} \\simeq \\frac{f(x+h,y)+f(x-h,y)+f(x,y+h)+f(x,y-h)-4f(x,y)}{h^2},\n",
    "\\end{equation}\n",
    "\n",
    "The expression above is known as a <mark>five-point stencil</mark> as it uses five points to calculate the Laplacian."
   ]
  },
  {
   "cell_type": "markdown",
   "id": "possible-parade",
   "metadata": {},
   "source": [
    "### The finite difference method turns our partial differential equation into a set of linear simulatenous equation\n",
    "\n",
    "Returning to our Laplace equation for for the electric potential $\\phi$:\n",
    "\n",
    "\\begin{equation}\n",
    "\\frac{\\partial^2\\phi}{\\partial x^2} + \\frac{\\partial^2\\phi}{\\partial y^2} = 0\n",
    "\\end{equation}\n",
    "\n",
    "<figure>\n",
    "<img src=\"../images/electrostatics2.png\" width=\"200\" >\n",
    "</figure>\n",
    "    \n",
    "The numerical Laplacian can be substituted into the equation above, giving us a set of $n$ simulatenous equations for the $n$ grid points.\n",
    "\n",
    "\\begin{equation}\n",
    " \\frac{\\phi(x+h,y)+\\phi(x-h,y)+\\phi(x,y+h)+\\phi(x,y-h)-4\\phi(x,y)}{h^2} = 0,\n",
    "\\end{equation}\n",
    "\n",
    "where $h$ is the distance between each grid point. \n",
    "\n",
    "### To  solve this set of equations we use the relaxation method\n",
    "\n",
    "To calculate $\\phi(x,y)$ we use the relaxation method, also known as the Jacobi method in the context of the Laplace equation.\n",
    "First we re-arrange the equation above:\n",
    "\n",
    "\\begin{equation}\n",
    " \\phi(x,y)=\\frac{1}{4}\\left(\\phi(x+h,y)+\\phi(x-h,y)+\\phi(x,y+h)+\\phi(x,y-h)\\right).\n",
    "\\end{equation}\n",
    "\n",
    "<mark> Note that because we set the Laplacian equal to zero in Equation 3 (for this particular example), the $h^2$ term has dropped out of the expression - this might not be the case for other examples. </mark>\n",
    "\n",
    "This tells us that $\\phi(x,y)$ is the average of the surrounding grid points, which can be represented visually as:\n",
    "\n",
    "<figure>\n",
    "<img src=\"../images/electrostatics3.png\" width=\"200\" >\n",
    "</figure>\n",
    "\n",
    " Second, we fix $\\phi(x,y)$ at the boundaries using the boundary conditions. Third, we guess the initial values of the interior $\\phi(x,y)$ points - our guesses do not need to be good, and can be zero.\n",
    " \n",
    "Finally we use Equation 4 to calculate new values of $\\phi'(x,y)$ at all points in space. We take these new $\\phi'(x,y)$ values and feed them into Equation 4 again to calculate new values. We repeat this iterative process until the $\\phi(x,y)$ values converge, and that is our solution.\n",
    "\n",
    "Convergence can be tested by specifying what the maximum difference should be between iterations. For example, that $\\phi'(x,y)-\\phi(x,y)< 1e-5$ for all grid points.\n",
    "\n",
    "### The relaxation method is limited by the accuracy of the finite difference method\n",
    "\n",
    "- For solving PDEs we use the finite difference method (as part of the relaxation method).\n",
    "- Even if we use a very small target accuracy for convergence of the relaxation method, our accuracy will still be limited by the finite differences. Higher-order finite difference methods (such as the 5-point or 7-point methods) can be used here to improve the overrall accuracy of the calculation."
   ]
  },
  {
   "cell_type": "markdown",
   "id": "contemporary-medicaid",
   "metadata": {},
   "source": [
    "### The relaxation methods can be applied using the Python skills we have developed\n",
    "\n",
    "We will now use our Python Skillz to solve Laplace's equation with the boundary conditions outlined above. Let's also imagine that the sheet is 1m along each side and that we want a grid spacing of 1cm. First let's import the libraries we will use:"
   ]
  },
  {
   "cell_type": "code",
   "execution_count": 95,
   "id": "available-harbor",
   "metadata": {},
   "outputs": [],
   "source": [
    "import numpy as np\n",
    "import matplotlib.pyplot as plt"
   ]
  },
  {
   "cell_type": "markdown",
   "id": "offshore-phone",
   "metadata": {},
   "source": [
    "Now let's specify our simulation parameters..."
   ]
  },
  {
   "cell_type": "code",
   "execution_count": 96,
   "id": "forbidden-triangle",
   "metadata": {},
   "outputs": [],
   "source": [
    "grid_width = 101 # number of grid points for width of simulation\n",
    "grid_height = 101 # number of grid points for height of simulation\n",
    "target = 1e-6 # target accuracy to complete convergence"
   ]
  },
  {
   "cell_type": "markdown",
   "id": "convinced-mapping",
   "metadata": {},
   "source": [
    "...and our boundary conditions:"
   ]
  },
  {
   "cell_type": "code",
   "execution_count": 97,
   "id": "behavioral-distributor",
   "metadata": {},
   "outputs": [],
   "source": [
    "V_top = 1.0 # top wall voltage, in volts\n",
    "V_left = 0.0 # left wall voltage\n",
    "V_right = 0.0 # right wall voltage\n",
    "V_bottom = 0.0 # bottom wall voltage"
   ]
  },
  {
   "cell_type": "markdown",
   "id": "qualified-scale",
   "metadata": {},
   "source": [
    "Next let's create a NumPy array to hold our $\\phi(x,y)$ and $\\phi'(x,y)$ values:"
   ]
  },
  {
   "cell_type": "code",
   "execution_count": 98,
   "id": "composite-madagascar",
   "metadata": {},
   "outputs": [],
   "source": [
    "phi = np.zeros([grid_height,grid_width], float)\n",
    "phi_prime = np.empty([grid_height,grid_width], float)"
   ]
  },
  {
   "cell_type": "markdown",
   "id": "occupational-leather",
   "metadata": {},
   "source": [
    "Now we apply the boundary conditions to our array:"
   ]
  },
  {
   "cell_type": "code",
   "execution_count": 99,
   "id": "cellular-documentation",
   "metadata": {},
   "outputs": [],
   "source": [
    "phi[0,:] = V_top"
   ]
  },
  {
   "cell_type": "markdown",
   "id": "super-surgeon",
   "metadata": {},
   "source": [
    "Now we write a function which uses the finite difference method to calculate an updated $\\phi'(x,y)$ ."
   ]
  },
  {
   "cell_type": "code",
   "execution_count": 100,
   "id": "certified-plate",
   "metadata": {},
   "outputs": [],
   "source": [
    "def finite_difference(phi):\n",
    "\n",
    "    for i in range(grid_height): # for each grid point\n",
    "        for j in range(grid_width):\n",
    "            if i==0 or i==grid_height-1 or j==0 or j==grid_width-1:\n",
    "                phi_prime[i,j] = phi[i,j] # if at boundary, keep fixed\n",
    "            else: # otherwise apply finite difference\n",
    "                phi_prime[i,j] = (phi[i+1,j]+phi[i-1,j]+phi[i,j+1]+phi[i,j-1]) / 4\n",
    "    \n",
    "    return phi_prime"
   ]
  },
  {
   "cell_type": "markdown",
   "id": "chronic-rally",
   "metadata": {},
   "source": [
    "Finally let's use the relaxation method. We repeatedly call the function `finite_difference` until all values of $\\phi(x,y)$ are converged. "
   ]
  },
  {
   "cell_type": "code",
   "execution_count": 101,
   "id": "common-monitoring",
   "metadata": {},
   "outputs": [],
   "source": [
    "delta = 1.0 # create delta. It can take any value larger than the target accuracy\n",
    "\n",
    "while delta > 1e-6:  # keep running the following code until delta < 1e-6\n",
    "    phi_prime = finite_difference(phi)  # calculate phi_prime\n",
    "    delta = np.max(np.abs(phi-phi_prime)) # calculate the maximum difference between phi and phi_prime\n",
    "    phi,phi_prime = phi_prime,phi # Swap phi and phi-prime, ready for the next iteration"
   ]
  },
  {
   "cell_type": "markdown",
   "id": "reflected-window",
   "metadata": {},
   "source": [
    "We can visualise our result using the function `matplotlib.pyplot.imshow` which displays our data as an image:\n"
   ]
  },
  {
   "cell_type": "code",
   "execution_count": 103,
   "id": "emotional-soccer",
   "metadata": {},
   "outputs": [
    {
     "data": {
      "text/plain": [
       "<matplotlib.image.AxesImage at 0x7ffd66d69e10>"
      ]
     },
     "execution_count": 103,
     "metadata": {},
     "output_type": "execute_result"
    },
    {
     "data": {
      "image/png": "[encoded data removed]",
      "text/plain": [
       "<Figure size 432x288 with 1 Axes>"
      ]
     },
     "metadata": {
      "needs_background": "light"
     },
     "output_type": "display_data"
    }
   ],
   "source": [
    "plt.imshow(phi_prime)"
   ]
  },
  {
   "cell_type": "markdown",
   "id": "inside-australian",
   "metadata": {},
   "source": [
    "This result makes sense: there is a region of high electric potential around the top side of the sheet, where the voltage is fixed at 1V, and regions of low potential around the other three walls. If we would like a colour bar to indicate the $\\phi(x,y)$ values across the image then we can use the function `matplotlib.pyplot.contourf` to produce a filled contour plot. Note that this function flips our image (plotting the values held in the array from left to right, top to bottom) so we use `numpy.flip` to achieve the expected result."
   ]
  },
  {
   "cell_type": "code",
   "execution_count": 106,
   "id": "ethical-inclusion",
   "metadata": {},
   "outputs": [
    {
     "data": {
      "image/png": "[encoded data removed]",
      "text/plain": [
       "<Figure size 432x288 with 2 Axes>"
      ]
     },
     "metadata": {
      "needs_background": "light"
     },
     "output_type": "display_data"
    }
   ],
   "source": [
    "plt.contourf(np.flip(phi_prime),levels=np.linspace(0,1,101))\n",
    "plt.colorbar().set_label(\"Electric potential\")"
   ]
  },
  {
   "cell_type": "markdown",
   "id": "congressional-ticket",
   "metadata": {},
   "source": [
    "::: {.callout-note icon=false}\n",
    "##  Keypoints\n",
    "\n",
    "- The finite difference method for numerical derivatives is often used to solve partial differential equations\n",
    "- The finite difference method turns our partial differential equation into a set of linear simulatenous equation\n",
    "- To solve this set of equations we use the relaxation method\n",
    "- The relaxation method is limited by the accuracy of the finite difference method\n",
    "- The relaxation and finite difference methods can be applied using the Python skills we have developed\n",
    ":::"
   ]
  },
  {
   "cell_type": "markdown",
   "id": "50c7b19e-f0f6-4401-9c9f-309bf3fd474e",
   "metadata": {},
   "source": [
    "### Test your understanding\n",
    "\n",
    "::: {.callout-tip icon=false collapse=\"true\" appearance=\"simple\"}\n",
    "## Boundary conditions\n",
    "\n",
    "In this tutorial we implement a finite difference method to solve Laplace's equation. We use fixed boundary conditions, which are an example of [Dirichlet-type boundary conditions](https://math.libretexts.org/Bookshelves/Differential_Equations/Book%3A_Partial_Differential_Equations_(Walet)/03%3A_Boundary_and_Initial_Conditions/3.02%3A_Explicit_Boundary_Conditions). \n",
    "\n",
    "~~~python\n",
    "def finite_difference(phi):\n",
    "\n",
    "    for i in range(grid_height): # for each grid point\n",
    "        for j in range(grid_width):\n",
    "            if i==0 or i==grid_height-1 or j==0 or j==grid_width-1:\n",
    "                phi_prime[i,j] = phi[i,j] # if at boundary, keep fixed\n",
    "            else: # otherwise apply finite difference\n",
    "                phi_prime[i,j] = (phi[i+1,j]+phi[i-1,j]+phi[i,j+1]+phi[i,j-1]) / 4\n",
    "    \n",
    "    return phi_prime\n",
    "~~~\n",
    "\n",
    "Another form of boundary condition is a Periodic Boundary Condition. PBCs are often chosen for approximating a large (infinite) system by using a small part called a unit cell, and are most famously used for modelling periodic crystals in solid state physics. Mathematically, PBCs can be expressed for $f(x,y)$ on a two dimensional $N \\times N$ grid as:\n",
    "\n",
    "\\begin{equation}\n",
    "f[N+1,y] = f[0,y],\n",
    "\\end{equation}\n",
    "\n",
    "\\begin{equation}\n",
    "f[x,N+1] = f[x,0],\n",
    "\\end{equation}\n",
    "\n",
    "Write a function which calculates `phi_prime` using a finite difference method with periodic boundary conditions.\n",
    "\n",
    "::: {.callout-tip icon=false collapse=\"true\" appearance=\"simple\"}\n",
    "## Show answer\n",
    "    \n",
    "~~~python\n",
    "def finite_difference(phi):\n",
    "\n",
    "    for i in range(N): # for each grid point\n",
    "        for j in range(N):\n",
    "    \n",
    "            i1 = i+1\n",
    "            j1 = j+1\n",
    "            i2 = i-1\n",
    "            j2 = j-1\n",
    "            \n",
    "            if i == N-1:\n",
    "                i1 = 0\n",
    "            if i == 0:\n",
    "                i2 == N-1\n",
    "            if j == N-1:\n",
    "                j1 = 0\n",
    "            if j == 0:\n",
    "                j2 == N-1\n",
    "\n",
    "            phi_prime[i,j] = (phi[i1,j]+phi[i2,j]+phi[i,j1]+phi[i,j2]) / 4\n",
    "    \n",
    "    return phi_prime\n",
    "~~~\n",
    "\n",
    ":::\n",
    ":::"
   ]
  }
 ],
 "metadata": {
  "kernelspec": {
   "display_name": "Python 3 (ipykernel)",
   "language": "python",
   "name": "python3"
  },
  "language_info": {
   "codemirror_mode": {
    "name": "ipython",
    "version": 3
   },
   "file_extension": ".py",
   "mimetype": "text/x-python",
   "name": "python",
   "nbconvert_exporter": "python",
   "pygments_lexer": "ipython3",
   "version": "3.10.10"
  }
 },
 "nbformat": 4,
 "nbformat_minor": 5
}
