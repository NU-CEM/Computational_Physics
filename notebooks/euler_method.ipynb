{
 "cells": [
  {
   "cell_type": "markdown",
   "id": "lucky-millennium",
   "metadata": {},
   "source": [
    "---\n",
    "title: \"Euler's method\"\n",
    "format:\n",
    "  ipynb: default\n",
    "  html:\n",
    "    code-fold: false\n",
    "jupyter: python3\n",
    "---  "
   ]
  },
  {
   "cell_type": "markdown",
   "id": "attempted-aircraft",
   "metadata": {},
   "source": [
    "::: {.callout-note icon=false}\n",
    "## Questions\n",
    "\n",
    "- How do I use Euler's method to solve a first-order ODE?\n",
    "- What does the term first-order accurate mean?\n",
    ":::\n",
    "\n",
    "::: {.callout-note icon=false}\n",
    "##  Objectives\n",
    "\n",
    "- Use Euler's method, implemented in Python, to solve a first-order ODE\n",
    "- Understand that this method is approximate and the significance of step size $h$\n",
    "- Compare results at different levels of approximation using the `matplotlib` library.\n",
    ":::\n"
   ]
  },
  {
   "cell_type": "markdown",
   "id": "finnish-allergy",
   "metadata": {},
   "source": [
    "### There are a variety of ways to solve an ODE\n",
    "\n",
    "In the previous lesson we considered nuclear decay:\n",
    "\n",
    "\\begin{equation}\n",
    "\\frac{\\mathrm{d} N}{\\mathrm{d} t} = -\\lambda N\n",
    "\\end{equation}\n",
    "\n",
    "This is one of the simplest examples of am ODE - a first-order, linear, separable differential equation with one dependent variable. We saw that we could model the number of atoms $N$ by finding an analytic solution through integration:\n",
    "\n",
    "\\begin{equation}\n",
    "N = N_0 e^{-\\lambda t}\n",
    "\\end{equation}\n",
    "\n",
    "However there is more than one way to crack an egg (or solve a differential equation). We could have, instead, used an approximate, numerical method. One such method - Euler's method - is this subject of this lesson."
   ]
  },
  {
   "cell_type": "markdown",
   "id": "shaped-southwest",
   "metadata": {},
   "source": [
    "### A function can be approximated using a Taylor expansion\n",
    "\n",
    "The Taylor series is a polynomial expansion of a function about a point.\n",
    "For example, the image below shows $\\mathrm{sin}(x)$ and its Taylor approximation by polynomials of degree 1, 3, 5, 7, 9, 11, and 13 at $x = 0$. \n",
    "\n",
    "<figure>\n",
    "<img src=\"../images/Sintay_SVG.svg\" width=500 />\n",
    "    <figcaption> Credit: Image By IkamusumeFan - CC BY-SA 3.0, https://commons.wikimedia.org/w/index.php?curid=27865201</figcaption>\n",
    "</figure>\n",
    "\n",
    "The Taylor series of $f(x)$ evaluated at point $a$ can be expressed as:\n",
    "\n",
    "\\begin{equation}\n",
    "f(x) = f(a) + \\frac{\\mathrm{d} f}{\\mathrm{d} x}(x-a) + \\frac{1}{2!} \\frac{\\mathrm{d} ^2f}{\\mathrm{d} x^2}(x-a)^2 + \\frac{1}{3!} \\frac{\\mathrm{d} ^3f}{\\mathrm{d} x^3}(x-a)^3\n",
    "\\end{equation}\n",
    "\n"
   ]
  },
  {
   "cell_type": "markdown",
   "id": "sharing-keeping",
   "metadata": {},
   "source": [
    "Returning to our example of nuclear decay, we can use a <mark>Taylor expansion</mark> to write the value of $N$ a short interval $h$ later:\n",
    "\n",
    "\\begin{equation}\n",
    "N(t+h) = N(t) + h\\frac{\\mathrm{d}N}{\\mathrm{d}t} + \\frac{1}{2}h^2\\frac{\\mathrm{d}^2N}{\\mathrm{d}t^2} + \\ldots\n",
    "\\end{equation}\n",
    "\n",
    "\\begin{equation}\n",
    "N(t+h) = N(t) + hf(N,t) + \\mathcal{O}(h^2)\n",
    "\\end{equation}"
   ]
  },
  {
   "cell_type": "markdown",
   "id": "active-reconstruction",
   "metadata": {},
   "source": [
    "::: {.callout-note}\n",
    "If you want to know more about Taylor expansion, there is an excellent video explanation from user `3blue1brown` on Youtube, a link is provided under external resources.\n",
    ":::"
   ]
  },
  {
   "cell_type": "markdown",
   "id": "robust-threat",
   "metadata": {},
   "source": [
    "### If the step size $h$ is small then higher  order terms can be neglected\n",
    "\n",
    "If $h$ is small and $h^2$ is very small we can neglect the terms in $h^2$ and higher and we get:\n",
    "\n",
    "\\begin{equation}\n",
    "N(t+h) = N(t) + hf(N,t).\n",
    "\\end{equation}\n",
    "\n"
   ]
  },
  {
   "cell_type": "markdown",
   "id": "naval-julian",
   "metadata": {},
   "source": [
    "### Euler's method can be used to approximate the solution of differential equations\n",
    "\n",
    "We can keep applying the equation above so that we calculate $N(t)$ at a succession of equally spaced points for as  long as we want. If $h$ is small enough we can get a good approximation to the solution of the equation. This method for solving differential equations is called Euler's method, after Leonhard Euler, its inventor.\n",
    "\n",
    "![](../images/Euler_method.png)"
   ]
  },
  {
   "cell_type": "markdown",
   "id": "small-findings",
   "metadata": {},
   "source": [
    "::: {.callout-note}\n",
    "Although we are neglecting terms $h^2$ and higher, Euler's method typically has an error linear in $h$ as the error accumulates over repeated steps. This means that if we want to double the accuracy of our calculation we need to double the number of steps, and double the calcuation time.\n",
    ":::"
   ]
  },
  {
   "cell_type": "markdown",
   "id": "innocent-acting",
   "metadata": {},
   "source": [
    "::: {.callout-note}\n",
    "So far we have looked at an example where the input (or independent variable) is time. This isn't always the case - but it is the most common case in physics, as we are often interested in how things evolve with time.\n",
    ":::"
   ]
  },
  {
   "cell_type": "markdown",
   "id": "subject-capture",
   "metadata": {},
   "source": [
    "### Euler's method can be applied using the Python skills we have developed\n",
    "\n",
    "Let's use Euler's method to solve the differential equation for nuclear decay. We will model the decay process over a period of 10 seconds, with the decay constant $\\lambda=0.1$ and the initial condition $N_0 = 1000$.\n",
    "\n",
    "\\begin{equation}\n",
    "\\frac{\\mathrm{d}N}{\\mathrm{d} t} = -0.1 N\n",
    "\\end{equation}\n"
   ]
  },
  {
   "cell_type": "markdown",
   "id": "loose-developer",
   "metadata": {},
   "source": [
    "First, let's import the standard scientific libraries we will be using - Numpy and  Matplotlib:"
   ]
  },
  {
   "cell_type": "code",
   "execution_count": 4,
   "id": "south-repeat",
   "metadata": {},
   "outputs": [],
   "source": [
    "import numpy as np\n",
    "import matplotlib.pyplot as plt"
   ]
  },
  {
   "cell_type": "markdown",
   "id": "defined-rwanda",
   "metadata": {},
   "source": [
    "Let's definte the function $f(N,t)$ which describes the rate of decay. In this case, the function depends only on the number of atoms present."
   ]
  },
  {
   "cell_type": "code",
   "execution_count": 5,
   "id": "likely-vaccine",
   "metadata": {},
   "outputs": [],
   "source": [
    "# define the function for nuclear decay\n",
    "def f(Num_atoms):\n",
    "    return -0.1*Num_atoms"
   ]
  },
  {
   "cell_type": "markdown",
   "id": "harmful-japan",
   "metadata": {},
   "source": [
    "Next we'll list the simulation parameters and initial conditions: start time, end time, number of starting atoms (which is an initial condition), number of time steps and step size (which is calculated using the number of time steps)."
   ]
  },
  {
   "cell_type": "code",
   "execution_count": 6,
   "id": "lonely-guinea",
   "metadata": {},
   "outputs": [],
   "source": [
    "a = 0                  # start time\n",
    "b = 10                 # end time\n",
    "Num_atoms = 1000       # initial condition\n",
    "num_steps = 5         # number of time steps\n",
    "h = (b-a) / num_steps  # time step size"
   ]
  },
  {
   "cell_type": "markdown",
   "id": "colonial-polish",
   "metadata": {},
   "source": [
    "We use the Numpy `arange` function to generate a list of evenly spaced times at which to evaluate the number of atoms. We also create  an empty list to hold the values for $N$ that we are yet to calculate."
   ]
  },
  {
   "cell_type": "code",
   "execution_count": 7,
   "id": "fabulous-cruise",
   "metadata": {},
   "outputs": [],
   "source": [
    "# use the Numpy arange function to generate a list of evenly spaced times at which to evaluate the number of atoms N.\n",
    "time_list = np.arange(a,b,h)\n",
    "\n",
    "# create an empty list to hold the calculated N values\n",
    "Num_atoms_list = []"
   ]
  },
  {
   "cell_type": "markdown",
   "id": "subject-schema",
   "metadata": {},
   "source": [
    "Finally, we apply Euler's method using a `For` loop. Note that the order of operations in the loop body is important."
   ]
  },
  {
   "cell_type": "code",
   "execution_count": 8,
   "id": "hybrid-mortgage",
   "metadata": {},
   "outputs": [],
   "source": [
    "# apply Euler's method. Note that the order of operations in the loop body is important.\n",
    "for time in time_list:\n",
    "    Num_atoms_list.append(Num_atoms)\n",
    "    Num_atoms += h*f(Num_atoms)"
   ]
  },
  {
   "cell_type": "markdown",
   "id": "collective-hawaiian",
   "metadata": {},
   "source": [
    "### We can easily visualise our results, and compare against the analytical solution, using the `matplotlib` plotting library"
   ]
  },
  {
   "cell_type": "code",
   "execution_count": 9,
   "id": "emerging-progressive",
   "metadata": {},
   "outputs": [
    {
     "data": {
      "image/png": "[encoded data removed]",
      "text/plain": [
       "<Figure size 432x288 with 1 Axes>"
      ]
     },
     "metadata": {
      "needs_background": "light"
     },
     "output_type": "display_data"
    }
   ],
   "source": [
    "plt.scatter(time_list, Num_atoms_list)\n",
    "plt.xlabel(\"time\")\n",
    "plt.ylabel(\"Number of atoms\")\n",
    "plt.show()"
   ]
  },
  {
   "cell_type": "markdown",
   "id": "experienced-release",
   "metadata": {},
   "source": [
    "Using the analytic solution from the previous lesson, we can define a function for calculating the number of atoms $N$ as a function of time (this is the exact solution)."
   ]
  },
  {
   "cell_type": "code",
   "execution_count": 10,
   "id": "younger-indie",
   "metadata": {},
   "outputs": [],
   "source": [
    "def analytic_solution(time):\n",
    "    return 1000*np.exp(-0.1*time)"
   ]
  },
  {
   "cell_type": "markdown",
   "id": "divine-relative",
   "metadata": {},
   "source": [
    "We can use this to calculate the exact value for $N$ over the full time range. Note that we use a large number of points in time (in this case 1000) to give a nice smooth curve:"
   ]
  },
  {
   "cell_type": "code",
   "execution_count": 45,
   "id": "criminal-insertion",
   "metadata": {},
   "outputs": [],
   "source": [
    "num_steps = 1000\n",
    "h = (b-a) / num_steps\n",
    "time_analytic_list = np.arange(a,b,h)\n",
    "Num_atoms_analytic_list = []\n",
    "\n",
    "for time in time_analytic_list:\n",
    "    Num_atoms_analytic_list.append(analytic_solution(time))"
   ]
  },
  {
   "cell_type": "markdown",
   "id": "unnecessary-jungle",
   "metadata": {},
   "source": [
    "Finally, we plot the approximate Euler method results against the exact analytical solution:"
   ]
  },
  {
   "cell_type": "code",
   "execution_count": 46,
   "id": "adjacent-editing",
   "metadata": {},
   "outputs": [
    {
     "data": {
      "text/plain": [
       "Text(0, 0.5, 'Number of atoms')"
      ]
     },
     "execution_count": 46,
     "metadata": {},
     "output_type": "execute_result"
    },
    {
     "data": {
      "image/png": "[encoded data removed]",
      "text/plain": [
       "<Figure size 432x288 with 1 Axes>"
      ]
     },
     "metadata": {
      "needs_background": "light"
     },
     "output_type": "display_data"
    }
   ],
   "source": [
    "plt.plot(time_analytic_list,Num_atoms_analytic_list)\n",
    "plt.scatter(time_list, Num_atoms_list)\n",
    "plt.xlabel(\"time\")\n",
    "plt.ylabel(\"Number of atoms\")"
   ]
  },
  {
   "cell_type": "markdown",
   "id": "lined-array",
   "metadata": {},
   "source": [
    "We can see that the error is increasing over time. We can calculate the error at $t=8$:"
   ]
  },
  {
   "cell_type": "code",
   "execution_count": 16,
   "id": "framed-situation",
   "metadata": {
    "scrolled": true,
    "tags": []
   },
   "outputs": [
    {
     "name": "stdout",
     "output_type": "stream",
     "text": [
      "Analytic solution at t=8:  449\n",
      "Numerical solution at t=8:  410\n",
      "Error is:  40\n"
     ]
    }
   ],
   "source": [
    "print(\"Analytic solution at t=8: \",round(analytic_solution(8)))\n",
    "print(\"Numerical solution at t=8: \",round(Num_atoms_list[-1]))\n",
    "print(\"Error is: \",round(analytic_solution(8)-Num_atoms_list[-1]))"
   ]
  },
  {
   "cell_type": "markdown",
   "id": "9425e22f",
   "metadata": {
    "tags": []
   },
   "source": [
    "### Euler's method is a first-order method accurate to order $h$.\n",
    "\n",
    "- Numerical methods give *approximate* solutions.\n",
    "- Euler's method neglects the term in $h^2$ and higher:\n",
    "\\begin{equation}\n",
    "x(t+h) = x(t)+hf(x,t)+\\mathcal{O}(h^2)\n",
    "\\end{equation}\n",
    "- This tells us the error introduced on a single step of the method is proportional to $h^2$ - this makes Euler's method  a <mark> first-order </mark> method, accurate to order $h$.\n",
    "- However the cumulative error over several steps is proportional to $h$ \n",
    "- So to make our error half as large we need to double the number of steps (halve the step size) and double the length of the calculation."
   ]
  },
  {
   "cell_type": "markdown",
   "id": "russian-logistics",
   "metadata": {},
   "source": [
    "::: {.callout-note icon=false}\n",
    "##  Keypoints\n",
    "\n",
    "- There are a variety of ways to solve an ODE\n",
    "- A function can be approximated using a Taylor expansion\n",
    "- If the step size $h$ is small then higher  order terms can be neglected\n",
    "- Euler's method can be used to approximate the solution of differential equations\n",
    "- Euler's method can be applied using the Python skills we have developed\n",
    "- We can easily visualise our results, and compare against the analytical solution, using the matplotlib plotting library\n",
    "- Euler's method is a first-order method accurate to order $h$.\n",
    ":::"
   ]
  }
 ],
 "metadata": {
  "kernelspec": {
   "display_name": "Python 3 (ipykernel)",
   "language": "python",
   "name": "python3"
  },
  "language_info": {
   "codemirror_mode": {
    "name": "ipython",
    "version": 3
   },
   "file_extension": ".py",
   "mimetype": "text/x-python",
   "name": "python",
   "nbconvert_exporter": "python",
   "pygments_lexer": "ipython3",
   "version": "3.10.10"
  }
 },
 "nbformat": 4,
 "nbformat_minor": 5
}
