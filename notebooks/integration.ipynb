{
 "cells": [
  {
   "cell_type": "raw",
   "id": "f5f02966-4d04-4e4a-80d0-64b3d983c2ca",
   "metadata": {},
   "source": [
    "---\n",
    "title: \"Riemann sums\"\n",
    "format:\n",
    "  html:\n",
    "    code-fold: false\n",
    "jupyter: python3\n",
    "---  "
   ]
  },
  {
   "cell_type": "markdown",
   "id": "5ad4c5de",
   "metadata": {},
   "source": [
    "::: {.callout-note icon=false}\n",
    "## Questions\n",
    "* How can I do basic numerical integration?\n",
    ":::"
   ]
  },
  {
   "cell_type": "markdown",
   "id": "f43e6aa4",
   "metadata": {},
   "source": [
    "::: {.callout-note icon=false}\n",
    "##  Objectives\n",
    "* Use the rectangular-slice approximation to calculate integrals\n",
    "* Describe the difference between a zeroth-order and first-order integration rule\n",
    ":::"
   ]
  },
  {
   "cell_type": "markdown",
   "id": "1e221eac",
   "metadata": {},
   "source": [
    "### Depending on the functional form of f(x), it may not be possible to calculate an integral analytically\n",
    "\n",
    "The integral of $f(x)$ from $a$ to $b$ is the area under the curve. Depending on the functional\n",
    "form of $f(x)$, it may not be possible to calculate the integral analytically.\n",
    "\n",
    "<figure>\n",
    "<img src=\"../images/integration.png\" width=500 />\n",
    "</figure>\n",
    "\n",
    "### Riemann sums are a family of methods used for approximating integrals\n",
    "\n",
    "The Riemann definition of the integral $I$ is:\n",
    "\n",
    "$$ I = \\lim_{n\\to\\infty} \\sum_{i=1}^N h f(x_i)$$\n",
    "\n",
    "where the domain of integration has been split into $N$ slices, each with width $h = \\frac{b-a}{N}$.\n",
    "As we cannot in practice consider an infinite number of slices, this definition will give an approximation to the exact answer. By making $N$ large are approximation will, in many cases, be reasonable.\n",
    "\n",
    "### The simplest Riemann sum is based on rectangular slices\n",
    "\n",
    "The simplest way to use this approach is to calculate $f(x_i)$ at some point on each slice and then calculate the area of the associated rectangle:\n",
    "\n",
    "$$ A_i = hf(x_i)$$\n",
    "\n",
    "The integral is given by summing over all of the rectangles:\n",
    "\n",
    "$$ \\int_a^b f(x_i) dx \\approx \\sum_{i=1}^N A_i $$\n",
    "\n",
    "<figure>\n",
    "<img src=\"../images/integration2.png\" width=500 />\n",
    "</figure>\n",
    " \n",
    "### The rectangular slices method can be translated to Python code in a straight-forward manner\n",
    "\n",
    "For example, we may want to calculate the integral of $\\sin(x)$ from 0 to $\\frac{\\pi}{2}$. This is an integral that can be evaluated analytically, so it doesn't usually make sense to calculate numerically - however, in this case, we can use it to establish that our method is correct."
   ]
  },
  {
   "cell_type": "code",
   "execution_count": 2,
   "id": "e5414535",
   "metadata": {},
   "outputs": [],
   "source": [
    "import math\n",
    "\n",
    "def sin(x):\n",
    "    \n",
    "    return math.sin(x)\n",
    "\n",
    "def rectangular_slice_integral(f_x, a, b, N):\n",
    "    \n",
    "    integral = 0\n",
    "    h = (b-a) / N   # h is the width of each slice\n",
    "    for i in range(N):\n",
    "        x = a + h*i # the x value for the slice\n",
    "        integral += f_x(x)*h\n",
    "    return integral"
   ]
  },
  {
   "cell_type": "markdown",
   "id": "b57b78ad",
   "metadata": {},
   "source": [
    "Note that the function `rectangular_slice_integral` has an argument `f_x` which is itself a function. This is valid Python - you can pass one function to another function as an argument."
   ]
  },
  {
   "cell_type": "code",
   "execution_count": 3,
   "id": "c902c3a5",
   "metadata": {},
   "outputs": [
    {
     "data": {
      "text/plain": [
       "0.9921254566056334"
      ]
     },
     "execution_count": 3,
     "metadata": {},
     "output_type": "execute_result"
    }
   ],
   "source": [
    "rectangular_slice_integral(sin,0,math.pi/2,100)"
   ]
  },
  {
   "cell_type": "markdown",
   "id": "1be696e7",
   "metadata": {},
   "source": [
    "In fact, it is possible to pass the `math.sin()` function directly to `rectangular_slice_integral()`:"
   ]
  },
  {
   "cell_type": "code",
   "execution_count": 4,
   "id": "15f7caf4",
   "metadata": {},
   "outputs": [
    {
     "data": {
      "text/plain": [
       "0.9921254566056334"
      ]
     },
     "execution_count": 4,
     "metadata": {},
     "output_type": "execute_result"
    }
   ],
   "source": [
    "rectangular_slice_integral(math.sin,0,math.pi/2,100)"
   ]
  },
  {
   "cell_type": "markdown",
   "id": "b1b34295",
   "metadata": {},
   "source": [
    "This is pretty close to the correct value of 1. To improve our approximation we can increase the number of slices: "
   ]
  },
  {
   "cell_type": "code",
   "execution_count": 5,
   "id": "8f8f21f6",
   "metadata": {},
   "outputs": [
    {
     "data": {
      "text/plain": [
       "0.9960678687587687"
      ]
     },
     "execution_count": 5,
     "metadata": {},
     "output_type": "execute_result"
    }
   ],
   "source": [
    "rectangular_slice_integral(math.sin,0,math.pi/2,200)"
   ]
  },
  {
   "cell_type": "markdown",
   "id": "174f9680",
   "metadata": {},
   "source": [
    "<mark> The Riemann sums method a zeroth-order integration rule that will integrate a zeroth-order polynomial (ie, constant number) exactly. It has an error of order $h$ ($\\mathcal{O}(h)$) - when we halve the rectangular width, we halve the error. </mark>"
   ]
  },
  {
   "cell_type": "markdown",
   "id": "4b8a6795",
   "metadata": {},
   "source": [
    "### Riemann sums can be adapted for use with discrete data\n",
    "\n",
    "Not all integrations are integrations of functions. For example, we may want to integrate experimental data, in which case there is no function to call to find the value of f(x). Instead, the most likely form of f(x) is given by the list of data values. In this case we can use the same method, but the implementation is slightly different:"
   ]
  },
  {
   "cell_type": "code",
   "execution_count": 6,
   "id": "852358f2",
   "metadata": {},
   "outputs": [],
   "source": [
    "def rectangular_slice_integral_discrete(data, h):\n",
    "    \n",
    "    return h*sum(data)"
   ]
  },
  {
   "cell_type": "markdown",
   "id": "03c6f19f",
   "metadata": {},
   "source": [
    "<mark> Note that this assumes the data is evenly spaced at width $h$ </mark>. \n",
    "\n",
    "To test our function using the same example as above we need to generate a list of sin(x) values between 0 to $\\frac{\\pi}{2}$:"
   ]
  },
  {
   "cell_type": "code",
   "execution_count": 13,
   "id": "c3bd4d6b",
   "metadata": {},
   "outputs": [],
   "source": [
    "import numpy as np\n",
    "\n",
    "h = (math.pi/2)/100\n",
    "sin_0_90 = [math.sin(x) for x in np.arange(0,math.pi/2,h)]"
   ]
  },
  {
   "cell_type": "markdown",
   "id": "623a4ff2",
   "metadata": {},
   "source": [
    "where we are using [Python list comprehension](https://realpython.com/list-comprehension-python/#using-list-comprehensions) and the Numpy arange function to generate a list of evenly spaced floats. \n",
    "\n",
    "If we are simulating experimental data we should add a little noise or randomness to the data. We can use the Python standard library `random` and list comprehension to do this:\n"
   ]
  },
  {
   "cell_type": "code",
   "execution_count": 14,
   "id": "0ece98ee",
   "metadata": {},
   "outputs": [],
   "source": [
    "import random\n",
    "\n",
    "sin_0_90_noise = [x+random.uniform(-0.1,0.1) for x in sin_0_90]"
   ]
  },
  {
   "cell_type": "markdown",
   "id": "3afb592b",
   "metadata": {},
   "source": [
    "\n",
    "We can now pass this list to our function `rectangular_slice_integral_discrete`:"
   ]
  },
  {
   "cell_type": "code",
   "execution_count": 15,
   "id": "7e12c7c1",
   "metadata": {},
   "outputs": [
    {
     "data": {
      "text/plain": [
       "1.0094729791206596"
      ]
     },
     "execution_count": 15,
     "metadata": {},
     "output_type": "execute_result"
    }
   ],
   "source": [
    "rectangular_slice_integral_discrete(sin_0_90_noise, h)"
   ]
  },
  {
   "cell_type": "markdown",
   "id": "e2cce29b",
   "metadata": {},
   "source": [
    "We can visualise the exact sinusoidal curve and noisy sinusoidal curve using the `matplotlib` plotting library:"
   ]
  },
  {
   "cell_type": "code",
   "execution_count": 18,
   "id": "d67d0cf4",
   "metadata": {},
   "outputs": [
    {
     "data": {
      "text/plain": [
       "[<matplotlib.lines.Line2D at 0x7fb8ee509730>]"
      ]
     },
     "execution_count": 18,
     "metadata": {},
     "output_type": "execute_result"
    },
    {
     "data": {
      "image/png": "[encoded data removed]",
      "text/plain": [
       "<Figure size 432x288 with 1 Axes>"
      ]
     },
     "metadata": {
      "needs_background": "light"
     },
     "output_type": "display_data"
    }
   ],
   "source": [
    "import matplotlib.pyplot as plt\n",
    "\n",
    "plt.plot(np.arange(0,math.pi/2,h),sin_0_90,label=\"exact sine\")\n",
    "plt.plot(np.arange(0,math.pi/2,h),sin_0_90_noise,label=\"noisy sine\")"
   ]
  },
  {
   "cell_type": "markdown",
   "id": "3ca65c3c",
   "metadata": {},
   "source": [
    "### Higher-order Riemann sums increase the accuracy of our approximations\n",
    "\n",
    "We can greatly improve the efficiency of our integration by approximating the slices as trapezoids instead of as rectangles. This is because the area under the trapezoids is a considerably better approximation to the\n",
    "area under the curve.\n",
    "\n",
    "<mark> The trapezoidal rule a first-order integration rule that will integrate a first-order polynomial (ie, a straight line) exactly. We can say it is *accurate* to order $h$ ($\\mathcal{O}(h)$) and has an *error* of order $h^2$ $\\mathcal{O}(h^2)$ </mark>. \n",
    "\n",
    "<figure>\n",
    "<img src=\"../images/integration3.png\" width=500 />\n",
    "</figure>\n",
    "\n",
    "In many cases we can use Simpson's Rule for greater accuracy still. This technique involves fitting quadratic curves to pairs of slices and then calculating the area under the quadratics. In many cases Simpson's rule is more accurate than the trapezoidal rule, but this is not guaranteed for all integrands."
   ]
  },
  {
   "cell_type": "markdown",
   "id": "46b5bcfd",
   "metadata": {},
   "source": [
    "::: {.callout-note icon=false}\n",
    "##  Keypoints\n",
    "\n",
    "- Depending on the functional form of f(x), it may not be possible to calculate an integral analytically\n",
    "- Riemann sums are a family of methods used for approximating integral\n",
    "- The simplest Riemann sum is based on rectangular slices\n",
    "- The rectangular slices method can be translated to Python code in a straight-forward manner\n",
    "- Riemann sums can be adapted for use with discrete data\n",
    "- Higher-order Riemann sums increase the accuracy of our approximations\n",
    ":::"
   ]
  },
  {
   "cell_type": "markdown",
   "id": "d032ecdb",
   "metadata": {},
   "source": [
    "### Test your understanding\n",
    "\n",
    "::: {.callout-tip icon=false collapse=\"true\" appearance=\"simple\"}\n",
    "## Integrating a semicircle\n",
    "\n",
    "a) Use Riemann sums (with 100 rectangular slices) to calculate the value of the integral:\n",
    "\n",
    "$$ I = \\int_{-1}^1\\sqrt{1-x^2}\\mathrm{d}x $$\n",
    "\n",
    "b) How does this compare to exact answer? (Hint: the integrand is a semicircle of radius 1)\n",
    "\n",
    "c) How can you improve the accuracy of your estimate?\n",
    "\n",
    "::: {.callout-tip icon=false collapse=\"true\" appearance=\"simple\"}\n",
    "### Show answer\n",
    "    \n",
    "a) We can use the same approach as in the tutorial, but with a different function for calculating the integrand. \n",
    "  \n",
    "~~~python\n",
    "import math\n",
    "\n",
    "def semicircle(x):\n",
    "    \n",
    "    return math.sqrt(1-x**2)\n",
    "\n",
    "def rectangular_slice_integral(f_x, a, b, N):\n",
    "    \n",
    "    integral = 0\n",
    "    h = (b-a) / N   # h is the width of each slice\n",
    "    for i in range(N):\n",
    "        x = a + h*i # the x value for the slice\n",
    "        integral += f_x(x)*h\n",
    "    return integral\n",
    "    \n",
    "rectangular_slice_integral(semicircle, -1, 1, 100)\n",
    "~~~\n",
    "    \n",
    "~~~output\n",
    "1.5691342555492505\n",
    "~~~\n",
    "    \n",
    "b) The exact answer is $\\frac{\\pi}{2}$. The error on our calculation is\n",
    "    \n",
    "~~~python\n",
    "math.pi/2 - rectangular_slice_integral(semicircle, -1, 1, 100)\n",
    "~~~\n",
    "    \n",
    "~~~output\n",
    "0.0016620712456461018\n",
    "~~~\n",
    "    \n",
    "c) To improve the accuracy we can use a larger number of slices:\n",
    "    \n",
    "~~~python\n",
    "math.pi/2 - rectangular_slice_integral(semicircle, -1, 1, 1000)\n",
    "~~~\n",
    "\n",
    "~~~output\n",
    "5.2588293825595045e-05\n",
    "~~~  \n",
    "\n",
    ":::\n",
    ":::"
   ]
  }
 ],
 "metadata": {
  "kernelspec": {
   "display_name": "Python 3 (ipykernel)",
   "language": "python",
   "name": "python3"
  },
  "language_info": {
   "codemirror_mode": {
    "name": "ipython",
    "version": 3
   },
   "file_extension": ".py",
   "mimetype": "text/x-python",
   "name": "python",
   "nbconvert_exporter": "python",
   "pygments_lexer": "ipython3",
   "version": "3.10.10"
  }
 },
 "nbformat": 4,
 "nbformat_minor": 5
}
