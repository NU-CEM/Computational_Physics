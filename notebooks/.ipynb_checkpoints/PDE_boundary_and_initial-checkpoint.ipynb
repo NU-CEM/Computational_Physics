{
 "cells": [
  {
   "cell_type": "markdown",
   "id": "dutch-corrections",
   "metadata": {},
   "source": [
    "---\n",
    "title: \"Initial and boundary conditions\"\n",
    "format:\n",
    "  ipynb: default\n",
    "  html:\n",
    "    code-fold: false\n",
    "jupyter: python3\n",
    "---  "
   ]
  },
  {
   "cell_type": "markdown",
   "id": "original-concentration",
   "metadata": {},
   "source": [
    "::: {.callout-note icon=false}\n",
    "## Questions\n",
    "\n",
    "- When do I need boundary conditions and initial conditions?\n",
    ":::\n",
    "\n",
    "::: {.callout-note icon=false}\n",
    "##  Objectives\n",
    "\n",
    "- Identify boundary value problems and initial value problems\n",
    ":::\n",
    "\n"
   ]
  },
  {
   "cell_type": "markdown",
   "id": "conservative-bradford",
   "metadata": {},
   "source": [
    "### PDEs can have boundary conditions *and* initial conditions\n",
    "In the previous section of the course we learnt that ODEs have either initial values or boundary values. \n",
    "\n",
    "#### Boundary value problems\n",
    "\n",
    "PDEs can also be separated in a similar manner. <mark>Boundary value problems</mark> describe the behaviour of a variable in a space and we are given some constraints on the variable around the boundary of that space. For example, consider the 2-dimensional problem of a thin rectangular sheet with one side at voltage $V$ and all others at voltage zero.\n",
    "\n",
    "<figure>\n",
    "<img src=\"../images/electrostatics.png\" width=\"200\" >\n",
    "</figure> \n",
    "\n",
    "The specification that one side is at voltage $V$ and all others are at voltage zero are the <mark>boundary conditions</mark>. We could then calculate the electrostatic potential $\\phi$ at all points within the sheet using the two-dimensional Laplace's equation:\n",
    "\n",
    "\\begin{equation}\n",
    "\\nabla^2\\phi = \\frac{\\partial^2\\phi}{\\partial x^2} + \\frac{\\partial^2\\phi}{\\partial y^2} = 0\n",
    "\\end{equation}\n",
    "\n",
    "#### Initial value problems\n",
    "\n",
    "<mark>Initial value problems</mark> are where the field - or other variable of interest - is varying in both space and time. We now require boundary conditions *and* initial values. This is a more difficult type of PDE to solve.\n",
    "\n",
    "For example, consider heat diffusion in a two-dimensional sheet. Here we could specify that there is no heat flow in or out of the sheet - this is the boundary condition. \n",
    "\n",
    "<figure>\n",
    "<img src=\"../images/diffusion1.png\" width=200 />\n",
    "</figure> \n",
    "\n",
    "We could also specify that at time $t=0$ the centre of the sheet is at temperature $T_1$, whilst surrounding areas are at temperature  $T_0$. This is the initial condition. It differs from a boundary condition in that we are told what the temperature is at the start of our time grid (at $t=0$) but not at the end of our time grid (when the simulation finishes).\n",
    "\n",
    "<figure>\n",
    "<img src=\"../images/diffusion2.png\" width=200 />\n",
    "</figure>\n",
    " \n",
    "We could then calculate the temperature at time $t$ at all points $[x,y]$ within the sheet using the two-dimensional Diffusion equation:\n",
    "\n",
    "\\begin{equation}\n",
    "\\nabla^2T = \\frac{\\partial^2 T}{\\partial x^2} + \\frac{\\partial^2 T}{\\partial y^2}=\\alpha \\frac{\\partial T}{\\partial t}\n",
    "\\end{equation}"
   ]
  },
  {
   "cell_type": "markdown",
   "id": "greenhouse-burke",
   "metadata": {},
   "source": [
    "::: {.callout-note icon=false}\n",
    "##  Keypoints\n",
    "\n",
    "- PDEs can have boundary values and initial values\n",
    ":::"
   ]
  }
 ],
 "metadata": {
  "kernelspec": {
   "display_name": "Python 3 (ipykernel)",
   "language": "python",
   "name": "python3"
  },
  "language_info": {
   "codemirror_mode": {
    "name": "ipython",
    "version": 3
   },
   "file_extension": ".py",
   "mimetype": "text/x-python",
   "name": "python",
   "nbconvert_exporter": "python",
   "pygments_lexer": "ipython3",
   "version": "3.10.10"
  }
 },
 "nbformat": 4,
 "nbformat_minor": 5
}
