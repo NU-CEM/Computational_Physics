{
 "cells": [
  {
   "cell_type": "markdown",
   "id": "a74fb7e2",
   "metadata": {},
   "source": [
    "---\n",
    "title: \"Monte Carlo\"\n",
    "format:\n",
    "  ipynb: default\n",
    "  html:\n",
    "    code-fold: false\n",
    "jupyter: python3\n",
    "---"
   ]
  },
  {
   "cell_type": "markdown",
   "id": "90718dce",
   "metadata": {},
   "source": [
    "::: {.callout-note icon=false}\n",
    "## Questions\n",
    "* How do I generate random numbers?\n",
    "* How do I integrate using Monte Carlo methods?\n",
    "* When might Monte Carlo integration be useful?\n",
    ":::\n",
    "\n",
    "::: {.callout-note icon=false}\n",
    "## Objectives\n",
    "* Use the `random` module to generate random numbers\n",
    "* Use Monte Carlo methods to calculate the area of a circle\n",
    ":::"
   ]
  },
  {
   "cell_type": "markdown",
   "id": "97cc5ffe",
   "metadata": {},
   "source": [
    "### There are many different numerical methods for calculating integrals\n",
    "\n",
    "In the previous section we studied the simplest methods for calculating integrals: the rectangular-slice method . For increased accuracy and computational efficiency, there are extensions to this approach - for example, the trapezoid method (where each slice is a trapezoid rather than rectangle) or Simpson's rule (where a quadratic curve is fitted to each slice). For certain classes of functions we can increase the performance further using more specialised approaches such as Gaussian Quadrature.\n",
    "\n",
    "One particularly flexible and general purpose approach for calculating integrals is to use Monte Carlo integration. This approach is useful when the integrand is \"pathological\" (wildly varying) or noisy, or when the integration is performed over several variables.\n",
    "\n",
    "### Monte Carlo methods calculate the answers to exact calculations by doing random calculations\n",
    "\n",
    "Monte Carlo methods are a broad class of algorithms that rely on random sampling to obtain numerical results. The underlying concept is to use randomness to solve problems that might be deterministic in principle. \"Monte Carlo\" is a reference to a well-known casino town, since the element of chance is core to the modelling approach, similar to various casino games.\n",
    "\n",
    "Monte Carlo methods are applied across a wide variety of domains, most commonly mathematics, physics and finance. In physics, Monte Carlo methods are used to design particle detectors, model galaxy evolution and solve the many-body problem for quantum systems, amongst many other applications. In this lesson we will introduce one of the main uses of Monte Carlo: for integration. \n",
    "\n",
    "### The Monte Carlo \"area method\" estimates integrals by generating a uniform sample of points and counting how many fall into a planar region\n",
    "\n",
    "Consider the shaded area as shown below. This is the integral $I$ which we wish to calculate.\n",
    "\n",
    "<img src=\"../images/mc_area.png\" width=\"400\" >\n",
    "\n",
    "If we choose a point uniformly at random in the rectange (dashed red line) that bounds the shaded area, the probability $p$ that the point falls in the shaded area is \n",
    "\n",
    "$$p = \\frac{I}{A}$$\n",
    "\n",
    "where $A$ is the area of the bounding rectangle. This means that the integral $I$ can be calculated if we know the area of the bounding rectangle and the probability $p$:\n",
    "\n",
    "$$I = Ap$$\n",
    "\n",
    "To calculate $p$ we can randomly generate $N$ points in the bounding area and keep count as to how many lie in the shaded area. If $k$ lie in the shaded area then the fraction of points $\\frac{k}{N}$ should be equal to the probability $p$. \n",
    "\n",
    "$$I = \\frac{Ak}{N}$$\n",
    "\n",
    "We can extend this approach to higher dimensions to consider integrands lying within a bounding volume, or higher dimensional space (which is considered in the [extension exercise](https://nu-cem.github.io/CompPhys/2021/08/02/Random_extension) for this lesson).\n",
    "\n",
    "### We can use the Monte Carlo area method to estimate pi\n",
    "\n",
    "We'll now use this approach to give us an estimate for the value of pi by considering the area under a quarter-circle.\n",
    "\n",
    "\n",
    "<figure>\n",
    "<img src=\"https://raw.githubusercontent.com/coderefinery/jupyter/main/example/darts.svg\" width=300 />\n",
    "</figure>\n",
    "\n",
    "The relevant equations are:\n",
    "\n",
    "square area: $A_s = (2 r)^2$  \n",
    "circle area: $A_c = \\pi r^2$  \n",
    "\n",
    "The ratio of the areas can be related to $\\pi$ through the following expressions: \n",
    "\n",
    "$$\\frac{A_c}{A_s} = \\frac{\\pi r^2}{4 r^2} = \\frac{\\pi}{4}$$  \n",
    "$$\\pi = 4\\frac{A_c}{A_s}$$\n",
    "\n",
    "To approximate the ratio $\\frac{A_c}{A_s}$ we will generate a (uniform) pseudo-random number between 0 and 1 for our x-coordinates, and a (uniform) pseudo-random number between 0 and 1 for our y-coordinates. We will then check if our random point lies in or out of the circle. The probability $P_i$ that our point lies in the circle is related to the area ratio and so value of pi:\n",
    "\n",
    "$$P_i = \\frac{A_c}{A_s} = \\frac{\\pi}{4}$$"
   ]
  },
  {
   "cell_type": "markdown",
   "id": "6c96d0c6",
   "metadata": {},
   "source": [
    "### The Monte Carlo area method can be translated into Python code"
   ]
  },
  {
   "cell_type": "code",
   "execution_count": 47,
   "id": "8f16b870",
   "metadata": {},
   "outputs": [],
   "source": [
    "# importing the modules we will need\n",
    "import random\n",
    "import math\n",
    "\n",
    "# in this function we generate random numbers and count how many lie within the circle\n",
    "def estimate_pi(num_points):\n",
    "    \n",
    "    points = []\n",
    "    hits = 0\n",
    "    for i in range(num_points):\n",
    "        # random.random returns a random number drawn from a uniform distribution from 0 to 1\n",
    "        x, y = random.random(), random.random()\n",
    "        # we test if the point is within the circle (using the equation for a circle, X^2+y^2=r^2)\n",
    "        if x*x + y*y < 1.0:\n",
    "            hits += 1\n",
    "    \n",
    "    probability = hits / num_points\n",
    "    return probability*4\n",
    "        "
   ]
  },
  {
   "cell_type": "code",
   "execution_count": 48,
   "id": "aa8ed66c",
   "metadata": {},
   "outputs": [
    {
     "data": {
      "text/plain": [
       "3.104"
      ]
     },
     "execution_count": 48,
     "metadata": {},
     "output_type": "execute_result"
    }
   ],
   "source": [
    "estimate_pi(1000)"
   ]
  },
  {
   "cell_type": "code",
   "execution_count": 46,
   "id": "d010c81e",
   "metadata": {},
   "outputs": [
    {
     "data": {
      "text/plain": [
       "3.176"
      ]
     },
     "execution_count": 46,
     "metadata": {},
     "output_type": "execute_result"
    }
   ],
   "source": [
    "estimate_pi(2000)"
   ]
  },
  {
   "cell_type": "markdown",
   "id": "98ed46ad",
   "metadata": {},
   "source": [
    "This method usually improves with the number of points, however there can be some variation due to the randomness of the numbers used. If you would like others to reproduce your exact results, you can seed the (pseudo-)random number generator:"
   ]
  },
  {
   "cell_type": "code",
   "execution_count": 42,
   "id": "b34c8768",
   "metadata": {},
   "outputs": [
    {
     "name": "stdout",
     "output_type": "stream",
     "text": [
      "error is 0.029592653589793017\n"
     ]
    }
   ],
   "source": [
    "random.seed(1)\n",
    "print(\"error is {}\".format(math.pi-estimate_pi(1000)))"
   ]
  },
  {
   "cell_type": "code",
   "execution_count": 43,
   "id": "f77d829c",
   "metadata": {},
   "outputs": [
    {
     "name": "stdout",
     "output_type": "stream",
     "text": [
      "error is -0.004407346410206792\n"
     ]
    }
   ],
   "source": [
    "random.seed(1)\n",
    "print(\"error is {}\".format(math.pi-estimate_pi(2000)))"
   ]
  },
  {
   "cell_type": "markdown",
   "id": "807987e2",
   "metadata": {},
   "source": [
    "### Monte Carlo integration is computationally efficient for particular types of integrand\n",
    "\n",
    "The error when using Monte Carlo integration is proportional to $N^{-\\frac{1}{2}}$, which is larger than the rectangular slice approach with error order $h \\propto N^{-1}$ (where $N$ in this case is the number of integration slices). However Monte Carlo methods are more flexible and can be used where other methods break-down: for example, they are particularly useful for integrating functions where the integrand varies very quickly, and/or where the integral is over many variables. In many cases, for \"well behaved\" functions, an approach based on Riemann summation will give more accurate and computationally efficient results."
   ]
  },
  {
   "cell_type": "markdown",
   "id": "9061fb2c",
   "metadata": {},
   "source": [
    "::: {.callout-note icon=false}\n",
    "##  Keypoints\n",
    "\n",
    "- There are many different numerical methods for calculating integrals\n",
    "- Monte Carlo methods calculate the answers to exact calculations by doing random calculations\n",
    "- The Monte Carlo \"area method\" estimates integrals by generating a uniform sample of points and counting how many fall into a planar region\n",
    "- We can use the Monte Carlo area method to estimate pi\n",
    "- The Monte Carlo area method can be translated into Python code\n",
    "- Monte Carlo integration is computationally efficient for particular types of integrand\n",
    ":::"
   ]
  },
  {
   "cell_type": "markdown",
   "id": "4930a769",
   "metadata": {},
   "source": [
    "### Test your understanding\n",
    "\n",
    "::: {.callout-tip icon=false collapse=\"true\" appearance=\"simple\"}\n",
    "## Integrating a semicircle re-visited\n",
    "\n",
    "a) Use Monte Carlo integration (with 100 random points) to calculate the value of the integral:\n",
    "\n",
    "$$ I = \\int_{-1}^1\\sqrt{1-x^2}\\mathrm{d}x $$\n",
    "\n",
    "b) How does this compare to exact answer? (Hint: the integrand is a semicircle of radius 1)\n",
    "\n",
    "c) How can you improve the accuracy of your estimate?\n",
    "\n",
    "d) Increase the number of points until you get an accuracy comparable (same order of magnitude) as the Riemann sum method with 100 points.\n",
    "\n",
    "e) Use the [%%timeit notebook magic](https://ipython.readthedocs.io/en/stable/interactive/magics.html#magic-timeit) to compare the calculation times for the Riemann sum method and Monte Carlo method. Which is more efficient? \n",
    "\n",
    "::: {.callout-tip icon=false collapse=\"true\" appearance=\"simple\"}\n",
    "## Show answer\n",
    "    \n",
    "a) We want to calculate the area of a semicircle with radius 1. We can adapt the approach used in the Monte Carlo tutorial but, in this case, we use the fact that $P_i = \\frac{A_c}{A_r}$ where $A_r$ is a rectangle of length 2 (as the semicircle goes from $-1$ to $1$) and height 1.\n",
    "  \n",
    "~~~python\n",
    "import random\n",
    "import math\n",
    "    \n",
    "def estimate_semicircle_area(num_points):\n",
    "    \n",
    "    points = []\n",
    "    hits = 0\n",
    "    for i in range(num_points):\n",
    "        # random.uniform(a,b) returns a random number drawn from a uniform distribution from a to b\n",
    "        x, y = random.uniform(-1,1), random.uniform(0,1)\n",
    "        # we test if the point is within the circle (using the equation for a circle, X^2+y^2=r^2)\n",
    "        if x*x + y*y < 1.0:\n",
    "            hits += 1\n",
    "    \n",
    "    probability = hits / num_points\n",
    "    rectangle_area = 2\n",
    "    return probability*rectangle_area\n",
    "    \n",
    "estimate_semicircle_area(100)\n",
    "~~~\n",
    "    \n",
    "~~~output\n",
    "1.58\n",
    "~~~\n",
    "\n",
    "Note that your estimate will be different as you be using a different set of random numbers.                        \n",
    "\n",
    "b) The exact answer is $\\frac{\\pi}{2}$. The error on our calculation is\n",
    "    \n",
    "~~~python\n",
    "math.pi/2 - estimate_semicircle_area(100)\n",
    "~~~\n",
    "    \n",
    "~~~output\n",
    "-0.04920367320510355\n",
    "~~~\n",
    "    \n",
    "c) To improve the accuracy we can use a larger number of random points:\n",
    "    \n",
    "~~~python\n",
    "math.pi/2 - estimate_semicircle_area(1000)\n",
    "~~~\n",
    "\n",
    "~~~output\n",
    "0.04679632679489654\n",
    "~~~   \n",
    "          \n",
    "~~~python                          \n",
    "math.pi/2 - estimate_semicircle_area(10000)\n",
    "~~~  \n",
    "                          \n",
    "~~~output\n",
    "-0.0048036732051033315\n",
    "~~~ \n",
    "                           \n",
    "d) Increasing the number of points to 10,000 gives an error comparable to the Riemann sum method with 100 integration slices (where the error is 0.002). \n",
    "\n",
    "e) Let's use the %%timeit magic to time how long each takes to run\n",
    "            \n",
    "~~~python                          \n",
    "%%timeit\n",
    "estimate_semicircle_area(10000)\n",
    "~~~  \n",
    "                          \n",
    "~~~output\n",
    "6.23 ms ± 370 µs per loop (mean ± std. dev. of 7 runs, 100 loops each)\n",
    "~~~ \n",
    "            \n",
    "~~~python                          \n",
    "%%timeit\n",
    "rectangular_slice_integral(semicircle, -1, 1, 100)\n",
    "~~~  \n",
    "                          \n",
    "~~~output\n",
    "31 µs ± 1.09 µs per loop (mean ± std. dev. of 7 runs, 10000 loops each)\n",
    "~~~ \n",
    "            \n",
    "As each method gives roughly the same accuracy, but the `estimate_semicircle_area` is 100x smaller, we can deduce that the Monte Carlo method implemented in `estimate_semicircle_area` is considerably less efficient than the Riemann summation method implemented in `rectangular_slice_integral`. However the Monte Carlo method is useful for badly behaving systems, as we will see in the lesson exercises.\n",
    "   \n",
    ":::\n",
    ":::"
   ]
  }
 ],
 "metadata": {
  "kernelspec": {
   "display_name": "Python 3 (ipykernel)",
   "language": "python",
   "name": "python3"
  },
  "language_info": {
   "codemirror_mode": {
    "name": "ipython",
    "version": 3
   },
   "file_extension": ".py",
   "mimetype": "text/x-python",
   "name": "python",
   "nbconvert_exporter": "python",
   "pygments_lexer": "ipython3",
   "version": "3.10.10"
  }
 },
 "nbformat": 4,
 "nbformat_minor": 5
}
