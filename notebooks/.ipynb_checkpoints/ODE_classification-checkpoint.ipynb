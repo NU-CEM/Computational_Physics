{
 "cells": [
  {
   "cell_type": "markdown",
   "id": "amber-gossip",
   "metadata": {
    "slideshow": {
     "slide_type": "skip"
    }
   },
   "source": [
    "---\n",
    "title: \"Classification\"\n",
    "format:\n",
    "  ipynb: default\n",
    "  html:\n",
    "    code-fold: false\n",
    "jupyter: python3\n",
    "---  "
   ]
  },
  {
   "cell_type": "markdown",
   "id": "animated-phrase",
   "metadata": {
    "slideshow": {
     "slide_type": "slide"
    }
   },
   "source": [
    "::: {.callout-note icon=false}\n",
    "## Questions\n",
    "\n",
    "- What is a <mark>differential equation</mark>?\n",
    "- What is the difference between an ordinary (<mark>ODE</mark>) and partial (<mark>PDE</mark>) differential equation? \n",
    "- How do I classify the different types of differential equations?\n",
    ":::\n",
    "\n",
    "::: {.callout-note icon=false}\n",
    "##  Objectives\n",
    "\n",
    "- Identify the dependent and independent variables in a differential equation\n",
    "- Distinguish between and ODE and PDE\n",
    "- Identify the <mark>order</mark> of a differential equation\n",
    "- Distinguish between <mark>linear</mark> and <mark>non-linear</mark> equations\n",
    "- Distinguish between <mark>heterogeneous</mark> and <mark>homogeneous</mark> equations\n",
    "- Identify a <mark>separable</mark> equation\n",
    ":::"
   ]
  },
  {
   "cell_type": "markdown",
   "id": "elect-reset",
   "metadata": {
    "slideshow": {
     "slide_type": "slide"
    }
   },
   "source": [
    "### A differential equation is an equation that relates one or more functions and their derivatives\n",
    "\n",
    "- The functions usually represent physical quantities (e.g. force))\n",
    "- The derivative represents a rate of change (e.g. acceleration, the rate of change in velocity)\n",
    "- The differential equation represents the relationship between the two.\n",
    "- For example, Newton's second law for a particle of mass $m$:\n",
    "\n",
    "\\begin{equation}\n",
    "F(t,x,v) = m\\frac{dv}{dt}\n",
    "\\end{equation}"
   ]
  },
  {
   "cell_type": "markdown",
   "id": "ahead-column",
   "metadata": {
    "slideshow": {
     "slide_type": "slide"
    }
   },
   "source": [
    "### An independent variable is... a quantity that varies independently...\n",
    "\n",
    "- An <mark>independent variable</mark> does not depend on other variables\n",
    "- A <mark> dependent variable</mark> depends on the independent variable\n",
    "\n",
    "\\begin{equation}\n",
    "F(t,x,v) = m\\frac{dv}{dt}\n",
    "\\end{equation}\n",
    "\n",
    "- $t$ is an <mark>independent</mark> variable\n",
    "- $x$ and $v$ are <mark>dependent</mark> variables\n",
    "- Writing $x = x(t)$ makes this relationship clear.\n",
    " "
   ]
  },
  {
   "cell_type": "markdown",
   "id": "spoken-bachelor",
   "metadata": {
    "slideshow": {
     "slide_type": "slide"
    }
   },
   "source": [
    "### Differential equations can be classified in a variety of ways\n",
    "\n",
    "There are several ways to describe and classify differential equations. There are standard solution methods for each type, so it is useful to understand the classifications. \n",
    "\n",
    "![](../images/categories.png)\n",
    "\n",
    "<small>Once you can cook a single piece of spaghetti, you can cook all pieces of spaghetti!</small>"
   ]
  },
  {
   "cell_type": "markdown",
   "id": "greater-utilization",
   "metadata": {
    "slideshow": {
     "slide_type": "slide"
    }
   },
   "source": [
    "### An ODE contains differentials with respect to only one variable\n",
    "\n",
    "\n",
    "For example, the following equations are ODEs:\n",
    "\n",
    "\\begin{equation}\n",
    "\\frac{d x}{d t} = at\n",
    "\\end{equation}\n",
    "\\begin{equation}\n",
    "\\frac{d^3 x}{d t^3} + \\frac{x}{t} = b\n",
    "\\end{equation}\n",
    "\n",
    "As in each case the differentials are with respect to the single variable $t$.\n",
    "\n"
   ]
  },
  {
   "cell_type": "markdown",
   "id": "international-freeware",
   "metadata": {
    "slideshow": {
     "slide_type": "slide"
    }
   },
   "source": [
    "### Partial differential equations (PDE) contain differentials with respect to several independent variables. \n",
    "\n",
    "An example of a PDE is:\n",
    "\n",
    "\\begin{equation}\n",
    "\\frac{\\partial x}{\\partial t} = \\frac{\\partial x}{\\partial y} \n",
    "\\end{equation}\n",
    "\n",
    "As there is one differential with respect to $t$ and one differential with respect to $y$. \n",
    "\n",
    "::: {.callout-note}\n",
    "There is a difference in notation - <mark>for ODEs we use $d$ whilst for PDEs we  use $\\partial$</mark>.\n",
    ":::"
   ]
  },
  {
   "cell_type": "markdown",
   "id": "magnetic-recipient",
   "metadata": {
    "slideshow": {
     "slide_type": "slide"
    }
   },
   "source": [
    "### The order of a differential equation is the highest order of any differential contained in it. \n",
    "\n",
    "For example:\n",
    "\n",
    "$\\frac{d x}{d t} = at$ is <mark>first order</mark>. \n",
    "\n",
    "$\\frac{d^3 x}{d t^3} + \\frac{x}{t} = b$ is <mark>third order</mark>.\n",
    "\n",
    "::: {.callout-warning}\n",
    "$\\frac{d^3 x}{d t^3}$ does not equal $\\left(\\frac{d x}{d t}\\right)^3$!\n",
    ":::"
   ]
  },
  {
   "cell_type": "markdown",
   "id": "champion-chapter",
   "metadata": {
    "slideshow": {
     "slide_type": "slide"
    }
   },
   "source": [
    "###  Linear equations do not contain higher powers of either the dependent variable or its differentials\n",
    "\n",
    "For example:\n",
    "\n",
    "$\\frac{d^3 x}{d t^3} = at$ and $\\frac{\\partial x}{\\partial t} = \\frac{\\partial x}{\\partial y}$ are <mark>linear</mark>.\n",
    "\n",
    "$(\\frac{d x}{d t})^3 = at$ and $\\frac{d^3 x}{d t^3} = x^2$ are <mark>non-linear</mark>.\n",
    "\n",
    "Non-linear equations can be particularly nasty to solve analytically, and so are often tackled numerically.\n",
    "\n"
   ]
  },
  {
   "cell_type": "markdown",
   "id": "french-state",
   "metadata": {
    "slideshow": {
     "slide_type": "slide"
    }
   },
   "source": [
    "\n",
    "### Homogeneous equations do not contain any non-differential terms\n",
    "\n",
    "For example:\n",
    "\n",
    "$\\frac{\\partial x}{\\partial t} = \\frac{\\partial x}{\\partial y}$ is a <mark>homogeneous equation</mark>.\n",
    "\n",
    "$\\frac{\\partial x}{\\partial t} - \\frac{\\partial x}{\\partial y}=a$ is a <mark>heterogeneous equation</mark> (unless $a=0$!).\n"
   ]
  },
  {
   "cell_type": "markdown",
   "id": "southeast-affairs",
   "metadata": {
    "slideshow": {
     "slide_type": "slide"
    }
   },
   "source": [
    "\n",
    "### Separable equations can be written as a product of two functions of different variables\n",
    "\n",
    "A separable first-order one-variable differential equation takes the form \n",
    "\n",
    "\\begin{equation}\n",
    "f(x)\\frac{d x}{d t} = g(t)\n",
    "\\end{equation}\n",
    "\n",
    "Separable equations are some of the easiest to solve as we can split the equation into two independent parts with fewer variables, and solve each in turn - we will see an example of this in the next lesson."
   ]
  },
  {
   "cell_type": "markdown",
   "id": "specialized-passport",
   "metadata": {
    "slideshow": {
     "slide_type": "slide"
    }
   },
   "source": [
    "::: {.callout-note icon=false}\n",
    "##  Keypoints\n",
    "\n",
    "- An independent variable is a quantity that varies independently\n",
    "- Differential equations can be classified in a variety of ways\n",
    "- An ODE contains differentials with respect to only one variable\n",
    "- The order is the highest order of any differential contained in it\n",
    "- Linear equations do not contain higher powers of either the dependent variable or its differentials\n",
    "- Homogeneous equations do not contain any non-differential terms\n",
    ":::"
   ]
  },
  {
   "cell_type": "markdown",
   "id": "ce884c70-41de-44c3-8ffe-e141f3539fea",
   "metadata": {},
   "source": [
    "### Test your understanding\n",
    "\n",
    "::: {.callout-tip icon=false collapse=\"true\" appearance=\"simple\"}\n",
    "## Describing equations\n",
    "Describe the following differential equations. Are they - \n",
    "- an ODE or PDE?\n",
    "- first order or higher?\n",
    "- linear or non-linear?\n",
    "- heterogeneous or homogeneous?\n",
    "- separable or non-separable?\n",
    "\n",
    "a) The oscillation of a non-linear driven pendulum,\n",
    "\n",
    "\\begin{equation}\n",
    "\\frac{\\mathrm{d}^2\\theta}{\\mathrm{d}t^2} = -\\frac{g}{l}\\sin(\\theta) + C\\cos(\\theta)\\sin(\\sigma t),\n",
    "\\end{equation}\n",
    "\n",
    "where $l$ and $\\sigma$ are constant parameters and $g$ is the acceleration due to gravity.\n",
    "\n",
    "b) The one dimensional diffusion equation,\n",
    "\n",
    "\\begin{equation}\n",
    "\\frac{\\partial T}{\\partial t} = D\\frac{\\partial ^2 T}{\\partial x^2}.\n",
    "\\end{equation}\n",
    "\n",
    "\n",
    "::: {.callout-tip icon=false collapse=\"true\" appearance=\"simple\"}\n",
    "## Show answers\n",
    "\n",
    "a) This equation is a second order, linear, heterogeneous, non-separable ODE.\n",
    "\n",
    "b) This equation is a second order, linear, homogeneous PDE. A linear, homogeneous PDE is separable and can be solved using the [Separation of Variables](https://tutorial.math.lamar.edu/classes/de/SeparationofVariables.aspx).\n",
    ":::\n",
    ":::"
   ]
  }
 ],
 "metadata": {
  "celltoolbar": "Slideshow",
  "kernelspec": {
   "display_name": "Python 3 (ipykernel)",
   "language": "python",
   "name": "python3"
  },
  "language_info": {
   "codemirror_mode": {
    "name": "ipython",
    "version": 3
   },
   "file_extension": ".py",
   "mimetype": "text/x-python",
   "name": "python",
   "nbconvert_exporter": "python",
   "pygments_lexer": "ipython3",
   "version": "3.10.10"
  }
 },
 "nbformat": 4,
 "nbformat_minor": 5
}
