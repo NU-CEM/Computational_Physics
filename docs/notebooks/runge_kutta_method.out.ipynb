{
  "cells": [
    {
      "cell_type": "markdown",
      "metadata": {},
      "source": [
        "# Runge Kutta\n",
        "\n",
        "> **Questions**\n",
        ">\n",
        "> -   How do I use the Runge-Kutta method for more accurate solutions?\n",
        "> -   What do the terms first-order accurate and second-order accurate\n",
        ">     mean?\n",
        "\n",
        "> **Objectives**\n",
        ">\n",
        "> -   Use the Runge-Kutta method, implemented in Python, to solve a\n",
        ">     first-order ODE\n",
        "> -   Compare results at different levels of approximation using the\n",
        ">     `matplotlib` library.\n",
        "\n",
        "### The Runge-Kutta method is more accurate than Euler’s method and runs just as fast\n",
        "\n",
        "So far we have used Euler’s method for solving ODEs. We have learnt\n",
        "that, using this method, the final expression for the total error is\n",
        "linear in $h$. However for roughly the same compute time we can reduce\n",
        "the total error so it is of order $h^2$ by implementing another method -\n",
        "the <bold>Runge-Kutta method</bold>.\n",
        "\n",
        "It is common to use the Runge-Kutta method for solving ODEs given the\n",
        "improved accuracy over Euler’s method. However Euler’s method is still\n",
        "commonly used for PDEs (where there are other, larger, sources of\n",
        "error).\n",
        "\n",
        "> Note: The Runge-Kutta method is actually a family of methods. In fact,\n",
        "> Euler’s method is the first-order Runge-Kutta method. There is then\n",
        "> the second-order Runge-Kutta method, third-order Runge-Kutta method,\n",
        "> and so on..\n",
        "\n",
        "Euler’s method does not take into account the curvature of the solution,\n",
        "whilst Runge-Kutta methods do, by calculating the gradient at\n",
        "intermediate points in the (time-)step. For example, in the image below\n",
        "we see two estimates to the blue line. Euler’s method is equivalent to\n",
        "the orange line, where we have taken the slope at time $t$ and\n",
        "extrapolated it to $t+h$. A Runge-Kutta type method performs\n",
        "extrapolation using the slope (or slopes) at an intermediate time (or\n",
        "multiple intermediate times). In this case, the green line formed from\n",
        "the slope at $t+\\frac{h}2$ gives a better approximation at $t+h$. This\n",
        "green line is a visual representation of the second-order Runge Kutta\n",
        "method, which is also known as the “midpoint method”.\n",
        "\n",
        "![](attachment:../images/RK2.png)\n",
        "\n",
        "### Runge-Kutta methods are derived from Taylor expansion(s) around intermediate point(s)\n",
        "\n",
        "To derive the second-order Runge-Kutta method we:\n",
        "\n",
        "1.  estimate $x(t+h)$ using a Taylor expansion around $t+\\frac{h}{2}$:\n",
        "\n",
        "1.  estimate $x(t)$ using a Taylor expansion around $t-\\frac{h}{2}$:\n",
        "\n",
        "1.  Subtract Equation 2 from Equation 1 and re-arrange:\n",
        "\n",
        "Note that the $h^2$ term has completely disappeared, and the error term\n",
        "is now order $h^3$. We can say that this approximation is now accurate\n",
        "to order $h^2$.\n",
        "\n",
        "The problem is that this requires knowledge of $x(t+\\frac{h}{2})$ which\n",
        "we don’t currently have. We can however estimate this using the Euler\n",
        "method!\n",
        "\n",
        "Substituting this into Equation 3 above, we can write the method for a\n",
        "single step as follows:\n",
        "\n",
        "See how $k_1$ is used to give an estimate for $x(t+\\frac{h}{2})$ in\n",
        "$k_2$, which is then substituted into the third equation to give an\n",
        "estimate for $x(t+h)$.\n",
        "\n",
        "> **Note**\n",
        ">\n",
        "> Higher orde Runge-Kutta methods can be derived in a similar way - by\n",
        "> calculating the Taylor series around various points and then taking a\n",
        "> linear combination of the resulting expansions. As we increase the\n",
        "> number of intermediate points, we increase the accuracy of the method.\n",
        "> The downside is that the equations get increasingly complicated.\n",
        "\n",
        "\\### Runge-Kutta methods can be applied using the Python skills we have\n",
        "developed\n",
        "\n",
        "To demonstrate the Runge-Kutta method with a simple example, we will\n",
        "re-visit the differential equation for nuclear decay. We will model the\n",
        "decay process over a period of 10 seconds, with the decay constant\n",
        "$\\lambda=0.1$ and the initial condition $N_0 = 1000$:\n",
        "\n",
        "First, let’s import the standard scientific libraries we will be using -\n",
        "Numpy and Matplotlib:"
      ],
      "attachments": {
        "../images/RK2.png": {
          "image/png": "[encoded data removed]"
        }
      },
      "id": "c722746b-924e-482e-8f97-746604555061"
    },
    {
      "cell_type": "code",
      "execution_count": 1,
      "metadata": {},
      "outputs": [],
      "source": [
        "import numpy as np\n",
        "import matplotlib.pyplot as plt"
      ],
      "id": "allied-validity"
    },
    {
      "cell_type": "markdown",
      "metadata": {},
      "source": [
        "Let’s definte the function $f(N,t)$ which describes the rate of decay.\n",
        "In this case, the function depends only on the number of atoms present."
      ],
      "id": "3ceb0786-8430-41bb-839c-1dc9442860f3"
    },
    {
      "cell_type": "code",
      "execution_count": 2,
      "metadata": {},
      "outputs": [],
      "source": [
        "# define the function for nuclear decay\n",
        "def f(Num_atoms):\n",
        "    return -0.1*Num_atoms"
      ],
      "id": "constitutional-reverse"
    },
    {
      "cell_type": "markdown",
      "metadata": {},
      "source": [
        "Next we’ll list the simulation parameters: start time, end time, number\n",
        "of time steps and step size (which is calculated using the number of\n",
        "time steps). For comparison, these will be the same as we used for\n",
        "Euler’s method."
      ],
      "id": "e7e865ab-7d22-430e-b05b-1cb5e8d0c9c3"
    },
    {
      "cell_type": "code",
      "execution_count": 3,
      "metadata": {},
      "outputs": [],
      "source": [
        "a = 0                  # start time\n",
        "b = 10                 # end time\n",
        "num_steps = 5         # number of time steps\n",
        "h = (b-a) / num_steps  # time step size"
      ],
      "id": "printable-blond"
    },
    {
      "cell_type": "markdown",
      "metadata": {},
      "source": [
        "We then specify the initial conditions - which in this case is the\n",
        "number of atoms to begin with:"
      ],
      "id": "5ac7b15c-7a54-4e06-9fe2-5f8749da7368"
    },
    {
      "cell_type": "code",
      "execution_count": 4,
      "metadata": {},
      "outputs": [],
      "source": [
        "Num_atoms = 1000       # initial condition"
      ],
      "id": "13fba607"
    },
    {
      "cell_type": "markdown",
      "metadata": {},
      "source": [
        "We use the Numpy `arange` function to generate a list of evenly spaced\n",
        "times at which to evaluate the number of atoms. We also create an empty\n",
        "list to hold the values for $N$ over time."
      ],
      "id": "925b9875-10e6-444c-89fb-828010782eb8"
    },
    {
      "cell_type": "code",
      "execution_count": 5,
      "metadata": {},
      "outputs": [],
      "source": [
        "# use the Numpy arange function to generate a list of evenly spaced times at which to evaluate the number of atoms N.\n",
        "time_list = np.arange(a,b,h)\n",
        "\n",
        "# create an empty list to hold the calculated N values\n",
        "Num_atoms_list = []"
      ],
      "id": "breeding-trading"
    },
    {
      "cell_type": "markdown",
      "metadata": {},
      "source": [
        "Finally, we apply second-order Runge-Kutta method using a `For` loop."
      ],
      "id": "82a9daa4-98e7-4bb8-a52a-704cd4084211"
    },
    {
      "cell_type": "code",
      "execution_count": 6,
      "metadata": {},
      "outputs": [],
      "source": [
        "# apply Runge-Kutta method. \n",
        "for time in time_list:\n",
        "    Num_atoms_list.append(Num_atoms)\n",
        "    k1 = h*f(Num_atoms)\n",
        "    k2 = h*f(Num_atoms+0.5*k1)\n",
        "    Num_atoms += k2"
      ],
      "id": "supposed-birthday"
    },
    {
      "cell_type": "markdown",
      "metadata": {},
      "source": [
        "### We can easily compare our various models using the `matplotlib` plotting library\n",
        "\n",
        "Using the analytic solution from a previous lesson, we can define a\n",
        "function for calculating the number of atoms $N$ as a function of time\n",
        "(this is the exact solution)."
      ],
      "id": "e1a0bf4b-fb3f-40ef-afda-9a40413092d3"
    },
    {
      "cell_type": "code",
      "execution_count": 7,
      "metadata": {},
      "outputs": [],
      "source": [
        "def analytic_solution(time):\n",
        "    return 1000*np.exp(-0.1*time)"
      ],
      "id": "architectural-collection"
    },
    {
      "cell_type": "markdown",
      "metadata": {},
      "source": [
        "We can use this to calculate the exact value for $N$ over the full time\n",
        "range. We use a large number of points in time (in this case 1000) to\n",
        "give a nice smooth curve - note that we have renamed the variables for\n",
        "the analytic case so we do not override the original calculation\n",
        "parameters."
      ],
      "id": "b97d1b96-1df1-4b30-9f8c-f043a9e263eb"
    },
    {
      "cell_type": "code",
      "execution_count": 8,
      "metadata": {},
      "outputs": [],
      "source": [
        "num_steps_analytic = 1000\n",
        "h_analytic = (b-a) / num_steps_analytic\n",
        "time_analytic_list = np.arange(a,b,h_analytic)\n",
        "Num_atoms_analytic_list = []\n",
        "\n",
        "for time in time_analytic_list:\n",
        "    Num_atoms_analytic_list.append(analytic_solution(time))"
      ],
      "id": "beneficial-courtesy"
    },
    {
      "cell_type": "markdown",
      "metadata": {},
      "source": [
        "We can also re-calculate the atom population using Euler’s method for\n",
        "comparison to the Runge-Kutta method:"
      ],
      "id": "33430c7b-1e3e-4d6a-bf85-782e3692dd21"
    },
    {
      "cell_type": "code",
      "execution_count": 9,
      "metadata": {},
      "outputs": [],
      "source": [
        "Num_atoms = 1000\n",
        "Num_atoms_euler_list = []\n",
        "\n",
        "for time in time_list:\n",
        "    Num_atoms_euler_list.append(Num_atoms)\n",
        "    Num_atoms += h*f(Num_atoms)"
      ],
      "id": "cb4f107d"
    },
    {
      "cell_type": "markdown",
      "metadata": {},
      "source": [
        "Finally we plot all three models side-by-side:"
      ],
      "id": "e60b5cda-c0c7-4618-ab5e-3fc9548b353b"
    },
    {
      "cell_type": "code",
      "execution_count": 10,
      "metadata": {},
      "outputs": [
        {
          "output_type": "display_data",
          "metadata": {},
          "data": {
            "text/plain": [
              "<matplotlib.legend.Legend at 0x12a014e20>"
            ]
          }
        },
        {
          "output_type": "display_data",
          "metadata": {},
          "data": {
            "image/png": "[encoded data removed]"
          }
        }
      ],
      "source": [
        "plt.plot(time_analytic_list,Num_atoms_analytic_list,label=\"analytic\")\n",
        "plt.scatter(time_list, Num_atoms_list,label=\"Runge-Kutta (second-order)\")\n",
        "plt.scatter(time_list, Num_atoms_euler_list,label=\"Euler's method\")\n",
        "plt.xlabel(\"time\")\n",
        "plt.ylabel(\"Number of atoms\")\n",
        "plt.legend()"
      ],
      "id": "0cbf89b7"
    },
    {
      "cell_type": "markdown",
      "metadata": {},
      "source": [
        "### The second-order Runge-Kutta method is accurate to order $h^2$\n",
        "\n",
        "-   We have seen earlier in the course that Euler’s method is a\n",
        "    first-order method accurate to order $h$.\n",
        "-   The error term for one step of the Runge-Kutta method is\n",
        "    ${O}(h^3)$ - this makes the Runge-Kutta method accurate to order\n",
        "    $h^2$ which is why this is called the <mark>second-order</mark>\n",
        "    Runge Kutta method (RK2).\n",
        "-   With the RK2 can use a fewer number of steps whilst getting the same\n",
        "    accuracy as Euler’s method.\n",
        "-   There are higher order Runge-Kutta methods which increase the\n",
        "    accuracy further.\n",
        "\n",
        "> **Keypoints**\n",
        ">\n",
        "> -   The Runge-Kutta method is more accurate than Euler’s method and\n",
        ">     runs just as fast\n",
        "> -   Runge-Kutta methods are derived from Taylor expansion(s) around\n",
        ">     intermediate point(s)\n",
        "> -   Runge-Kutta methods can be applied using the Python skills we have\n",
        ">     developed\n",
        "> -   We can easily compare our various models using the `matplotlib`\n",
        ">     plotting library\n",
        "> -   The second-order Runge-Kutta method is accurate to order $h^2$"
      ],
      "id": "1d2b4d40-9d6c-460a-a08d-198c676d0cb2"
    }
  ],
  "nbformat": 4,
  "nbformat_minor": 5,
  "metadata": {
    "kernelspec": {
      "name": "python3",
      "display_name": "Python 3 (ipykernel)",
      "language": "python"
    },
    "language_info": {
      "name": "python",
      "codemirror_mode": {
        "name": "ipython",
        "version": "3"
      },
      "file_extension": ".py",
      "mimetype": "text/x-python",
      "nbconvert_exporter": "python",
      "pygments_lexer": "ipython3",
      "version": "3.10.10"
    }
  }
}