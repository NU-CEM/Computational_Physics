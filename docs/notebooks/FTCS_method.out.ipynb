{
  "cells": [
    {
      "cell_type": "markdown",
      "metadata": {},
      "source": [
        "# Forward Time Central Space\n",
        "\n",
        "> **Questions**\n",
        ">\n",
        "> -   How do I use the Forward-Time Centred-Space method (FTCS) to solve\n",
        ">     the diffusion equation?\n",
        "\n",
        "> **Objectives**\n",
        ">\n",
        "> -   Apply the Forward-Time Centred-Space method (FTCS) to solve theat\n",
        ">     heat diffusion equation\n",
        "\n",
        "### The diffusion equation is an initial value problem\n",
        "\n",
        "In the previous section we solved a boundary value problem in the form\n",
        "of Laplace’s equation. In this section we will look at an initial value\n",
        "problem, which is a more complex type of PDE. An initial value problem\n",
        "is more complex as we are told the starting conditions and then have to\n",
        "predict future behaviour as a function of time.\n",
        "\n",
        "The example we will use is the one-dimensional diffusion equation:\n",
        "\n",
        "In this case we have a variable $\\phi(x,t)$ that depends on position $x$\n",
        "and time $t$ - so can we not solve it in the same way as finding the\n",
        "$\\phi(x,y)$ Laplace’s equation, which also had two independent\n",
        "variables?\n",
        "\n",
        "The problem is that we only have an *initial* condition in the time\n",
        "dimension - we know the value of $\\phi(x,t)$ at $t=0$ but we do not\n",
        "typically know the value of $t$ at a later point. In the spatial\n",
        "dimensions we know the boundary conditions at either end of the grid.\n",
        "\n",
        "Instead, we will use the <mark>Forward-Time Centred-Space method\n",
        "(FTCS)</mark>.\n",
        "\n",
        "### There are two steps to the Forward-Time Centred-Space method\n",
        "\n",
        "#### Step one\n",
        "\n",
        "Use the finite difference method to express the 1D Laplacian as a set of\n",
        "simulatenous equations:\n",
        "\n",
        "where $a$ is the grid spacing.\n",
        "\n",
        "Substitute this back into the diffusion equation to give a set of\n",
        "simulataneous ODEs:\n",
        "\n",
        "If there are $N$ grid points then Equation 3 corresponds to a set of $N$\n",
        "equations. It is an ODE as there is derivative with respect to only one\n",
        "variable - time.\n",
        "\n",
        "#### Step two\n",
        "\n",
        "We now have a set of simultaneous ODEs for $\\phi(x,t)$. So we can use\n",
        "Euler’s method to evolve the system forward in time. Euler’s method for\n",
        "solving an ODE of the form $\\frac{d\\phi}{dt} = f(\\phi,t)$ has the\n",
        "general form:\n",
        "\n",
        "Applying this to Equation 3 gives:\n",
        "\n",
        "### The FTCS method can be applied using the Python skills we have developed\n",
        "\n",
        "Consider a 10cm rod of stainless steel initially at a uniform\n",
        "temperature of 20$^\\mathrm{o}$ Celsius. The rod is dipped in a hot water\n",
        "bath at 90$^\\mathrm{o}$ Celsius at one end, and held in someone’s hand\n",
        "at the other. Assume that the hand is at constant body temperature\n",
        "throughout (27$^\\mathrm{o}$ Celsius).\n",
        "\n",
        "The problem can be represented visually as follows:"
      ],
      "id": "0157c6ee-d39a-43af-ac79-78f411d10163"
    },
    {
      "cell_type": "raw",
      "metadata": {
        "raw_mimetype": "text/html"
      },
      "source": [
        "<figure>"
      ],
      "id": "231669b5-d44b-4ac4-9a22-b076eb8e7066"
    },
    {
      "cell_type": "markdown",
      "metadata": {},
      "source": [
        "<img src=\"../images/hand_hot.png\" width=\"400\" >"
      ],
      "id": "566ec274-9f34-480a-9e09-2523dc6b29ce"
    },
    {
      "cell_type": "raw",
      "metadata": {
        "raw_mimetype": "text/html"
      },
      "source": [
        "</figure>"
      ],
      "id": "24ab639b-c943-4962-9a34-9a082ce1667c"
    },
    {
      "cell_type": "markdown",
      "metadata": {},
      "source": [
        "Our goal is to calculate the temperature profile of the steel as a\n",
        "function of distance $x$ from the cold side to the hot side, and as a\n",
        "function of time. For simplicity let us assume that the rod is perfectly\n",
        "insulated so that heat only moves horizontally; as a result this problem\n",
        "can be modelled as 1-dimensional. Also assume that neighter the hot\n",
        "water bath or the hand change temperature appreciably.\n",
        "\n",
        "Thermal conduction is described by the diffusion equation (or heat\n",
        "equation in this context)\n",
        "\n",
        "where $D$ is the material dependent thermal diffusivity. For steel\n",
        "$D=4.25\\times10^{-6}\\mathrm{m}^2\\mathrm{s}^{-1}$.\n",
        "\n",
        "First, let’s import the libraries we will be using"
      ],
      "id": "664bd6e2-a9b2-4523-9739-fe41eee8cf88"
    },
    {
      "cell_type": "code",
      "execution_count": 16,
      "metadata": {},
      "outputs": [],
      "source": [
        "import numpy as np\n",
        "import matplotlib.pyplot as plt"
      ],
      "id": "automated-visiting"
    },
    {
      "cell_type": "markdown",
      "metadata": {},
      "source": [
        "Now let’s fix some of the constants in the problem"
      ],
      "id": "8c29cc1c-f853-4578-9087-a12b95c6c169"
    },
    {
      "cell_type": "code",
      "execution_count": 17,
      "metadata": {},
      "outputs": [],
      "source": [
        "L = 0.1 # width of the rod in metres\n",
        "D = 4.25e-6 # thermal diffusivity of steel"
      ],
      "id": "appropriate-needle"
    },
    {
      "cell_type": "markdown",
      "metadata": {},
      "source": [
        "And some of the numerical parameters:"
      ],
      "id": "2376d460-21cc-434a-b119-ba9896ea3bdc"
    },
    {
      "cell_type": "code",
      "execution_count": 18,
      "metadata": {},
      "outputs": [],
      "source": [
        "N = 100 # number of divisions in the grid\n",
        "a = L/N # grid spacing\n",
        "h = 1e-4 # time step"
      ],
      "id": "crude-dress"
    },
    {
      "cell_type": "markdown",
      "metadata": {},
      "source": [
        "Let’s specify the boundary conditions and the initial condition"
      ],
      "id": "ad5b3e8a-0b31-4f3c-8020-5982a9c0cb47"
    },
    {
      "cell_type": "code",
      "execution_count": 19,
      "metadata": {},
      "outputs": [],
      "source": [
        "T_left = 27.0  # temperature fixed on left side of rod\n",
        "T_right = 90.0 # temperature fixed on right side of rod\n",
        "T_middle = 20.0 # temperature of rod at the beginning"
      ],
      "id": "massive-memorial"
    },
    {
      "cell_type": "markdown",
      "metadata": {},
      "source": [
        "And now create an array $T$ to hold the temperature of the rod and an\n",
        "array $T_{\\mathrm{new}}$ to calculate the temperature of the rod after\n",
        "evolving through time. Note that there are $N$ grid divisions but $N+1$\n",
        "grid points (as we are evaluating at the boundary on each edge)."
      ],
      "id": "1837711e-337b-49bd-8cc7-086d8c9c0bc3"
    },
    {
      "cell_type": "code",
      "execution_count": 20,
      "metadata": {},
      "outputs": [],
      "source": [
        "T = np.empty(N+1, float)  \n",
        "T_new = np.empty(N+1, float)"
      ],
      "id": "regional-turkey"
    },
    {
      "cell_type": "markdown",
      "metadata": {},
      "source": [
        "Apply the boundary conditions and initial condition to our rod:"
      ],
      "id": "7fdca950-de2e-4900-bf76-4b978defcfc8"
    },
    {
      "cell_type": "code",
      "execution_count": 21,
      "metadata": {},
      "outputs": [],
      "source": [
        "T[0] = T_left\n",
        "T[-1] = T_right\n",
        "T[1:-1] = T_middle\n",
        "T_new[0] = T_left\n",
        "T_new[-1] = T_right"
      ],
      "id": "stock-spirit"
    },
    {
      "cell_type": "code",
      "execution_count": 22,
      "metadata": {},
      "outputs": [],
      "source": [
        "def evolve(T,T_new):\n",
        "    c = (h*D)/(a*a)\n",
        "    T_new[1:N] = T[1:N] + c*(T[2:N+1]+T[0:N-1]-2*T[1:N])\n",
        "    return T, T_new\n",
        "    "
      ],
      "id": "equipped-webster"
    },
    {
      "cell_type": "markdown",
      "metadata": {},
      "source": [
        "Note that in the function `evolve` we implement Equation 5. We make use\n",
        "of Numpy’s element-by-element array manipulation to evaluate the $N-1$\n",
        "equations in a single step."
      ],
      "id": "82cd58e0-dd24-4a6a-b857-5da66c62cbe4"
    },
    {
      "cell_type": "code",
      "execution_count": 23,
      "metadata": {},
      "outputs": [
        {
          "output_type": "display_data",
          "metadata": {},
          "data": {
            "text/plain": [
              "Text(0, 0.5, 'Temperature (degrees centigrade)')"
            ]
          }
        },
        {
          "output_type": "display_data",
          "metadata": {},
          "data": {
            "image/png": "[encoded data removed]"
          }
        }
      ],
      "source": [
        "epsilon = h/100\n",
        "\n",
        "times=np.array([0.01,0.1,1,10,100])\n",
        "t_end = times[-1]+epsilon\n",
        "t=0.0\n",
        "\n",
        "\n",
        "while t < t_end:\n",
        "    \n",
        "    T_new, T = evolve(T, T_new)\n",
        "    t+=h\n",
        "    \n",
        "    for time in times:\n",
        "        if abs(t-time)<epsilon:\n",
        "            plt.plot(T,label=\"{}s\".format(round(t,ndigits=3)))\n",
        "    \n",
        "plt.legend()\n",
        "plt.title(\"Heat diffusion along a 1D rod\")\n",
        "plt.xlabel(\"Position (cm)\")\n",
        "plt.ylabel(\"Temperature (degrees centigrade)\")"
      ],
      "id": "thermal-cable"
    },
    {
      "cell_type": "markdown",
      "metadata": {},
      "source": [
        "> **Keypoints**\n",
        ">\n",
        "> -   The diffusion equation is an initial value problem\n",
        "> -   There are two steps to the Forward-Time Centred-Space (FTCS)\n",
        ">     method\n",
        "> -   The FTCS method can be applied using the Python skills we have\n",
        ">     developed"
      ],
      "id": "83527bf4-64f0-49f2-acdd-b868013a9049"
    }
  ],
  "nbformat": 4,
  "nbformat_minor": 5,
  "metadata": {
    "kernelspec": {
      "name": "python3",
      "display_name": "Python 3 (ipykernel)",
      "language": "python"
    },
    "language_info": {
      "name": "python",
      "codemirror_mode": {
        "name": "ipython",
        "version": "3"
      },
      "file_extension": ".py",
      "mimetype": "text/x-python",
      "nbconvert_exporter": "python",
      "pygments_lexer": "ipython3",
      "version": "3.10.10"
    }
  }
}