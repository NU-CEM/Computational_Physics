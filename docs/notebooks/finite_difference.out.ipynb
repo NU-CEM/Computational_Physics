{
  "cells": [
    {
      "cell_type": "markdown",
      "metadata": {},
      "source": [
        "# Finite difference methods\n",
        "\n",
        "> **Questions**\n",
        ">\n",
        "> -   How do I use a finite difference method to calculate derivatives?\n",
        "> -   What is the Laplacian operator?\n",
        "\n",
        "> **Objectives**\n",
        ">\n",
        "> -   Use the finite difference method to calculate the derivative of an\n",
        ">     unknown function\n",
        "> -   Express the Laplacian as a differential operator\n",
        "\n",
        "### Finite difference methods are a family of techniques used to calculate derivatives\n",
        "\n",
        "Finite-difference methods are a class of numerical techniques for\n",
        "solving differential equations by approximating derivatives with finite\n",
        "differences. They are widely used for solving ordinary and partial\n",
        "differential equations, as they can convert equations that are\n",
        "unsolvable analytically into a set of linear equations that can be\n",
        "solved on a computer.\n",
        "\n",
        "They rely on the idea of discretization: breaking a domain (for example,\n",
        "the space domain) into a finite number of discrete elements.\n",
        "\n",
        "<a title=\"User:Mintz l, Public domain, via Wikimedia Commons\" href=\"https://commons.wikimedia.org/wiki/File:Finite_Differences.svg\"><img width=\"256\" alt=\"Finite Differences\" src=\"https://upload.wikimedia.org/wikipedia/commons/thumb/4/4c/Finite_Differences.svg/512px-Finite_Differences.svg.png\"></a>\n",
        "\n",
        "### A numerical derivative can be calculated using the forward, backward or central difference methods\n",
        "\n",
        "<a title=\"Kakitc, CC BY-SA 4.0 &lt;https://creativecommons.org/licenses/by-sa/4.0&gt;, via Wikimedia Commons\" href=\"https://commons.wikimedia.org/wiki/File:Finite_difference_method.svg\"><img width=\"512\" alt=\"Finite difference method\" src=\"https://upload.wikimedia.org/wikipedia/commons/thumb/9/90/Finite_difference_method.svg/512px-Finite_difference_method.svg.png\"></a>\n",
        "\n",
        "The standard definition of a derivative is\n",
        "\n",
        "To calculate the derivative numerically we make $h$ very small and\n",
        "calculate\n",
        "\n",
        "This is the <mark>forward difference</mark> because it is measured in\n",
        "the forward direction from $x$.\n",
        "\n",
        "The <mark>backward difference</mark> is measured in the backward\n",
        "direction from $x$:\n",
        "\n",
        "and the <mark>central difference</mark> uses both the forwards and\n",
        "backwards directions around $x$:\n",
        "\n",
        "Let’s start with a simple example - let’s use the forward difference\n",
        "method to calculate the derivative of $x^2$ at $x=5$ with $h=0.01$."
      ],
      "id": "f7658276-6a72-4ea5-8c92-9f8d051b8c1a"
    },
    {
      "cell_type": "code",
      "execution_count": 2,
      "metadata": {},
      "outputs": [],
      "source": [
        "def x_squared(x):\n",
        "    return 2*x**2\n",
        "\n",
        "def forward_difference(f_x, x, h):\n",
        "    return (f_x(x+h) - f_x(x)) / h\n",
        "    "
      ],
      "id": "b0e75205"
    },
    {
      "cell_type": "code",
      "execution_count": 3,
      "metadata": {},
      "outputs": [
        {
          "output_type": "display_data",
          "metadata": {},
          "data": {
            "text/plain": [
              "20.019999999999527"
            ]
          }
        }
      ],
      "source": [
        "forward_difference(x_squared,5, 0.01)"
      ],
      "id": "568b9eef"
    },
    {
      "cell_type": "markdown",
      "metadata": {},
      "source": [
        "### We need to converge with respect to the step size $h$\n",
        "\n",
        "Our expressions above are approximations as they are only exactly equal\n",
        "to the derivative when the step size $h$ is zero. Whether using\n",
        "forwards, backwards or central differences it is important to converge\n",
        "with respect to a decreasing step size $h$.\n",
        "\n",
        "Note that in the next tutorial we will see that it is also possible to\n",
        "make $h$ too small!\n",
        "\n",
        "As we can see from the example in the image at the top of the page, the\n",
        "central difference is (in general) more accurate than the forward or\n",
        "backward differences. <mark> In fact, the error is order $h$ for the\n",
        "forwards and backwards methods, and order $h^2$ for the central\n",
        "difference. </mark>\n",
        "\n",
        "Let’s test this idea using our simple $2x^2$ example that we started\n",
        "above:"
      ],
      "id": "74d041d8-5c75-488c-b50b-5462b26a7d18"
    },
    {
      "cell_type": "code",
      "execution_count": 4,
      "metadata": {},
      "outputs": [],
      "source": [
        "exact_answer = 20\n",
        "\n",
        "def calculate_x2_error(h):\n",
        "    error = exact_answer - forward_difference(x_squared,5, h)\n",
        "    print (\"error for h={} is {}\".format(h,round(error,10)))"
      ],
      "id": "0faadf3a"
    },
    {
      "cell_type": "code",
      "execution_count": 5,
      "metadata": {},
      "outputs": [
        {
          "output_type": "stream",
          "name": "stdout",
          "text": [
            "error for h=0.01 is -0.02\n",
            "error for h=0.005 is -0.01\n",
            "error for h=0.0025 is -0.005"
          ]
        }
      ],
      "source": [
        "calculate_x2_error(0.01)\n",
        "calculate_x2_error(0.005)\n",
        "calculate_x2_error(0.0025)"
      ],
      "id": "2e2ea149"
    },
    {
      "cell_type": "markdown",
      "metadata": {},
      "source": [
        "We can see that as the step size $h$ is halved, the error halves.\n",
        "\n",
        "### Second-order derivatives can be calculated using finite differences\n",
        "\n",
        "The second derivative is a derivative of a derivative, and so we can\n",
        "calculate it be applying the first derivative formulas twice. The\n",
        "resulting expression (after application of central differences) is:\n",
        "\n",
        "Let’s test this out using the $2x^2$ example that we started above:"
      ],
      "id": "19e8d1ba-0033-4eed-b505-64e3e947b65d"
    },
    {
      "cell_type": "code",
      "execution_count": 6,
      "metadata": {},
      "outputs": [],
      "source": [
        "def second_order_forward_difference(f_x, x, h):\n",
        "    return (f_x(x+h) - 2*f_x(x) + f_x(x-h)) / (h**2)"
      ],
      "id": "81e14eb1"
    },
    {
      "cell_type": "code",
      "execution_count": 7,
      "metadata": {},
      "outputs": [
        {
          "output_type": "display_data",
          "metadata": {},
          "data": {
            "text/plain": [
              "3.9999999999906777"
            ]
          }
        }
      ],
      "source": [
        "second_order_forward_difference(x_squared, 5, 0.01)"
      ],
      "id": "e022ca47-a583-4566-83d0-346abc019443"
    },
    {
      "cell_type": "markdown",
      "metadata": {},
      "source": [
        "The second derivative of $2x^2$ is 4, so the implementation appears\n",
        "correct.\n",
        "\n",
        "### Partial derivatives can be calculated using finite differences\n",
        "\n",
        "The extension to partial derivatives is also relatively\n",
        "straight-forward. At this point we also consider a second dependent\n",
        "variable, $y$.\n",
        "\n",
        "Let’s consider another example, where we calculate the $x$-component of\n",
        "a force $F$ in a potential energy $U = x^2+y^2$, at $x=5,y=10$. We know\n",
        "that the force and potential energy are calculated as follows:\n",
        "\n",
        "$$F_x = \\frac{\\partial U}{\\partial x}$$"
      ],
      "id": "21d49a69-6676-4266-ad3c-aa9a6116f289"
    },
    {
      "cell_type": "code",
      "execution_count": 35,
      "metadata": {},
      "outputs": [],
      "source": [
        "def potential_energy(x,y):\n",
        "    return x**2 + y**2\n",
        "\n",
        "def partial_dfdx(f_x, x, y, h):\n",
        "    return (f_x(x+(h/2),y) - f_x(x-(h/2),y)) / h"
      ],
      "id": "8fb30b30"
    },
    {
      "cell_type": "code",
      "execution_count": 36,
      "metadata": {},
      "outputs": [
        {
          "output_type": "display_data",
          "metadata": {},
          "data": {
            "text/plain": [
              "10.000000000000853"
            ]
          }
        }
      ],
      "source": [
        "partial_dfdx(potential_energy, 5, 10, 0.01)"
      ],
      "id": "017a97f2"
    },
    {
      "cell_type": "markdown",
      "metadata": {},
      "source": [
        "Which is close to the analytic answer of 10.\n",
        "\n",
        "### The Laplacian operator corresponds to an average rate of change\n",
        "\n",
        "The <mark>Laplacian operator</mark> $\\nabla^2$ is a very important\n",
        "differential operator in physics. We will see it later in the course,\n",
        "when studying partial differential equations. It is used to\n",
        "mathematically describe a variety of physical processes, including\n",
        "diffusion, gravitational potentials, wave propogation and fluid flow.\n",
        "\n",
        "When applied to $f$ and written in full for a two dimensional cartesian\n",
        "coordinate system with dependent variables $x$ and $y$ it takes the\n",
        "following form:\n",
        "\n",
        "With equivalent expressions for a single dimension or extension to\n",
        "higher dimensions.\n",
        "\n",
        "We can think of the laplacian as encoding an average rate of change. To\n",
        "develop an intuition for how the laplacian can be interpreted\n",
        "physically, we need to understand two related operators - div and curl.\n",
        "We will not explore these operators further in this lesson, but a\n",
        "related video is listed under external resources.\n",
        "\n",
        "### The Laplacian can be calculated using finite differences\n",
        "\n",
        "By adding the two equations for second order partial derivatives\n",
        "(Equations 8 and 9), we find that the Laplacian in two dimensions is:\n",
        "\n",
        "The expression above is known as a <mark>five-point stencil</mark> as it\n",
        "uses five points to calculate the Laplacian.\n",
        "\n",
        "> **Keypoints**\n",
        ">\n",
        "> -   Finite difference methods are a family of techniques used to\n",
        ">     calculate derivatives\n",
        "> -   A numerical derivative can be calculated using the forward,\n",
        ">     backward or central finite difference\n",
        "> -   We need to converge with respect to the step size $h$\n",
        "> -   Second-order derivatives, partial derivatives and the Laplacian\n",
        ">     can also be calculated using finite differences\n",
        "> -   The Laplacian operator corresponds to an average rate of change\n",
        "\n",
        "### Test your understanding\n",
        "\n",
        "> **Implementing the Laplacian**\n",
        ">\n",
        "> 1.  Use a five-point stencil to calculate\n",
        ">\n",
        "> $$\\nabla^2\\phi = \\frac{\\partial^2\\phi}{\\partial x^2} + \\frac{\\partial^2\\phi}{\\partial y^2} + \\frac{\\partial^2\\phi}{\\partial z^2}$$\n",
        ">\n",
        "> for $\\phi = 6\\cos(x)+7\\sin(y)$ at $x=\\pi$ and $y=\\pi$, using a\n",
        "> step-size of your choice.\n",
        ">\n",
        "> 1.  Compare to the exact answer.\n",
        ">\n",
        "> > **Show answer**\n",
        "> >\n",
        "> > 1.  \n",
        "> >\n",
        "> > ``` python\n",
        "> > import math\n",
        "> >\n",
        "> > def integrand(x,y):\n",
        "> >     return 6*math.cos(x) + 7*math.sin(y)\n",
        "> >\n",
        "> > def laplacian(f_xy, x, y, h):\n",
        "> >     return (f_xy(x+h,y) + f_xy(x-h,y) + f_xy(x,y+h) + f_xy(x,y-h) - 4*(f_xy(x,y))) / (h**2)    \n",
        "> >   \n",
        "> > laplacian(integrand, math.pi, math.pi, 1E-2)\n",
        "> > ```\n",
        "> >\n",
        "> > ``` output\n",
        "> > 5.999950000159515\n",
        "> > ```\n",
        "> >\n",
        "> > 1.  This is within 1e-5 to the exact answer of 6."
      ],
      "id": "8cf036e7-98e8-4fd1-bb50-cfbbb81e2e9b"
    }
  ],
  "nbformat": 4,
  "nbformat_minor": 5,
  "metadata": {
    "kernelspec": {
      "name": "python3",
      "display_name": "Python 3 (ipykernel)",
      "language": "python"
    },
    "language_info": {
      "name": "python",
      "codemirror_mode": {
        "name": "ipython",
        "version": "3"
      },
      "file_extension": ".py",
      "mimetype": "text/x-python",
      "nbconvert_exporter": "python",
      "pygments_lexer": "ipython3",
      "version": "3.10.10"
    }
  }
}