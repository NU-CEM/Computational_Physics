{
  "cells": [
    {
      "cell_type": "markdown",
      "metadata": {},
      "source": [
        "# Riemann sums\n",
        "\n",
        "> **Questions**\n",
        ">\n",
        "> -   How can I do basic numerical integration?\n",
        "\n",
        "> **Objectives**\n",
        ">\n",
        "> -   Use the rectangular-slice approximation to calculate integrals\n",
        "> -   Describe the difference between a zeroth-order and first-order\n",
        ">     integration rule\n",
        "\n",
        "### Depending on the functional form of f(x), it may not be possible to calculate an integral analytically\n",
        "\n",
        "The integral of $f(x)$ from $a$ to $b$ is the area under the curve.\n",
        "Depending on the functional form of $f(x)$, it may not be possible to\n",
        "calculate the integral analytically."
      ],
      "id": "6e5a506a-e647-4921-9bb2-985d0f0df790"
    },
    {
      "cell_type": "raw",
      "metadata": {
        "raw_mimetype": "text/html"
      },
      "source": [
        "<figure>"
      ],
      "id": "077a141c-707e-4ed1-9a91-e66f75f0e7b2"
    },
    {
      "cell_type": "markdown",
      "metadata": {},
      "source": [
        "<img src=\"../images/integration.png\" width=500 />"
      ],
      "id": "c981ed2e-fcee-4750-9363-971e0542ce41"
    },
    {
      "cell_type": "raw",
      "metadata": {
        "raw_mimetype": "text/html"
      },
      "source": [
        "</figure>"
      ],
      "id": "673378af-b204-4a33-ac0e-b70bbd19181c"
    },
    {
      "cell_type": "markdown",
      "metadata": {},
      "source": [
        "### Riemann sums are a family of methods used for approximating integrals\n",
        "\n",
        "The Riemann definition of the integral $I$ is:\n",
        "\n",
        "$$ I = \\lim_{n\\to\\infty} \\sum_{i=1}^N h f(x_i)$$\n",
        "\n",
        "where the domain of integration has been split into $N$ slices, each\n",
        "with width $h = \\frac{b-a}{N}$. As we cannot in practice consider an\n",
        "infinite number of slices, this definition will give an approximation to\n",
        "the exact answer. By making $N$ large are approximation will, in many\n",
        "cases, be reasonable.\n",
        "\n",
        "### The simplest Riemann sum is based on rectangular slices\n",
        "\n",
        "The simplest way to use this approach is to calculate $f(x_i)$ at some\n",
        "point on each slice and then calculate the area of the associated\n",
        "rectangle:\n",
        "\n",
        "$$ A_i = hf(x_i)$$\n",
        "\n",
        "The integral is given by summing over all of the rectangles:\n",
        "\n",
        "$$ \\int_a^b f(x_i) dx \\approx \\sum_{i=1}^N A_i $$"
      ],
      "id": "a00e87e0-597b-4dfa-9c3e-08d5459b5a2a"
    },
    {
      "cell_type": "raw",
      "metadata": {
        "raw_mimetype": "text/html"
      },
      "source": [
        "<figure>"
      ],
      "id": "7e10f665-3a42-42df-92ef-db6e86394e2f"
    },
    {
      "cell_type": "markdown",
      "metadata": {},
      "source": [
        "<img src=\"../images/integration2.png\" width=500 />"
      ],
      "id": "10aefddf-9539-44b1-8b8e-3ee921bc6859"
    },
    {
      "cell_type": "raw",
      "metadata": {
        "raw_mimetype": "text/html"
      },
      "source": [
        "</figure>"
      ],
      "id": "058191c0-44f3-4e43-806e-5a652f7e2ad4"
    },
    {
      "cell_type": "markdown",
      "metadata": {},
      "source": [
        "### The rectangular slices method can be translated to Python code in a straight-forward manner\n",
        "\n",
        "For example, we may want to calculate the integral of $\\sin(x)$ from 0\n",
        "to $\\frac{\\pi}{2}$. This is an integral that can be evaluated\n",
        "analytically, so it doesn’t usually make sense to calculate\n",
        "numerically - however, in this case, we can use it to establish that our\n",
        "method is correct."
      ],
      "id": "64ca9a1a-0f29-43c5-bc4f-0c4da0d9f411"
    },
    {
      "cell_type": "code",
      "execution_count": 2,
      "metadata": {},
      "outputs": [],
      "source": [
        "import math\n",
        "\n",
        "def sin(x):\n",
        "    \n",
        "    return math.sin(x)\n",
        "\n",
        "def rectangular_slice_integral(f_x, a, b, N):\n",
        "    \n",
        "    integral = 0\n",
        "    h = (b-a) / N   # h is the width of each slice\n",
        "    for i in range(N):\n",
        "        x = a + h*i # the x value for the slice\n",
        "        integral += f_x(x)*h\n",
        "    return integral"
      ],
      "id": "e5414535"
    },
    {
      "cell_type": "markdown",
      "metadata": {},
      "source": [
        "Note that the function `rectangular_slice_integral` has an argument\n",
        "`f_x` which is itself a function. This is valid Python - you can pass\n",
        "one function to another function as an argument."
      ],
      "id": "e6e12377-cf07-4a7a-8624-9ff34e86bcb7"
    },
    {
      "cell_type": "code",
      "execution_count": 3,
      "metadata": {},
      "outputs": [
        {
          "output_type": "display_data",
          "metadata": {},
          "data": {
            "text/plain": [
              "0.9921254566056334"
            ]
          }
        }
      ],
      "source": [
        "rectangular_slice_integral(sin,0,math.pi/2,100)"
      ],
      "id": "c902c3a5"
    },
    {
      "cell_type": "markdown",
      "metadata": {},
      "source": [
        "In fact, it is possible to pass the `math.sin()` function directly to\n",
        "`rectangular_slice_integral()`:"
      ],
      "id": "685ff0eb-5542-4b29-9d58-b216aa368796"
    },
    {
      "cell_type": "code",
      "execution_count": 4,
      "metadata": {},
      "outputs": [
        {
          "output_type": "display_data",
          "metadata": {},
          "data": {
            "text/plain": [
              "0.9921254566056334"
            ]
          }
        }
      ],
      "source": [
        "rectangular_slice_integral(math.sin,0,math.pi/2,100)"
      ],
      "id": "15f7caf4"
    },
    {
      "cell_type": "markdown",
      "metadata": {},
      "source": [
        "This is pretty close to the correct value of 1. To improve our\n",
        "approximation we can increase the number of slices:"
      ],
      "id": "9e809353-df83-416b-9f8a-3c88482771f5"
    },
    {
      "cell_type": "code",
      "execution_count": 5,
      "metadata": {},
      "outputs": [
        {
          "output_type": "display_data",
          "metadata": {},
          "data": {
            "text/plain": [
              "0.9960678687587687"
            ]
          }
        }
      ],
      "source": [
        "rectangular_slice_integral(math.sin,0,math.pi/2,200)"
      ],
      "id": "8f8f21f6"
    },
    {
      "cell_type": "markdown",
      "metadata": {},
      "source": [
        "<mark> The Riemann sums method a zeroth-order integration rule that will\n",
        "integrate a zeroth-order polynomial (ie, constant number) exactly. It\n",
        "has an error of order $h$ ($\\mathcal{O}(h)$) - when we halve the\n",
        "rectangular width, we halve the error. </mark>\n",
        "\n",
        "### Riemann sums can be adapted for use with discrete data\n",
        "\n",
        "Not all integrations are integrations of functions. For example, we may\n",
        "want to integrate experimental data, in which case there is no function\n",
        "to call to find the value of f(x). Instead, the most likely form of f(x)\n",
        "is given by the list of data values. In this case we can use the same\n",
        "method, but the implementation is slightly different:"
      ],
      "id": "e57ffb48-f3e7-4ce7-a446-18ffdbe5bf72"
    },
    {
      "cell_type": "code",
      "execution_count": 6,
      "metadata": {},
      "outputs": [],
      "source": [
        "def rectangular_slice_integral_discrete(data, h):\n",
        "    \n",
        "    return h*sum(data)"
      ],
      "id": "852358f2"
    },
    {
      "cell_type": "markdown",
      "metadata": {},
      "source": [
        "<mark> Note that this assumes the data is evenly spaced at width $h$\n",
        "</mark>.\n",
        "\n",
        "To test our function using the same example as above we need to generate\n",
        "a list of sin(x) values between 0 to $\\frac{\\pi}{2}$:"
      ],
      "id": "1845efc7-8c8b-4753-a0c7-61056cf1afad"
    },
    {
      "cell_type": "code",
      "execution_count": 13,
      "metadata": {},
      "outputs": [],
      "source": [
        "import numpy as np\n",
        "\n",
        "h = (math.pi/2)/100\n",
        "sin_0_90 = [math.sin(x) for x in np.arange(0,math.pi/2,h)]"
      ],
      "id": "c3bd4d6b"
    },
    {
      "cell_type": "markdown",
      "metadata": {},
      "source": [
        "where we are using [Python list\n",
        "comprehension](https://realpython.com/list-comprehension-python/#using-list-comprehensions)\n",
        "and the Numpy arange function to generate a list of evenly spaced\n",
        "floats.\n",
        "\n",
        "If we are simulating experimental data we should add a little noise or\n",
        "randomness to the data. We can use the Python standard library `random`\n",
        "and list comprehension to do this:"
      ],
      "id": "6f420f92-8e34-498c-b39c-f7f1e3351184"
    },
    {
      "cell_type": "code",
      "execution_count": 14,
      "metadata": {},
      "outputs": [],
      "source": [
        "import random\n",
        "\n",
        "sin_0_90_noise = [x+random.uniform(-0.1,0.1) for x in sin_0_90]"
      ],
      "id": "0ece98ee"
    },
    {
      "cell_type": "markdown",
      "metadata": {},
      "source": [
        "We can now pass this list to our function\n",
        "`rectangular_slice_integral_discrete`:"
      ],
      "id": "6efc15cf-6764-4411-aa99-8e30f0e1264d"
    },
    {
      "cell_type": "code",
      "execution_count": 15,
      "metadata": {},
      "outputs": [
        {
          "output_type": "display_data",
          "metadata": {},
          "data": {
            "text/plain": [
              "1.0094729791206596"
            ]
          }
        }
      ],
      "source": [
        "rectangular_slice_integral_discrete(sin_0_90_noise, h)"
      ],
      "id": "7e12c7c1"
    },
    {
      "cell_type": "markdown",
      "metadata": {},
      "source": [
        "We can visualise the exact sinusoidal curve and noisy sinusoidal curve\n",
        "using the `matplotlib` plotting library:"
      ],
      "id": "4a38dac1-2601-41a3-89a9-4a76dbb99d52"
    },
    {
      "cell_type": "code",
      "execution_count": 18,
      "metadata": {},
      "outputs": [
        {
          "output_type": "display_data",
          "metadata": {},
          "data": {
            "image/png": "[encoded data removed]"
          }
        }
      ],
      "source": [
        "import matplotlib.pyplot as plt\n",
        "\n",
        "plt.plot(np.arange(0,math.pi/2,h),sin_0_90,label=\"exact sine\")\n",
        "plt.plot(np.arange(0,math.pi/2,h),sin_0_90_noise,label=\"noisy sine\")"
      ],
      "id": "d67d0cf4"
    },
    {
      "cell_type": "markdown",
      "metadata": {},
      "source": [
        "### Higher-order Riemann sums increase the accuracy of our approximations\n",
        "\n",
        "We can greatly improve the efficiency of our integration by\n",
        "approximating the slices as trapezoids instead of as rectangles. This is\n",
        "because the area under the trapezoids is a considerably better\n",
        "approximation to the area under the curve.\n",
        "\n",
        "<mark> The trapezoidal rule a first-order integration rule that will\n",
        "integrate a first-order polynomial (ie, a straight line) exactly. We can\n",
        "say it is *accurate* to order $h$ ($\\mathcal{O}(h)$) and has an *error*\n",
        "of order $h^2$ $\\mathcal{O}(h^2)$ </mark>."
      ],
      "id": "161d6c55-9119-4352-a1ea-920f6f7afd98"
    },
    {
      "cell_type": "raw",
      "metadata": {
        "raw_mimetype": "text/html"
      },
      "source": [
        "<figure>"
      ],
      "id": "3a301b06-6c58-491c-a479-a2705c201f11"
    },
    {
      "cell_type": "markdown",
      "metadata": {},
      "source": [
        "<img src=\"../images/integration3.png\" width=500 />"
      ],
      "id": "cb1c2fbd-f7e7-4d3a-8264-605d8572ed26"
    },
    {
      "cell_type": "raw",
      "metadata": {
        "raw_mimetype": "text/html"
      },
      "source": [
        "</figure>"
      ],
      "id": "32fa9d89-8de1-4a6e-8ccf-cf322e686113"
    },
    {
      "cell_type": "markdown",
      "metadata": {},
      "source": [
        "In many cases we can use Simpson’s Rule for greater accuracy still. This\n",
        "technique involves fitting quadratic curves to pairs of slices and then\n",
        "calculating the area under the quadratics. In many cases Simpson’s rule\n",
        "is more accurate than the trapezoidal rule, but this is not guaranteed\n",
        "for all integrands.\n",
        "\n",
        "> **Keypoints**\n",
        ">\n",
        "> -   Depending on the functional form of f(x), it may not be possible\n",
        ">     to calculate an integral analytically\n",
        "> -   Riemann sums are a family of methods used for approximating\n",
        ">     integral\n",
        "> -   The simplest Riemann sum is based on rectangular slices\n",
        "> -   The rectangular slices method can be translated to Python code in\n",
        ">     a straight-forward manner\n",
        "> -   Riemann sums can be adapted for use with discrete data\n",
        "> -   Higher-order Riemann sums increase the accuracy of our\n",
        ">     approximations\n",
        "\n",
        "### Test your understanding\n",
        "\n",
        "> **Integrating a semicircle**\n",
        ">\n",
        "> 1.  Use Riemann sums (with 100 rectangular slices) to calculate the\n",
        ">     value of the integral:\n",
        ">\n",
        "> $$ I = \\int_{-1}^1\\sqrt{1-x^2}\\mathrm{d}x $$\n",
        ">\n",
        "> 1.  How does this compare to exact answer? (Hint: the integrand is a\n",
        ">     semicircle of radius 1)\n",
        ">\n",
        "> 2.  How can you improve the accuracy of your estimate?\n",
        ">\n",
        "> > **Show answer**\n",
        "> >\n",
        "> > 1.  We can use the same approach as in the tutorial, but with a\n",
        "> >     different function for calculating the integrand.\n",
        "> >\n",
        "> > ``` python\n",
        "> > import math\n",
        "> >\n",
        "> > def semicircle(x):\n",
        "> >     \n",
        "> >     return math.sqrt(1-x**2)\n",
        "> >\n",
        "> > def rectangular_slice_integral(f_x, a, b, N):\n",
        "> >     \n",
        "> >     integral = 0\n",
        "> >     h = (b-a) / N   # h is the width of each slice\n",
        "> >     for i in range(N):\n",
        "> >         x = a + h*i # the x value for the slice\n",
        "> >         integral += f_x(x)*h\n",
        "> >     return integral\n",
        "> >     \n",
        "> > rectangular_slice_integral(semicircle, -1, 1, 100)\n",
        "> > ```\n",
        "> >\n",
        "> > ``` output\n",
        "> > 1.5691342555492505\n",
        "> > ```\n",
        "> >\n",
        "> > 1.  The exact answer is $\\frac{\\pi}{2}$. The error on our\n",
        "> >     calculation is\n",
        "> >\n",
        "> > ``` python\n",
        "> > math.pi/2 - rectangular_slice_integral(semicircle, -1, 1, 100)\n",
        "> > ```\n",
        "> >\n",
        "> > ``` output\n",
        "> > 0.0016620712456461018\n",
        "> > ```\n",
        "> >\n",
        "> > 1.  To improve the accuracy we can use a larger number of slices:\n",
        "> >\n",
        "> > ``` python\n",
        "> > math.pi/2 - rectangular_slice_integral(semicircle, -1, 1, 1000)\n",
        "> > ```\n",
        "> >\n",
        "> > ``` output\n",
        "> > 5.2588293825595045e-05\n",
        "> > ```"
      ],
      "id": "6a968f82-f3c3-4dfd-a1a2-d51972de19f3"
    }
  ],
  "nbformat": 4,
  "nbformat_minor": 5,
  "metadata": {
    "kernelspec": {
      "name": "python3",
      "display_name": "Python 3 (ipykernel)",
      "language": "python"
    },
    "language_info": {
      "name": "python",
      "codemirror_mode": {
        "name": "ipython",
        "version": "3"
      },
      "file_extension": ".py",
      "mimetype": "text/x-python",
      "nbconvert_exporter": "python",
      "pygments_lexer": "ipython3",
      "version": "3.10.10"
    }
  }
}