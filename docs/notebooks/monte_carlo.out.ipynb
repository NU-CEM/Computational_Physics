{
  "cells": [
    {
      "cell_type": "markdown",
      "metadata": {},
      "source": [
        "# Monte Carlo\n",
        "\n",
        "> **Questions**\n",
        ">\n",
        "> -   How do I generate random numbers?\n",
        "> -   How do I integrate using Monte Carlo methods?\n",
        "> -   When might Monte Carlo integration be useful?\n",
        "\n",
        "> **Objectives**\n",
        ">\n",
        "> -   Use the `random` module to generate random numbers\n",
        "> -   Use Monte Carlo methods to calculate the area of a circle\n",
        "\n",
        "### There are many different numerical methods for calculating integrals\n",
        "\n",
        "In the previous section we studied the simplest methods for calculating\n",
        "integrals: the rectangular-slice method . For increased accuracy and\n",
        "computational efficiency, there are extensions to this approach - for\n",
        "example, the trapezoid method (where each slice is a trapezoid rather\n",
        "than rectangle) or Simpson’s rule (where a quadratic curve is fitted to\n",
        "each slice). For certain classes of functions we can increase the\n",
        "performance further using more specialised approaches such as Gaussian\n",
        "Quadrature.\n",
        "\n",
        "One particularly flexible and general purpose approach for calculating\n",
        "integrals is to use Monte Carlo integration. This approach is useful\n",
        "when the integrand is “pathological” (wildly varying) or noisy, or when\n",
        "the integration is performed over several variables.\n",
        "\n",
        "### Monte Carlo methods calculate the answers to exact calculations by doing random calculations\n",
        "\n",
        "Monte Carlo methods are a broad class of algorithms that rely on random\n",
        "sampling to obtain numerical results. The underlying concept is to use\n",
        "randomness to solve problems that might be deterministic in principle.\n",
        "“Monte Carlo” is a reference to a well-known casino town, since the\n",
        "element of chance is core to the modelling approach, similar to various\n",
        "casino games.\n",
        "\n",
        "Monte Carlo methods are applied across a wide variety of domains, most\n",
        "commonly mathematics, physics and finance. In physics, Monte Carlo\n",
        "methods are used to design particle detectors, model galaxy evolution\n",
        "and solve the many-body problem for quantum systems, amongst many other\n",
        "applications. In this lesson we will introduce one of the main uses of\n",
        "Monte Carlo: for integration.\n",
        "\n",
        "### The Monte Carlo “area method” estimates integrals by generating a uniform sample of points and counting how many fall into a planar region\n",
        "\n",
        "Consider the shaded area as shown below. This is the integral $I$ which\n",
        "we wish to calculate.\n",
        "\n",
        "<img src=\"../images/mc_area.png\" width=\"400\" >\n",
        "\n",
        "If we choose a point uniformly at random in the rectange (dashed red\n",
        "line) that bounds the shaded area, the probability $p$ that the point\n",
        "falls in the shaded area is\n",
        "\n",
        "$$p = \\frac{I}{A}$$\n",
        "\n",
        "where $A$ is the area of the bounding rectangle. This means that the\n",
        "integral $I$ can be calculated if we know the area of the bounding\n",
        "rectangle and the probability $p$:\n",
        "\n",
        "$$I = Ap$$\n",
        "\n",
        "To calculate $p$ we can randomly generate $N$ points in the bounding\n",
        "area and keep count as to how many lie in the shaded area. If $k$ lie in\n",
        "the shaded area then the fraction of points $\\frac{k}{N}$ should be\n",
        "equal to the probability $p$.\n",
        "\n",
        "$$I = \\frac{Ak}{N}$$\n",
        "\n",
        "We can extend this approach to higher dimensions to consider integrands\n",
        "lying within a bounding volume, or higher dimensional space (which is\n",
        "considered in the [extension\n",
        "exercise](https://nu-cem.github.io/CompPhys/2021/08/02/Random_extension)\n",
        "for this lesson).\n",
        "\n",
        "### We can use the Monte Carlo area method to estimate pi\n",
        "\n",
        "We’ll now use this approach to give us an estimate for the value of pi\n",
        "by considering the area under a quarter-circle."
      ],
      "id": "396e591d-5fac-4372-8e12-57e37a9e5392"
    },
    {
      "cell_type": "raw",
      "metadata": {
        "raw_mimetype": "text/html"
      },
      "source": [
        "<figure>"
      ],
      "id": "c73d9df7-507b-4b87-ba57-e91e6d227c68"
    },
    {
      "cell_type": "markdown",
      "metadata": {},
      "source": [
        "<img src=\"https://raw.githubusercontent.com/coderefinery/jupyter/main/example/darts.svg\" width=300 />"
      ],
      "id": "01eece1f-b5e5-4014-a4a0-6396c2969159"
    },
    {
      "cell_type": "raw",
      "metadata": {
        "raw_mimetype": "text/html"
      },
      "source": [
        "</figure>"
      ],
      "id": "b88edd2b-ddc4-428b-a34a-147f87c2c35c"
    },
    {
      "cell_type": "markdown",
      "metadata": {},
      "source": [
        "The relevant equations are:\n",
        "\n",
        "square area: $A_s = (2 r)^2$  \n",
        "circle area: $A_c = \\pi r^2$\n",
        "\n",
        "The ratio of the areas can be related to $\\pi$ through the following\n",
        "expressions:\n",
        "\n",
        "$$\\frac{A_c}{A_s} = \\frac{\\pi r^2}{4 r^2} = \\frac{\\pi}{4}$$  \n",
        "$$\\pi = 4\\frac{A_c}{A_s}$$\n",
        "\n",
        "To approximate the ratio $\\frac{A_c}{A_s}$ we will generate a (uniform)\n",
        "pseudo-random number between 0 and 1 for our x-coordinates, and a\n",
        "(uniform) pseudo-random number between 0 and 1 for our y-coordinates. We\n",
        "will then check if our random point lies in or out of the circle. The\n",
        "probability $P_i$ that our point lies in the circle is related to the\n",
        "area ratio and so value of pi:\n",
        "\n",
        "$$P_i = \\frac{A_c}{A_s} = \\frac{\\pi}{4}$$\n",
        "\n",
        "### The Monte Carlo area method can be translated into Python code"
      ],
      "id": "7af85344-7708-46bf-bfba-6eb8f478fe81"
    },
    {
      "cell_type": "code",
      "execution_count": 47,
      "metadata": {},
      "outputs": [],
      "source": [
        "# importing the modules we will need\n",
        "import random\n",
        "import math\n",
        "\n",
        "# in this function we generate random numbers and count how many lie within the circle\n",
        "def estimate_pi(num_points):\n",
        "    \n",
        "    points = []\n",
        "    hits = 0\n",
        "    for i in range(num_points):\n",
        "        # random.random returns a random number drawn from a uniform distribution from 0 to 1\n",
        "        x, y = random.random(), random.random()\n",
        "        # we test if the point is within the circle (using the equation for a circle, X^2+y^2=r^2)\n",
        "        if x*x + y*y < 1.0:\n",
        "            hits += 1\n",
        "    \n",
        "    probability = hits / num_points\n",
        "    return probability*4\n",
        "        "
      ],
      "id": "8f16b870"
    },
    {
      "cell_type": "code",
      "execution_count": 48,
      "metadata": {},
      "outputs": [
        {
          "output_type": "display_data",
          "metadata": {},
          "data": {
            "text/plain": [
              "3.104"
            ]
          }
        }
      ],
      "source": [
        "estimate_pi(1000)"
      ],
      "id": "aa8ed66c"
    },
    {
      "cell_type": "code",
      "execution_count": 46,
      "metadata": {},
      "outputs": [
        {
          "output_type": "display_data",
          "metadata": {},
          "data": {
            "text/plain": [
              "3.176"
            ]
          }
        }
      ],
      "source": [
        "estimate_pi(2000)"
      ],
      "id": "d010c81e"
    },
    {
      "cell_type": "markdown",
      "metadata": {},
      "source": [
        "This method usually improves with the number of points, however there\n",
        "can be some variation due to the randomness of the numbers used. If you\n",
        "would like others to reproduce your exact results, you can seed the\n",
        "(pseudo-)random number generator:"
      ],
      "id": "65c86e68-6071-4826-940c-b859ce480a62"
    },
    {
      "cell_type": "code",
      "execution_count": 42,
      "metadata": {},
      "outputs": [
        {
          "output_type": "stream",
          "name": "stdout",
          "text": [
            "error is 0.029592653589793017"
          ]
        }
      ],
      "source": [
        "random.seed(1)\n",
        "print(\"error is {}\".format(math.pi-estimate_pi(1000)))"
      ],
      "id": "b34c8768"
    },
    {
      "cell_type": "code",
      "execution_count": 43,
      "metadata": {},
      "outputs": [
        {
          "output_type": "stream",
          "name": "stdout",
          "text": [
            "error is -0.004407346410206792"
          ]
        }
      ],
      "source": [
        "random.seed(1)\n",
        "print(\"error is {}\".format(math.pi-estimate_pi(2000)))"
      ],
      "id": "f77d829c"
    },
    {
      "cell_type": "markdown",
      "metadata": {},
      "source": [
        "### Monte Carlo integration is computationally efficient for particular types of integrand\n",
        "\n",
        "The error when using Monte Carlo integration is proportional to\n",
        "$N^{-\\frac{1}{2}}$, which is larger than the rectangular slice approach\n",
        "with error order $h \\propto N^{-1}$ (where $N$ in this case is the\n",
        "number of integration slices). However Monte Carlo methods are more\n",
        "flexible and can be used where other methods break-down: for example,\n",
        "they are particularly useful for integrating functions where the\n",
        "integrand varies very quickly, and/or where the integral is over many\n",
        "variables. In many cases, for “well behaved” functions, an approach\n",
        "based on Riemann summation will give more accurate and computationally\n",
        "efficient results.\n",
        "\n",
        "> **Keypoints**\n",
        ">\n",
        "> -   There are many different numerical methods for calculating\n",
        ">     integrals\n",
        "> -   Monte Carlo methods calculate the answers to exact calculations by\n",
        ">     doing random calculations\n",
        "> -   The Monte Carlo “area method” estimates integrals by generating a\n",
        ">     uniform sample of points and counting how many fall into a planar\n",
        ">     region\n",
        "> -   We can use the Monte Carlo area method to estimate pi\n",
        "> -   The Monte Carlo area method can be translated into Python code\n",
        "> -   Monte Carlo integration is computationally efficient for\n",
        ">     particular types of integrand\n",
        "\n",
        "### Test your understanding\n",
        "\n",
        "> **Integrating a semicircle re-visited**\n",
        ">\n",
        "> 1.  Use Monte Carlo integration (with 100 random points) to calculate\n",
        ">     the value of the integral:\n",
        ">\n",
        "> $$ I = \\int_{-1}^1\\sqrt{1-x^2}\\mathrm{d}x $$\n",
        ">\n",
        "> 1.  How does this compare to exact answer? (Hint: the integrand is a\n",
        ">     semicircle of radius 1)\n",
        ">\n",
        "> 2.  How can you improve the accuracy of your estimate?\n",
        ">\n",
        "> 3.  Increase the number of points until you get an accuracy comparable\n",
        ">     (same order of magnitude) as the Riemann sum method with 100\n",
        ">     points.\n",
        ">\n",
        "> 4.  Use the [%%timeit notebook\n",
        ">     magic](https://ipython.readthedocs.io/en/stable/interactive/magics.html#magic-timeit)\n",
        ">     to compare the calculation times for the Riemann sum method and\n",
        ">     Monte Carlo method. Which is more efficient?\n",
        ">\n",
        "> > **Show answer**\n",
        "> >\n",
        "> > 1.  We want to calculate the area of a semicircle with radius 1. We\n",
        "> >     can adapt the approach used in the Monte Carlo tutorial but, in\n",
        "> >     this case, we use the fact that $P_i = \\frac{A_c}{A_r}$ where\n",
        "> >     $A_r$ is a rectangle of length 2 (as the semicircle goes from\n",
        "> >     $-1$ to $1$) and height 1.\n",
        "> >\n",
        "> > ``` python\n",
        "> > import random\n",
        "> > import math\n",
        "> >     \n",
        "> > def estimate_semicircle_area(num_points):\n",
        "> >     \n",
        "> >     points = []\n",
        "> >     hits = 0\n",
        "> >     for i in range(num_points):\n",
        "> >         # random.uniform(a,b) returns a random number drawn from a uniform distribution from a to b\n",
        "> >         x, y = random.uniform(-1,1), random.uniform(0,1)\n",
        "> >         # we test if the point is within the circle (using the equation for a circle, X^2+y^2=r^2)\n",
        "> >         if x*x + y*y < 1.0:\n",
        "> >             hits += 1\n",
        "> >     \n",
        "> >     probability = hits / num_points\n",
        "> >     rectangle_area = 2\n",
        "> >     return probability*rectangle_area\n",
        "> >     \n",
        "> > estimate_semicircle_area(100)\n",
        "> > ```\n",
        "> >\n",
        "> > ``` output\n",
        "> > 1.58\n",
        "> > ```\n",
        "> >\n",
        "> > Note that your estimate will be different as you be using a\n",
        "> > different set of random numbers.\n",
        "> >\n",
        "> > 1.  The exact answer is $\\frac{\\pi}{2}$. The error on our\n",
        "> >     calculation is\n",
        "> >\n",
        "> > ``` python\n",
        "> > math.pi/2 - estimate_semicircle_area(100)\n",
        "> > ```\n",
        "> >\n",
        "> > ``` output\n",
        "> > -0.04920367320510355\n",
        "> > ```\n",
        "> >\n",
        "> > 1.  To improve the accuracy we can use a larger number of random\n",
        "> >     points:\n",
        "> >\n",
        "> > ``` python\n",
        "> > math.pi/2 - estimate_semicircle_area(1000)\n",
        "> > ```\n",
        "> >\n",
        "> > ``` output\n",
        "> > 0.04679632679489654\n",
        "> > ```\n",
        "> >\n",
        "> > ``` python\n",
        "> > math.pi/2 - estimate_semicircle_area(10000)\n",
        "> > ```\n",
        "> >\n",
        "> > ``` output\n",
        "> > -0.0048036732051033315\n",
        "> > ```\n",
        "> >\n",
        "> > 1.  Increasing the number of points to 10,000 gives an error\n",
        "> >     comparable to the Riemann sum method with 100 integration slices\n",
        "> >     (where the error is 0.002).\n",
        "> >\n",
        "> > 2.  Let’s use the %%timeit magic to time how long each takes to run\n",
        "> >\n",
        "> > ``` python\n",
        "> > %%timeit\n",
        "> > estimate_semicircle_area(10000)\n",
        "> > ```\n",
        "> >\n",
        "> > ``` output\n",
        "> > 6.23 ms ± 370 µs per loop (mean ± std. dev. of 7 runs, 100 loops each)\n",
        "> > ```\n",
        "> >\n",
        "> > ``` python\n",
        "> > %%timeit\n",
        "> > rectangular_slice_integral(semicircle, -1, 1, 100)\n",
        "> > ```\n",
        "> >\n",
        "> > ``` output\n",
        "> > 31 µs ± 1.09 µs per loop (mean ± std. dev. of 7 runs, 10000 loops each)\n",
        "> > ```\n",
        "> >\n",
        "> > As each method gives roughly the same accuracy, but the\n",
        "> > `estimate_semicircle_area` is 100x smaller, we can deduce that the\n",
        "> > Monte Carlo method implemented in `estimate_semicircle_area` is\n",
        "> > considerably less efficient than the Riemann summation method\n",
        "> > implemented in `rectangular_slice_integral`. However the Monte Carlo\n",
        "> > method is useful for badly behaving systems, as we will see in the\n",
        "> > lesson exercises."
      ],
      "id": "b58d7050-58cf-4a2e-9773-5024e6c86d81"
    }
  ],
  "nbformat": 4,
  "nbformat_minor": 5,
  "metadata": {
    "kernelspec": {
      "name": "python3",
      "display_name": "Python 3 (ipykernel)",
      "language": "python"
    },
    "language_info": {
      "name": "python",
      "codemirror_mode": {
        "name": "ipython",
        "version": "3"
      },
      "file_extension": ".py",
      "mimetype": "text/x-python",
      "nbconvert_exporter": "python",
      "pygments_lexer": "ipython3",
      "version": "3.10.10"
    }
  }
}