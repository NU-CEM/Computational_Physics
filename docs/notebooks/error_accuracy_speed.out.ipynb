{
  "cells": [
    {
      "cell_type": "markdown",
      "metadata": {},
      "source": [
        "# Evaluating numerical error, accuracy and speed\n",
        "\n",
        "> **Questions**\n",
        ">\n",
        "> -   Which numerical errors are unavoidable in a Python programme?\n",
        "> -   How do I choose the optimum step size $h$ when using the finite\n",
        ">     difference method?\n",
        "> -   How can I measure the speed of my code?\n",
        "\n",
        "> **Objectives**\n",
        ">\n",
        "> -   Understand that there are unavoidable rounding errors when working\n",
        ">     with floats\n",
        "> -   Write code for testing if two floats are equivalent (to within\n",
        ">     machine accuracy)\n",
        "> -   Calculate the optimum step size $h$ for finite difference methods\n",
        "> -   Measure the length of time a Notebook cell takes to run using the\n",
        ">     `%time` magic.\n",
        "\n",
        "### Finite difference methods have two sources of error\n",
        "\n",
        "The error in a method’s solution is defined as the difference between\n",
        "the approximation and the exact analytical solution. The two sources of\n",
        "error in finite difference methods are round-off error, the loss of\n",
        "precision due to computer rounding of decimal quantities, and truncation\n",
        "error or discretization error, the difference between the exact solution\n",
        "of the original differential equation and the exact quantity assuming\n",
        "perfect arithmetic (that is, assuming no round-off).\n",
        "\n",
        "### Computers have inherent limitations that lead to rounding errors\n",
        "\n",
        "We have seen how computer programming can be used to model physical\n",
        "systems. However computers have inherent limitations - they cannot store\n",
        "real numbers with an infinite number of decimal places.\n",
        "\n",
        "In many cases this is not a problem, but it is something to be aware of.\n",
        "For example, take the following piece of code:"
      ],
      "id": "f5678954-86dd-402b-aa9c-a38d8e5406e3"
    },
    {
      "cell_type": "code",
      "execution_count": 4,
      "metadata": {
        "tags": []
      },
      "outputs": [],
      "source": [
        "def add_numbers(a,b):\n",
        "    return a+b\n",
        "\n",
        "def test_add_numbers():\n",
        "    assert add_numbers(0.1,0.2) == 0.3"
      ],
      "id": "urban-current"
    },
    {
      "cell_type": "markdown",
      "metadata": {},
      "source": [
        "-   `add_numbers` is a function for adding two Python objects `a` and\n",
        "    `b`.\n",
        "-   `test_add_numbers` is a function for testing is the `add_numbers`\n",
        "    function is working as expected (we will see more on testing later\n",
        "    in the course). This function will raise an error if $0.1 + 0.2$\n",
        "    does not equal 0.3."
      ],
      "id": "47c79306-8876-4f5d-b62c-4f66f9bd8c64"
    },
    {
      "cell_type": "code",
      "execution_count": 5,
      "metadata": {
        "tags": []
      },
      "outputs": [
        {
          "output_type": "display_data",
          "metadata": {},
          "data": {
            "text/plain": [
              "3"
            ]
          }
        }
      ],
      "source": [
        "add_numbers(1,2)"
      ],
      "id": "clear-drinking"
    },
    {
      "cell_type": "markdown",
      "metadata": {},
      "source": [
        "The `add_numbers` function works as expected if we pass it two integers.\n",
        "However when we run the test function we raise an assertion error:"
      ],
      "id": "129d45ee-410b-4a72-8241-ee8a54525b65"
    },
    {
      "cell_type": "code",
      "execution_count": 6,
      "metadata": {
        "tags": []
      },
      "outputs": [],
      "source": [
        "test_add_numbers()"
      ],
      "id": "lucky-trader"
    },
    {
      "cell_type": "markdown",
      "metadata": {},
      "source": [
        "This <mark> rounding error </mark> is given because $0.1+0.2$ does not\n",
        "equal 0.3 exactly:"
      ],
      "id": "773a9045-8a2b-4307-b492-de89211ef678"
    },
    {
      "cell_type": "code",
      "execution_count": 7,
      "metadata": {
        "tags": []
      },
      "outputs": [
        {
          "output_type": "display_data",
          "metadata": {},
          "data": {
            "text/plain": [
              "0.30000000000000004"
            ]
          }
        }
      ],
      "source": [
        "0.1+0.2"
      ],
      "id": "structured-still"
    },
    {
      "cell_type": "markdown",
      "metadata": {},
      "source": [
        "This is because floating point numbers (floats) are represented on the\n",
        "computer to a certain precision. In Python the standard level of\n",
        "precision is 16 significant digits.\n",
        "\n",
        "> Note: The largest value you can give a floating point variable is\n",
        "> about $10^{308}$. The smallest is -$10^{308}$. If you exceed these\n",
        "> values (which is unlikely) then the computer will return an Overflow\n",
        "> error. In contrast, PYthon can represent integers to any precision -\n",
        "> limited only by the memory of the machine.\n",
        "\n",
        "### Do not test for the equality of two floats\n",
        "\n",
        "As we have seen in the previous example, we should not test for the\n",
        "equality of two floats. Instead we should ask if they are equal up to a\n",
        "given precision:"
      ],
      "id": "fd277c46-1dd7-47d1-8496-584dfe6ea4ba"
    },
    {
      "cell_type": "code",
      "execution_count": 8,
      "metadata": {
        "tags": []
      },
      "outputs": [],
      "source": [
        "def add_numbers(a,b):\n",
        "    return a+b\n",
        "\n",
        "epsilon = 1e-12\n",
        "\n",
        "def test_add_numbers():\n",
        "    assert abs(add_numbers(0.1,0.2) - 0.3) < epsilon"
      ],
      "id": "approximate-edgar"
    },
    {
      "cell_type": "code",
      "execution_count": 9,
      "metadata": {
        "tags": []
      },
      "outputs": [],
      "source": [
        "test_add_numbers()"
      ],
      "id": "devoted-minneapolis"
    },
    {
      "cell_type": "markdown",
      "metadata": {},
      "source": [
        "### The finite difference discretisation error is associated with step size $h$\n",
        "\n",
        "The finite difference method is only exact in the limit that $h$ is\n",
        "zero. This is not possible, so the differences we calculate do not give\n",
        "exact derivatives. However one way of improving the finite-$h$\n",
        "approximation is to decrease the step size in space (use a higher number\n",
        "of points on our real space grid). To demonstrate this, consider the\n",
        "Taylor expansion of $f(x)$ about $x$:\n",
        "\n",
        "Re-arranging gives an expression for the forward difference method:\n",
        "\n",
        "When we calculate the forward difference method we ignore all terms\n",
        "$f''(x)$ and higher. The size of the neglected terms gives the\n",
        "approximation error. We can see from above that the error us linear in\n",
        "$h$ so, as we would expect, the approximation generally improves as we\n",
        "decrease step size $h$. Note however that when the step size is\n",
        "decreased the programme will run more slowly.\n",
        "\n",
        "### It is possible to make the step size $h$ too small\n",
        "\n",
        "We also need to think about the rounding errors associated with finite\n",
        "differences. Counter-intuitively, these errors can increase as we\n",
        "decrease the step size $h$.\n",
        "\n",
        "A computer can typically store a number $f(x)$ to an accuracy of 16\n",
        "significant figures, or $Cf(x)$ where $C=10^{-16}$. In the worst case,\n",
        "this makes the error $\\epsilon$ on our derivative:\n",
        "\n",
        "We want to find the value of $h$ which minimises this error so we\n",
        "differentiate with respect to $h$ and set the result equal to zero.\n",
        "\n",
        "If $f(x)$ and $f''(x)$ are order 1, then $h$ should be order $\\sqrt{C}$,\n",
        "or $10^{-8}$.\n",
        "\n",
        "Similar reasoning applied to the central difference formula suggests\n",
        "that the optimum step size for this method is $10^{-5}$.\n",
        "\n",
        "### Use the %time magic to measure the length of time a Jupyter Notebook cell takes to run\n",
        "\n",
        "It is often possible to use a range of numerical methods to achieve the\n",
        "same level of accuracy. In this case, we may want to consider code\n",
        "speed - which method will run the fastest? This is a particularly\n",
        "important question when writing code that is computationally intensive.\n",
        "To measure the length of time it takes for a Jupyter Notebook cell to\n",
        "run we can use the `%` time magic"
      ],
      "id": "dc5abdd6-44c7-4da5-8d15-0524f7fd3994"
    },
    {
      "cell_type": "code",
      "execution_count": 10,
      "metadata": {
        "tags": []
      },
      "outputs": [],
      "source": [
        "def sum_integers(max_integer):\n",
        "    count = 0\n",
        "    for i in range(max_integer):\n",
        "        count += max_integer + 1\n",
        "        \n",
        "    return count\n",
        "        "
      ],
      "id": "swiss-weekend"
    },
    {
      "cell_type": "code",
      "execution_count": 11,
      "metadata": {
        "tags": []
      },
      "outputs": [
        {
          "output_type": "stream",
          "name": "stdout",
          "text": [
            "CPU times: user 72.3 ms, sys: 2.91 ms, total: 75.2 ms\n",
            "Wall time: 73.8 ms"
          ]
        }
      ],
      "source": [
        "%time sum = sum_integers(1000000)"
      ],
      "id": "empty-tamil"
    },
    {
      "cell_type": "markdown",
      "metadata": {},
      "source": [
        "> **Keypoints**\n",
        ">\n",
        "> -   Finite difference methods have two sources of error\n",
        "> -   Computers have inherent limitations that lead to rounding errors\n",
        "> -   Do not test for the equality of two floats\n",
        "> -   The finite difference discretisation error is associated with step\n",
        ">     size ℎ\n",
        "> -   It is possible to make the step size ℎ too smal\n",
        "> -   Use the `%time` magic to measure the length of time a Jupyter\n",
        ">     Notebook cell takes to run"
      ],
      "id": "b7e72e81-fd01-47e0-8977-4816a6f63105"
    }
  ],
  "nbformat": 4,
  "nbformat_minor": 5,
  "metadata": {
    "kernelspec": {
      "name": "python3",
      "display_name": "Python 3 (ipykernel)",
      "language": "python"
    },
    "language_info": {
      "name": "python",
      "codemirror_mode": {
        "name": "ipython",
        "version": "3"
      },
      "file_extension": ".py",
      "mimetype": "text/x-python",
      "nbconvert_exporter": "python",
      "pygments_lexer": "ipython3",
      "version": "3.10.10"
    }
  }
}