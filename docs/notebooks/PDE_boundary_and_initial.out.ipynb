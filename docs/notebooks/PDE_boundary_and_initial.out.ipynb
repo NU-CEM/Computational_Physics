{
  "cells": [
    {
      "cell_type": "markdown",
      "metadata": {},
      "source": [
        "# Initial and boundary conditions\n",
        "\n",
        "> **Questions**\n",
        ">\n",
        "> -   When do I need boundary conditions and initial conditions?\n",
        "\n",
        "> **Objectives**\n",
        ">\n",
        "> -   Identify boundary value problems and initial value problems\n",
        "\n",
        "### PDEs can have boundary conditions *and* initial conditions\n",
        "\n",
        "In the previous section of the course we learnt that ODEs have either\n",
        "initial values or boundary values.\n",
        "\n",
        "#### Boundary value problems\n",
        "\n",
        "PDEs can also be separated in a similar manner. <mark>Boundary value\n",
        "problems</mark> describe the behaviour of a variable in a space and we\n",
        "are given some constraints on the variable around the boundary of that\n",
        "space. For example, consider the 2-dimensional problem of a thin\n",
        "rectangular sheet with one side at voltage $V$ and all others at voltage\n",
        "zero."
      ],
      "id": "24e19115-b8f0-4b31-836a-d6cee2d411c8"
    },
    {
      "cell_type": "raw",
      "metadata": {
        "raw_mimetype": "text/html"
      },
      "source": [
        "<figure>"
      ],
      "id": "090c15fd-def4-469f-b382-095380d9a0bd"
    },
    {
      "cell_type": "markdown",
      "metadata": {},
      "source": [
        "<img src=\"../images/electrostatics.png\" width=\"200\" >"
      ],
      "id": "7a4e403c-14bb-43ec-99a3-7f60bb48fc53"
    },
    {
      "cell_type": "raw",
      "metadata": {
        "raw_mimetype": "text/html"
      },
      "source": [
        "</figure>"
      ],
      "id": "d462e345-872d-4241-a7d8-141c829c1084"
    },
    {
      "cell_type": "markdown",
      "metadata": {},
      "source": [
        "The specification that one side is at voltage $V$ and all others are at\n",
        "voltage zero are the <mark>boundary conditions</mark>. We could then\n",
        "calculate the electrostatic potential $\\phi$ at all points within the\n",
        "sheet using the two-dimensional Laplace’s equation:\n",
        "\n",
        "#### Initial value problems\n",
        "\n",
        "<mark>Initial value problems</mark> are where the field - or other\n",
        "variable of interest - is varying in both space and time. We now require\n",
        "boundary conditions *and* initial values. This is a more difficult type\n",
        "of PDE to solve.\n",
        "\n",
        "For example, consider heat diffusion in a two-dimensional sheet. Here we\n",
        "could specify that there is no heat flow in or out of the sheet - this\n",
        "is the boundary condition."
      ],
      "id": "f527f812-3cd1-4a2c-9a17-62a4f7b09bad"
    },
    {
      "cell_type": "raw",
      "metadata": {
        "raw_mimetype": "text/html"
      },
      "source": [
        "<figure>"
      ],
      "id": "9dfc4f2e-b701-4bfc-960d-5a0563109208"
    },
    {
      "cell_type": "markdown",
      "metadata": {},
      "source": [
        "<img src=\"../images/diffusion1.png\" width=200 />"
      ],
      "id": "d41f88d3-fa58-4889-910b-512e24ded4b2"
    },
    {
      "cell_type": "raw",
      "metadata": {
        "raw_mimetype": "text/html"
      },
      "source": [
        "</figure>"
      ],
      "id": "8cfdaae4-c274-4388-9cb0-350fd067db4a"
    },
    {
      "cell_type": "markdown",
      "metadata": {},
      "source": [
        "We could also specify that at time $t=0$ the centre of the sheet is at\n",
        "temperature $T_1$, whilst surrounding areas are at temperature $T_0$.\n",
        "This is the initial condition. It differs from a boundary condition in\n",
        "that we are told what the temperature is at the start of our time grid\n",
        "(at $t=0$) but not at the end of our time grid (when the simulation\n",
        "finishes)."
      ],
      "id": "67f1fce8-b7ba-424e-9de6-fdd32e6d8cc3"
    },
    {
      "cell_type": "raw",
      "metadata": {
        "raw_mimetype": "text/html"
      },
      "source": [
        "<figure>"
      ],
      "id": "419fa5da-3c1e-4d51-bce1-43a6fbced1aa"
    },
    {
      "cell_type": "markdown",
      "metadata": {},
      "source": [
        "<img src=\"../images/diffusion2.png\" width=200 />"
      ],
      "id": "98c2e1d8-8935-49c6-8d9d-66e68a1c5210"
    },
    {
      "cell_type": "raw",
      "metadata": {
        "raw_mimetype": "text/html"
      },
      "source": [
        "</figure>"
      ],
      "id": "31104e5c-1c07-4b3e-ad0f-af56c477b810"
    },
    {
      "cell_type": "markdown",
      "metadata": {},
      "source": [
        "We could then calculate the temperature at time $t$ at all points\n",
        "$[x,y]$ within the sheet using the two-dimensional Diffusion equation:\n",
        "\n",
        "> **Keypoints**\n",
        ">\n",
        "> -   PDEs can have boundary values and initial values"
      ],
      "id": "42c44029-15e2-4647-8984-02f2ea96e6e2"
    }
  ],
  "nbformat": 4,
  "nbformat_minor": 5,
  "metadata": {
    "kernelspec": {
      "name": "python3",
      "display_name": "Python 3 (ipykernel)",
      "language": "python"
    },
    "language_info": {
      "name": "python",
      "codemirror_mode": {
        "name": "ipython",
        "version": "3"
      },
      "file_extension": ".py",
      "mimetype": "text/x-python",
      "nbconvert_exporter": "python",
      "pygments_lexer": "ipython3",
      "version": "3.10.10"
    }
  }
}