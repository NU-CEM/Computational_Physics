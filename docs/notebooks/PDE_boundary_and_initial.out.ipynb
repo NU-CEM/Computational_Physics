{
  "cells": [
    {
      "cell_type": "markdown",
      "metadata": {},
      "source": [
        "# Initial and boundary conditions\n",
        "\n",
        "> **Questions**\n",
        ">\n",
        "> -   When do I need boundary conditions and initial conditions?\n",
        "\n",
        "> **Objectives**\n",
        ">\n",
        "> -   Identify boundary value problems and initial value problems\n",
        "\n",
        "### PDEs can have boundary conditions *and* initial conditions\n",
        "\n",
        "In the previous section of the course we learnt that ODEs have either\n",
        "initial values or boundary values.\n",
        "\n",
        "#### Boundary value problems\n",
        "\n",
        "PDEs can also be separated in a similar manner. <mark>Boundary value\n",
        "problems</mark> describe the behaviour of a variable in a space and we\n",
        "are given some constraints on the variable around the boundary of that\n",
        "space. For example, consider the 2-dimensional problem of a thin\n",
        "rectangular sheet with one side at voltage $V$ and all others at voltage\n",
        "zero."
      ],
      "id": "e70f43e1-0446-4dc5-8800-e0579c64ab16"
    },
    {
      "cell_type": "raw",
      "metadata": {
        "raw_mimetype": "text/html"
      },
      "source": [
        "<figure>"
      ],
      "id": "61e9f0a9-f9fc-429e-832b-f03dafd3343c"
    },
    {
      "cell_type": "markdown",
      "metadata": {},
      "source": [
        "<img src=\"../images/electrostatics.png\" width=\"200\" >"
      ],
      "id": "a37252fb-b53b-4590-86d3-e56299c24f87"
    },
    {
      "cell_type": "raw",
      "metadata": {
        "raw_mimetype": "text/html"
      },
      "source": [
        "</figure>"
      ],
      "id": "58d50e43-3222-4321-a420-481970033faa"
    },
    {
      "cell_type": "markdown",
      "metadata": {},
      "source": [
        "The specification that one side is at voltage $V$ and all others are at\n",
        "voltage zero are the <mark>boundary conditions</mark>. We could then\n",
        "calculate the electrostatic potential $\\phi$ at all points within the\n",
        "sheet using the two-dimensional Laplace’s equation:\n",
        "\n",
        "#### Initial value problems\n",
        "\n",
        "<mark>Initial value problems</mark> are where the field - or other\n",
        "variable of interest - is varying in both space and time. We now require\n",
        "boundary conditions *and* initial values. This is a more difficult type\n",
        "of PDE to solve.\n",
        "\n",
        "For example, consider heat diffusion in a two-dimensional sheet. Here we\n",
        "could specify that there is no heat flow in or out of the sheet - this\n",
        "is the boundary condition."
      ],
      "id": "b3687e7f-826a-4b7c-b170-3240329d199c"
    },
    {
      "cell_type": "raw",
      "metadata": {
        "raw_mimetype": "text/html"
      },
      "source": [
        "<figure>"
      ],
      "id": "1ffac843-c53c-4d18-8422-41aab186deec"
    },
    {
      "cell_type": "markdown",
      "metadata": {},
      "source": [
        "<img src=\"../images/diffusion1.png\" width=200 />"
      ],
      "id": "fe5e4912-68ea-405d-a6f9-46da8f71cef5"
    },
    {
      "cell_type": "raw",
      "metadata": {
        "raw_mimetype": "text/html"
      },
      "source": [
        "</figure>"
      ],
      "id": "aabdbca7-1b1d-4821-be37-2d3de6810dc1"
    },
    {
      "cell_type": "markdown",
      "metadata": {},
      "source": [
        "We could also specify that at time $t=0$ the centre of the sheet is at\n",
        "temperature $T_1$, whilst surrounding areas are at temperature $T_0$.\n",
        "This is the initial condition. It differs from a boundary condition in\n",
        "that we are told what the temperature is at the start of our time grid\n",
        "(at $t=0$) but not at the end of our time grid (when the simulation\n",
        "finishes)."
      ],
      "id": "1ca9bf9f-1dfa-4e3d-aa3a-37715f3247ac"
    },
    {
      "cell_type": "raw",
      "metadata": {
        "raw_mimetype": "text/html"
      },
      "source": [
        "<figure>"
      ],
      "id": "7a4a5a3b-9cf4-46cd-ad33-335c224f191f"
    },
    {
      "cell_type": "markdown",
      "metadata": {},
      "source": [
        "<img src=\"../images/diffusion2.png\" width=200 />"
      ],
      "id": "328cf3ad-b22e-42a9-95f4-4f8e730fba7d"
    },
    {
      "cell_type": "raw",
      "metadata": {
        "raw_mimetype": "text/html"
      },
      "source": [
        "</figure>"
      ],
      "id": "277066fc-460a-4a13-a64d-1ce68f067b7c"
    },
    {
      "cell_type": "markdown",
      "metadata": {},
      "source": [
        "We could then calculate the temperature at time $t$ at all points\n",
        "$[x,y]$ within the sheet using the two-dimensional Diffusion equation:\n",
        "\n",
        "> **Keypoints**\n",
        ">\n",
        "> -   PDEs can have boundary values and initial values"
      ],
      "id": "5b0cc51e-e342-4c7b-b0a7-1979efeeaad1"
    }
  ],
  "nbformat": 4,
  "nbformat_minor": 5,
  "metadata": {
    "kernelspec": {
      "name": "python3",
      "display_name": "Python 3 (ipykernel)",
      "language": "python"
    },
    "language_info": {
      "name": "python",
      "codemirror_mode": {
        "name": "ipython",
        "version": "3"
      },
      "file_extension": ".py",
      "mimetype": "text/x-python",
      "nbconvert_exporter": "python",
      "pygments_lexer": "ipython3",
      "version": "3.10.10"
    }
  }
}