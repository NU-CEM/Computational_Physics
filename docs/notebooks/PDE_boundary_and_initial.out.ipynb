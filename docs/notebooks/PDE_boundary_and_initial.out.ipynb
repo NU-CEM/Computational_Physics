{
  "cells": [
    {
      "cell_type": "markdown",
      "metadata": {},
      "source": [
        "# Initial and boundary conditions\n",
        "\n",
        "> **Questions**\n",
        ">\n",
        "> -   When do I need boundary conditions and initial conditions?\n",
        "\n",
        "> **Objectives**\n",
        ">\n",
        "> -   Identify boundary value problems and initial value problems\n",
        "\n",
        "### PDEs can have boundary conditions *and* initial conditions\n",
        "\n",
        "In the previous section of the course we learnt that ODEs have either\n",
        "initial values or boundary values.\n",
        "\n",
        "#### Boundary value problems\n",
        "\n",
        "PDEs can also be separated in a similar manner. <mark>Boundary value\n",
        "problems</mark> describe the behaviour of a variable in a space and we\n",
        "are given some constraints on the variable around the boundary of that\n",
        "space. For example, consider the 2-dimensional problem of a thin\n",
        "rectangular sheet with one side at voltage $V$ and all others at voltage\n",
        "zero."
      ],
      "id": "32c5483a-16d5-42a2-b580-2d2ad1fa1897"
    },
    {
      "cell_type": "raw",
      "metadata": {
        "raw_mimetype": "text/html"
      },
      "source": [
        "<figure>"
      ],
      "id": "b401b6b7-93ea-4a66-b55c-08b648ab2a4d"
    },
    {
      "cell_type": "markdown",
      "metadata": {},
      "source": [
        "<img src=\"../images/electrostatics.png\" width=\"200\" >"
      ],
      "id": "4c82d9eb-89bd-4c3c-8bee-54507d348ce7"
    },
    {
      "cell_type": "raw",
      "metadata": {
        "raw_mimetype": "text/html"
      },
      "source": [
        "</figure>"
      ],
      "id": "6bd88177-023b-4d8a-b440-a0da5c0f2278"
    },
    {
      "cell_type": "markdown",
      "metadata": {},
      "source": [
        "The specification that one side is at voltage $V$ and all others are at\n",
        "voltage zero are the <mark>boundary conditions</mark>. We could then\n",
        "calculate the electrostatic potential $\\phi$ at all points within the\n",
        "sheet using the two-dimensional Laplace’s equation:\n",
        "\n",
        "#### Initial value problems\n",
        "\n",
        "<mark>Initial value problems</mark> are where the field - or other\n",
        "variable of interest - is varying in both space and time. We now require\n",
        "boundary conditions *and* initial values. This is a more difficult type\n",
        "of PDE to solve.\n",
        "\n",
        "For example, consider heat diffusion in a two-dimensional sheet. Here we\n",
        "could specify that there is no heat flow in or out of the sheet - this\n",
        "is the boundary condition."
      ],
      "id": "58d4ed31-6867-46ff-8160-c736439161a2"
    },
    {
      "cell_type": "raw",
      "metadata": {
        "raw_mimetype": "text/html"
      },
      "source": [
        "<figure>"
      ],
      "id": "79385ebe-1b39-46ab-9146-a1781a422f70"
    },
    {
      "cell_type": "markdown",
      "metadata": {},
      "source": [
        "<img src=\"../images/diffusion1.png\" width=200 />"
      ],
      "id": "fed2e5b6-d87f-44bd-95e9-167d0d6d839b"
    },
    {
      "cell_type": "raw",
      "metadata": {
        "raw_mimetype": "text/html"
      },
      "source": [
        "</figure>"
      ],
      "id": "0e062404-0f16-4e4c-97f7-9053df3b15c6"
    },
    {
      "cell_type": "markdown",
      "metadata": {},
      "source": [
        "We could also specify that at time $t=0$ the centre of the sheet is at\n",
        "temperature $T_1$, whilst surrounding areas are at temperature $T_0$.\n",
        "This is the initial condition. It differs from a boundary condition in\n",
        "that we are told what the temperature is at the start of our time grid\n",
        "(at $t=0$) but not at the end of our time grid (when the simulation\n",
        "finishes)."
      ],
      "id": "f272b5c5-6a21-426f-8cd6-dd6adb4ca328"
    },
    {
      "cell_type": "raw",
      "metadata": {
        "raw_mimetype": "text/html"
      },
      "source": [
        "<figure>"
      ],
      "id": "faa37268-a91a-4f03-8460-b32d2f0061c0"
    },
    {
      "cell_type": "markdown",
      "metadata": {},
      "source": [
        "<img src=\"../images/diffusion2.png\" width=200 />"
      ],
      "id": "ae1196d9-e3c8-4ec4-b68c-ee510f4bcc53"
    },
    {
      "cell_type": "raw",
      "metadata": {
        "raw_mimetype": "text/html"
      },
      "source": [
        "</figure>"
      ],
      "id": "26a7469c-439f-4bb8-b4e0-9696d72ffeef"
    },
    {
      "cell_type": "markdown",
      "metadata": {},
      "source": [
        "We could then calculate the temperature at time $t$ at all points\n",
        "$[x,y]$ within the sheet using the two-dimensional Diffusion equation:\n",
        "\n",
        "> **Keypoints**\n",
        ">\n",
        "> -   PDEs can have boundary values and initial values"
      ],
      "id": "2a2d538a-1ef8-4a4a-8498-fb43ccfe9940"
    }
  ],
  "nbformat": 4,
  "nbformat_minor": 5,
  "metadata": {
    "kernelspec": {
      "name": "python3",
      "display_name": "Python 3 (ipykernel)",
      "language": "python"
    },
    "language_info": {
      "name": "python",
      "codemirror_mode": {
        "name": "ipython",
        "version": "3"
      },
      "file_extension": ".py",
      "mimetype": "text/x-python",
      "nbconvert_exporter": "python",
      "pygments_lexer": "ipython3",
      "version": "3.10.10"
    }
  }
}