{
  "cells": [
    {
      "cell_type": "markdown",
      "metadata": {},
      "source": [
        "# Initial and boundary conditions\n",
        "\n",
        "> **Questions**\n",
        ">\n",
        "> -   When do I need boundary conditions and initial conditions?\n",
        "\n",
        "> **Objectives**\n",
        ">\n",
        "> -   Identify boundary value problems and initial value problems\n",
        "\n",
        "### PDEs can have boundary conditions *and* initial conditions\n",
        "\n",
        "In the previous section of the course we learnt that ODEs have either\n",
        "initial values or boundary values.\n",
        "\n",
        "#### Boundary value problems\n",
        "\n",
        "PDEs can also be separated in a similar manner. <mark>Boundary value\n",
        "problems</mark> describe the behaviour of a variable in a space and we\n",
        "are given some constraints on the variable around the boundary of that\n",
        "space. For example, consider the 2-dimensional problem of a thin\n",
        "rectangular sheet with one side at voltage $V$ and all others at voltage\n",
        "zero."
      ],
      "id": "ec820bf7-39ed-43b0-aac2-ba289a7ce868"
    },
    {
      "cell_type": "raw",
      "metadata": {
        "raw_mimetype": "text/html"
      },
      "source": [
        "<figure>"
      ],
      "id": "9ae04c97-35b6-42e2-9221-446b163b848f"
    },
    {
      "cell_type": "markdown",
      "metadata": {},
      "source": [
        "<img src=\"../images/electrostatics.png\" width=\"200\" >"
      ],
      "id": "65a20705-38f9-46e5-9615-c44d4b9630f5"
    },
    {
      "cell_type": "raw",
      "metadata": {
        "raw_mimetype": "text/html"
      },
      "source": [
        "</figure>"
      ],
      "id": "df02256c-4d36-4305-8692-5d1f562cab37"
    },
    {
      "cell_type": "markdown",
      "metadata": {},
      "source": [
        "The specification that one side is at voltage $V$ and all others are at\n",
        "voltage zero are the <mark>boundary conditions</mark>. We could then\n",
        "calculate the electrostatic potential $\\phi$ at all points within the\n",
        "sheet using the two-dimensional Laplace’s equation:\n",
        "\n",
        "#### Initial value problems\n",
        "\n",
        "<mark>Initial value problems</mark> are where the field - or other\n",
        "variable of interest - is varying in both space and time. We now require\n",
        "boundary conditions *and* initial values. This is a more difficult type\n",
        "of PDE to solve.\n",
        "\n",
        "For example, consider heat diffusion in a two-dimensional sheet. Here we\n",
        "could specify that there is no heat flow in or out of the sheet - this\n",
        "is the boundary condition."
      ],
      "id": "225184ca-fa0f-4253-9bb0-c4fabcdfad7f"
    },
    {
      "cell_type": "raw",
      "metadata": {
        "raw_mimetype": "text/html"
      },
      "source": [
        "<figure>"
      ],
      "id": "6b770de1-2048-481e-add5-ff84b09a4551"
    },
    {
      "cell_type": "markdown",
      "metadata": {},
      "source": [
        "<img src=\"../images/diffusion1.png\" width=200 />"
      ],
      "id": "6cfb62e7-d3fa-468b-a929-a0d1bdc6659d"
    },
    {
      "cell_type": "raw",
      "metadata": {
        "raw_mimetype": "text/html"
      },
      "source": [
        "</figure>"
      ],
      "id": "ae1b6fe1-d6e6-4e97-a134-16c29c35beaf"
    },
    {
      "cell_type": "markdown",
      "metadata": {},
      "source": [
        "We could also specify that at time $t=0$ the centre of the sheet is at\n",
        "temperature $T_1$, whilst surrounding areas are at temperature $T_0$.\n",
        "This is the initial condition. It differs from a boundary condition in\n",
        "that we are told what the temperature is at the start of our time grid\n",
        "(at $t=0$) but not at the end of our time grid (when the simulation\n",
        "finishes)."
      ],
      "id": "efe679c3-500a-4497-8153-62971ce71293"
    },
    {
      "cell_type": "raw",
      "metadata": {
        "raw_mimetype": "text/html"
      },
      "source": [
        "<figure>"
      ],
      "id": "e59c09cd-e75b-43b3-9df3-8c4ea4b4356f"
    },
    {
      "cell_type": "markdown",
      "metadata": {},
      "source": [
        "<img src=\"../images/diffusion2.png\" width=200 />"
      ],
      "id": "3d143808-5e46-4699-a7b8-47ed57ffd74c"
    },
    {
      "cell_type": "raw",
      "metadata": {
        "raw_mimetype": "text/html"
      },
      "source": [
        "</figure>"
      ],
      "id": "9a38af5b-a557-4955-9ef9-6dbbced190b8"
    },
    {
      "cell_type": "markdown",
      "metadata": {},
      "source": [
        "We could then calculate the temperature at time $t$ at all points\n",
        "$[x,y]$ within the sheet using the two-dimensional Diffusion equation:\n",
        "\n",
        "> **Keypoints**\n",
        ">\n",
        "> -   PDEs can have boundary values and initial values"
      ],
      "id": "eaf5de9d-f121-47a5-8d77-c47a7387383d"
    }
  ],
  "nbformat": 4,
  "nbformat_minor": 5,
  "metadata": {
    "kernelspec": {
      "name": "python3",
      "display_name": "Python 3 (ipykernel)",
      "language": "python"
    },
    "language_info": {
      "name": "python",
      "codemirror_mode": {
        "name": "ipython",
        "version": "3"
      },
      "file_extension": ".py",
      "mimetype": "text/x-python",
      "nbconvert_exporter": "python",
      "pygments_lexer": "ipython3",
      "version": "3.10.10"
    }
  }
}