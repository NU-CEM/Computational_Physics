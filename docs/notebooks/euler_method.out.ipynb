{
  "cells": [
    {
      "cell_type": "markdown",
      "metadata": {},
      "source": [
        "# Euler’s method\n",
        "\n",
        "> **Questions**\n",
        ">\n",
        "> -   How do I use Euler’s method to solve a first-order ODE?\n",
        "> -   What does the term first-order accurate mean?\n",
        "\n",
        "> **Objectives**\n",
        ">\n",
        "> -   Use Euler’s method, implemented in Python, to solve a first-order\n",
        ">     ODE\n",
        "> -   Understand that this method is approximate and the significance of\n",
        ">     step size $h$\n",
        "> -   Compare results at different levels of approximation using the\n",
        ">     `matplotlib` library.\n",
        "\n",
        "### There are a variety of ways to solve an ODE\n",
        "\n",
        "In the previous lesson we considered nuclear decay:\n",
        "\n",
        "This is one of the simplest examples of am ODE - a first-order, linear,\n",
        "separable differential equation with one dependent variable. We saw that\n",
        "we could model the number of atoms $N$ by finding an analytic solution\n",
        "through integration:\n",
        "\n",
        "However there is more than one way to crack an egg (or solve a\n",
        "differential equation). We could have, instead, used an approximate,\n",
        "numerical method. One such method - Euler’s method - is this subject of\n",
        "this lesson.\n",
        "\n",
        "### A function can be approximated using a Taylor expansion\n",
        "\n",
        "The Taylor series is a polynomial expansion of a function about a point.\n",
        "For example, the image below shows $\\mathrm{sin}(x)$ and its Taylor\n",
        "approximation by polynomials of degree 1, 3, 5, 7, 9, 11, and 13 at\n",
        "$x = 0$."
      ],
      "id": "3e0429da-36ac-4f37-abd5-ea60328da05d"
    },
    {
      "cell_type": "raw",
      "metadata": {
        "raw_mimetype": "text/html"
      },
      "source": [
        "<figure>"
      ],
      "id": "7260e719-fdc8-43f7-bb1d-6e790e1cbb83"
    },
    {
      "cell_type": "markdown",
      "metadata": {},
      "source": [
        "<img src=\"../images/Sintay_SVG.svg\" width=500 />"
      ],
      "id": "4fb28fa5-10f7-4b6a-8933-cda5830d196e"
    },
    {
      "cell_type": "raw",
      "metadata": {
        "raw_mimetype": "text/html"
      },
      "source": [
        "<figcaption>"
      ],
      "id": "3ed3a82d-b534-492b-bee1-34d02c2e8558"
    },
    {
      "cell_type": "markdown",
      "metadata": {},
      "source": [
        "Credit: Image By IkamusumeFan - CC BY-SA 3.0,\n",
        "https://commons.wikimedia.org/w/index.php?curid=27865201"
      ],
      "id": "ce43c771-52bc-4978-bf9f-846b74128276"
    },
    {
      "cell_type": "raw",
      "metadata": {
        "raw_mimetype": "text/html"
      },
      "source": [
        "</figcaption>"
      ],
      "id": "c7a460c3-966a-4de8-974b-9064873749ae"
    },
    {
      "cell_type": "raw",
      "metadata": {
        "raw_mimetype": "text/html"
      },
      "source": [
        "</figure>"
      ],
      "id": "5574f1a1-a5cd-443b-9221-52b89e479f06"
    },
    {
      "cell_type": "markdown",
      "metadata": {},
      "source": [
        "The Taylor series of $f(x)$ evaluated at point $a$ can be expressed as:\n",
        "\n",
        "Returning to our example of nuclear decay, we can use a <mark>Taylor\n",
        "expansion</mark> to write the value of $N$ a short interval $h$ later:\n",
        "\n",
        "> **Note**\n",
        ">\n",
        "> If you want to know more about Taylor expansion, there is an excellent\n",
        "> video explanation from user `3blue1brown` on Youtube, a link is\n",
        "> provided under external resources.\n",
        "\n",
        "### If the step size $h$ is small then higher order terms can be neglected\n",
        "\n",
        "If $h$ is small and $h^2$ is very small we can neglect the terms in\n",
        "$h^2$ and higher and we get:\n",
        "\n",
        "### Euler’s method can be used to approximate the solution of differential equations\n",
        "\n",
        "We can keep applying the equation above so that we calculate $N(t)$ at a\n",
        "succession of equally spaced points for as long as we want. If $h$ is\n",
        "small enough we can get a good approximation to the solution of the\n",
        "equation. This method for solving differential equations is called\n",
        "Euler’s method, after Leonhard Euler, its inventor.\n",
        "\n",
        "![](attachment:../images/Euler_method.png)\n",
        "\n",
        "> **Note**\n",
        ">\n",
        "> Although we are neglecting terms $h^2$ and higher, Euler’s method\n",
        "> typically has an error linear in $h$ as the error accumulates over\n",
        "> repeated steps. This means that if we want to double the accuracy of\n",
        "> our calculation we need to double the number of steps, and double the\n",
        "> calcuation time.\n",
        "\n",
        "> **Note**\n",
        ">\n",
        "> So far we have looked at an example where the input (or independent\n",
        "> variable) is time. This isn’t always the case - but it is the most\n",
        "> common case in physics, as we are often interested in how things\n",
        "> evolve with time.\n",
        "\n",
        "### Euler’s method can be applied using the Python skills we have developed\n",
        "\n",
        "Let’s use Euler’s method to solve the differential equation for nuclear\n",
        "decay. We will model the decay process over a period of 10 seconds, with\n",
        "the decay constant $\\lambda=0.1$ and the initial condition $N_0 = 1000$.\n",
        "\n",
        "First, let’s import the standard scientific libraries we will be using -\n",
        "Numpy and Matplotlib:"
      ],
      "attachments": {
        "../images/Euler_method.png": {
          "image/png": "[encoded data removed]"
        }
      },
      "id": "8971f4aa-056d-4041-96c7-6e989facd9aa"
    },
    {
      "cell_type": "code",
      "execution_count": 4,
      "metadata": {},
      "outputs": [],
      "source": [
        "import numpy as np\n",
        "import matplotlib.pyplot as plt"
      ],
      "id": "south-repeat"
    },
    {
      "cell_type": "markdown",
      "metadata": {},
      "source": [
        "Let’s definte the function $f(N,t)$ which describes the rate of decay.\n",
        "In this case, the function depends only on the number of atoms present."
      ],
      "id": "71acb5f6-dbee-42cd-95ba-3f0780b68d4d"
    },
    {
      "cell_type": "code",
      "execution_count": 5,
      "metadata": {},
      "outputs": [],
      "source": [
        "# define the function for nuclear decay\n",
        "def f(Num_atoms):\n",
        "    return -0.1*Num_atoms"
      ],
      "id": "likely-vaccine"
    },
    {
      "cell_type": "markdown",
      "metadata": {},
      "source": [
        "Next we’ll list the simulation parameters and initial conditions: start\n",
        "time, end time, number of starting atoms (which is an initial\n",
        "condition), number of time steps and step size (which is calculated\n",
        "using the number of time steps)."
      ],
      "id": "2ecf922d-8aef-49f9-bd72-1eab58853398"
    },
    {
      "cell_type": "code",
      "execution_count": 6,
      "metadata": {},
      "outputs": [],
      "source": [
        "a = 0                  # start time\n",
        "b = 10                 # end time\n",
        "Num_atoms = 1000       # initial condition\n",
        "num_steps = 5         # number of time steps\n",
        "h = (b-a) / num_steps  # time step size"
      ],
      "id": "lonely-guinea"
    },
    {
      "cell_type": "markdown",
      "metadata": {},
      "source": [
        "We use the Numpy `arange` function to generate a list of evenly spaced\n",
        "times at which to evaluate the number of atoms. We also create an empty\n",
        "list to hold the values for $N$ that we are yet to calculate."
      ],
      "id": "e43ebf1d-e098-4e6c-b79a-f050e95c495a"
    },
    {
      "cell_type": "code",
      "execution_count": 7,
      "metadata": {},
      "outputs": [],
      "source": [
        "# use the Numpy arange function to generate a list of evenly spaced times at which to evaluate the number of atoms N.\n",
        "time_list = np.arange(a,b,h)\n",
        "\n",
        "# create an empty list to hold the calculated N values\n",
        "Num_atoms_list = []"
      ],
      "id": "fabulous-cruise"
    },
    {
      "cell_type": "markdown",
      "metadata": {},
      "source": [
        "Finally, we apply Euler’s method using a `For` loop. Note that the order\n",
        "of operations in the loop body is important."
      ],
      "id": "d2e28fe6-4e06-4a84-9e9e-b10a4067f9b7"
    },
    {
      "cell_type": "code",
      "execution_count": 8,
      "metadata": {},
      "outputs": [],
      "source": [
        "# apply Euler's method. Note that the order of operations in the loop body is important.\n",
        "for time in time_list:\n",
        "    Num_atoms_list.append(Num_atoms)\n",
        "    Num_atoms += h*f(Num_atoms)"
      ],
      "id": "hybrid-mortgage"
    },
    {
      "cell_type": "markdown",
      "metadata": {},
      "source": [
        "### We can easily visualise our results, and compare against the analytical solution, using the `matplotlib` plotting library"
      ],
      "id": "d3621d76-f55a-4c44-a456-ef2f51ca9a56"
    },
    {
      "cell_type": "code",
      "execution_count": 9,
      "metadata": {},
      "outputs": [
        {
          "output_type": "display_data",
          "metadata": {},
          "data": {
            "image/png": "[encoded data removed]"
          }
        }
      ],
      "source": [
        "plt.scatter(time_list, Num_atoms_list)\n",
        "plt.xlabel(\"time\")\n",
        "plt.ylabel(\"Number of atoms\")\n",
        "plt.show()"
      ],
      "id": "emerging-progressive"
    },
    {
      "cell_type": "markdown",
      "metadata": {},
      "source": [
        "Using the analytic solution from the previous lesson, we can define a\n",
        "function for calculating the number of atoms $N$ as a function of time\n",
        "(this is the exact solution)."
      ],
      "id": "3976f020-8ec1-4e04-abc5-38bdaa42f133"
    },
    {
      "cell_type": "code",
      "execution_count": 10,
      "metadata": {},
      "outputs": [],
      "source": [
        "def analytic_solution(time):\n",
        "    return 1000*np.exp(-0.1*time)"
      ],
      "id": "younger-indie"
    },
    {
      "cell_type": "markdown",
      "metadata": {},
      "source": [
        "We can use this to calculate the exact value for $N$ over the full time\n",
        "range. Note that we use a large number of points in time (in this case\n",
        "1000) to give a nice smooth curve:"
      ],
      "id": "052e53e6-bf1c-4b60-b771-6cc2448f445e"
    },
    {
      "cell_type": "code",
      "execution_count": 45,
      "metadata": {},
      "outputs": [],
      "source": [
        "num_steps = 1000\n",
        "h = (b-a) / num_steps\n",
        "time_analytic_list = np.arange(a,b,h)\n",
        "Num_atoms_analytic_list = []\n",
        "\n",
        "for time in time_analytic_list:\n",
        "    Num_atoms_analytic_list.append(analytic_solution(time))"
      ],
      "id": "criminal-insertion"
    },
    {
      "cell_type": "markdown",
      "metadata": {},
      "source": [
        "Finally, we plot the approximate Euler method results against the exact\n",
        "analytical solution:"
      ],
      "id": "3d31c4c2-4d93-48de-bb6f-d572de1a0509"
    },
    {
      "cell_type": "code",
      "execution_count": 46,
      "metadata": {},
      "outputs": [
        {
          "output_type": "display_data",
          "metadata": {},
          "data": {
            "text/plain": [
              "Text(0, 0.5, 'Number of atoms')"
            ]
          }
        },
        {
          "output_type": "display_data",
          "metadata": {},
          "data": {
            "image/png": "[encoded data removed]"
          }
        }
      ],
      "source": [
        "plt.plot(time_analytic_list,Num_atoms_analytic_list)\n",
        "plt.scatter(time_list, Num_atoms_list)\n",
        "plt.xlabel(\"time\")\n",
        "plt.ylabel(\"Number of atoms\")"
      ],
      "id": "adjacent-editing"
    },
    {
      "cell_type": "markdown",
      "metadata": {},
      "source": [
        "We can see that the error is increasing over time. We can calculate the\n",
        "error at $t=8$:"
      ],
      "id": "4399e87a-eca8-40ea-afed-8de0017d4159"
    },
    {
      "cell_type": "code",
      "execution_count": 16,
      "metadata": {
        "scrolled": true,
        "tags": []
      },
      "outputs": [
        {
          "output_type": "stream",
          "name": "stdout",
          "text": [
            "Analytic solution at t=8:  449\n",
            "Numerical solution at t=8:  410\n",
            "Error is:  40"
          ]
        }
      ],
      "source": [
        "print(\"Analytic solution at t=8: \",round(analytic_solution(8)))\n",
        "print(\"Numerical solution at t=8: \",round(Num_atoms_list[-1]))\n",
        "print(\"Error is: \",round(analytic_solution(8)-Num_atoms_list[-1]))"
      ],
      "id": "framed-situation"
    },
    {
      "cell_type": "markdown",
      "metadata": {},
      "source": [
        "### Euler’s method is a first-order method accurate to order $h$.\n",
        "\n",
        "-   Numerical methods give *approximate* solutions.\n",
        "-   Euler’s method neglects the term in $h^2$ and higher:\n",
        "-   This tells us the error introduced on a single step of the method is\n",
        "    proportional to $h^2$ - this makes Euler’s method a <mark>\n",
        "    first-order </mark> method, accurate to order $h$.\n",
        "-   However the cumulative error over several steps is proportional to\n",
        "    $h$\n",
        "-   So to make our error half as large we need to double the number of\n",
        "    steps (halve the step size) and double the length of the\n",
        "    calculation.\n",
        "\n",
        "> **Keypoints**\n",
        ">\n",
        "> -   There are a variety of ways to solve an ODE\n",
        "> -   A function can be approximated using a Taylor expansion\n",
        "> -   If the step size $h$ is small then higher order terms can be\n",
        ">     neglected\n",
        "> -   Euler’s method can be used to approximate the solution of\n",
        ">     differential equations\n",
        "> -   Euler’s method can be applied using the Python skills we have\n",
        ">     developed\n",
        "> -   We can easily visualise our results, and compare against the\n",
        ">     analytical solution, using the matplotlib plotting library\n",
        "> -   Euler’s method is a first-order method accurate to order $h$."
      ],
      "id": "185d0e63-abc5-4720-afc3-7c49109c9e35"
    }
  ],
  "nbformat": 4,
  "nbformat_minor": 5,
  "metadata": {
    "kernelspec": {
      "name": "python3",
      "display_name": "Python 3 (ipykernel)",
      "language": "python"
    },
    "language_info": {
      "name": "python",
      "codemirror_mode": {
        "name": "ipython",
        "version": "3"
      },
      "file_extension": ".py",
      "mimetype": "text/x-python",
      "nbconvert_exporter": "python",
      "pygments_lexer": "ipython3",
      "version": "3.10.10"
    }
  }
}