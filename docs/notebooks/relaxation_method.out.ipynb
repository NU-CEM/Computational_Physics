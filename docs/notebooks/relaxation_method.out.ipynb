{
  "cells": [
    {
      "cell_type": "markdown",
      "metadata": {},
      "source": [
        "# Relaxation method\n",
        "\n",
        "> **Questions**\n",
        ">\n",
        "> -   How do I use the relaxation method to solve Laplace’s equation?\n",
        "\n",
        "> **Objectives**\n",
        ">\n",
        "> -   Use the finite difference method to convert Laplace’s equation\n",
        ">     into a set of linear simultaneous equations\n",
        "> -   Use the relaxation method to solve Laplace’s equation\n",
        "\n",
        "### The method of finite differences is often used to solve partial differential equations\n",
        "\n",
        "Consider the two-dimensional Laplace equation for the electric potential\n",
        "$\\phi$ subject to appropriate boundary conditions:\n",
        "\n",
        "Real physical problems are in three dimensions, but we can more easily\n",
        "visualise the method of finite differences - and the extension to three\n",
        "dimensions is straight forward.\n",
        "\n",
        "The method of finite differences, which has already been introduced\n",
        "earlier in the course, involves dividing the space into a grid of\n",
        "discrete points $[x,y]$ and calculating numerical derivatives or at each\n",
        "of these points."
      ],
      "id": "69e6d4c3-682e-462c-8f1f-3f8dfd48d6e5"
    },
    {
      "cell_type": "raw",
      "metadata": {
        "raw_mimetype": "text/html"
      },
      "source": [
        "<figure>"
      ],
      "id": "335d7c35-14a8-4aa4-83d3-ea62c8bbf54f"
    },
    {
      "cell_type": "markdown",
      "metadata": {},
      "source": [
        "<img src=\"../images/electrostatics2.png\" width=\"200\" >"
      ],
      "id": "6a826c98-bb5a-4cb7-ab52-d122420466ee"
    },
    {
      "cell_type": "raw",
      "metadata": {
        "raw_mimetype": "text/html"
      },
      "source": [
        "</figure>"
      ],
      "id": "9a0acc2d-11b6-4de0-bc7f-46ead4ea48b1"
    },
    {
      "cell_type": "markdown",
      "metadata": {},
      "source": [
        "In this case we consider a 2-dimensional sheet with a fixed voltage $V$\n",
        "at the top side, and all other sides fixed at $0V$.\n",
        "\n",
        "As a quick recap from what was learnt earlier in the course, we can\n",
        "express the Laplacian in two dimensions using finite differences:\n",
        "\n",
        "The expression above is known as a <mark>five-point stencil</mark> as it\n",
        "uses five points to calculate the Laplacian.\n",
        "\n",
        "### The finite difference method turns our partial differential equation into a set of linear simulatenous equation\n",
        "\n",
        "Returning to our Laplace equation for for the electric potential $\\phi$:"
      ],
      "id": "caced97f-a580-4acb-a0a5-1871ab916a51"
    },
    {
      "cell_type": "raw",
      "metadata": {
        "raw_mimetype": "text/html"
      },
      "source": [
        "<figure>"
      ],
      "id": "a30ed2e7-6397-490c-99ac-ad8e16020cd3"
    },
    {
      "cell_type": "markdown",
      "metadata": {},
      "source": [
        "<img src=\"../images/electrostatics2.png\" width=\"200\" >"
      ],
      "id": "4802ca83-409c-4c2b-b7e8-8a381c3abb4c"
    },
    {
      "cell_type": "raw",
      "metadata": {
        "raw_mimetype": "text/html"
      },
      "source": [
        "</figure>"
      ],
      "id": "e157a816-047c-46ce-b727-4cc506781f2a"
    },
    {
      "cell_type": "markdown",
      "metadata": {},
      "source": [
        "The numerical Laplacian can be substituted into the equation above,\n",
        "giving us a set of $n$ simulatenous equations for the $n$ grid points.\n",
        "\n",
        "where $h$ is the distance between each grid point.\n",
        "\n",
        "### To solve this set of equations we use the relaxation method\n",
        "\n",
        "To calculate $\\phi(x,y)$ we use the relaxation method, also known as the\n",
        "Jacobi method in the context of the Laplace equation. First we\n",
        "re-arrange the equation above:\n",
        "\n",
        "<mark> Note that because we set the Laplacian equal to zero in Equation\n",
        "3 (for this particular example), the $h^2$ term has dropped out of the\n",
        "expression - this might not be the case for other examples. </mark>\n",
        "\n",
        "This tells us that $\\phi(x,y)$ is the average of the surrounding grid\n",
        "points, which can be represented visually as:"
      ],
      "id": "0b8dbe0b-37ec-40aa-b925-37d64dbb13cf"
    },
    {
      "cell_type": "raw",
      "metadata": {
        "raw_mimetype": "text/html"
      },
      "source": [
        "<figure>"
      ],
      "id": "bf16456d-a676-49ab-945a-ffabc063df84"
    },
    {
      "cell_type": "markdown",
      "metadata": {},
      "source": [
        "<img src=\"../images/electrostatics3.png\" width=\"200\" >"
      ],
      "id": "cc28eefe-e3b7-446b-ba2e-3143023b80ca"
    },
    {
      "cell_type": "raw",
      "metadata": {
        "raw_mimetype": "text/html"
      },
      "source": [
        "</figure>"
      ],
      "id": "68d1e5f9-3c61-4779-ae3b-ffdbf5be0fac"
    },
    {
      "cell_type": "markdown",
      "metadata": {},
      "source": [
        "Second, we fix $\\phi(x,y)$ at the boundaries using the boundary\n",
        "conditions. Third, we guess the initial values of the interior\n",
        "$\\phi(x,y)$ points - our guesses do not need to be good, and can be\n",
        "zero.\n",
        "\n",
        "Finally we use Equation 4 to calculate new values of $\\phi'(x,y)$ at all\n",
        "points in space. We take these new $\\phi'(x,y)$ values and feed them\n",
        "into Equation 4 again to calculate new values. We repeat this iterative\n",
        "process until the $\\phi(x,y)$ values converge, and that is our solution.\n",
        "\n",
        "Convergence can be tested by specifying what the maximum difference\n",
        "should be between iterations. For example, that\n",
        "$\\phi'(x,y)-\\phi(x,y)< 1e-5$ for all grid points.\n",
        "\n",
        "### The relaxation method is limited by the accuracy of the finite difference method\n",
        "\n",
        "-   For solving PDEs we use the finite difference method (as part of the\n",
        "    relaxation method).\n",
        "-   Even if we use a very small target accuracy for convergence of the\n",
        "    relaxation method, our accuracy will still be limited by the finite\n",
        "    differences. Higher-order finite difference methods (such as the\n",
        "    5-point or 7-point methods) can be used here to improve the overrall\n",
        "    accuracy of the calculation.\n",
        "\n",
        "### The relaxation methods can be applied using the Python skills we have developed\n",
        "\n",
        "We will now use our Python Skillz to solve Laplace’s equation with the\n",
        "boundary conditions outlined above. Let’s also imagine that the sheet is\n",
        "1m along each side and that we want a grid spacing of 1cm. First let’s\n",
        "import the libraries we will use:"
      ],
      "id": "ae551016-bd1f-471f-8ee7-7aa979632bd4"
    },
    {
      "cell_type": "code",
      "execution_count": 95,
      "metadata": {},
      "outputs": [],
      "source": [
        "import numpy as np\n",
        "import matplotlib.pyplot as plt"
      ],
      "id": "available-harbor"
    },
    {
      "cell_type": "markdown",
      "metadata": {},
      "source": [
        "Now let’s specify our simulation parameters…"
      ],
      "id": "96ab857f-798d-48c1-aa86-bb6cb16a232f"
    },
    {
      "cell_type": "code",
      "execution_count": 96,
      "metadata": {},
      "outputs": [],
      "source": [
        "grid_width = 101 # number of grid points for width of simulation\n",
        "grid_height = 101 # number of grid points for height of simulation\n",
        "target = 1e-6 # target accuracy to complete convergence"
      ],
      "id": "forbidden-triangle"
    },
    {
      "cell_type": "markdown",
      "metadata": {},
      "source": [
        "…and our boundary conditions:"
      ],
      "id": "73303cad-9c79-40d2-a324-1697d75b1d2a"
    },
    {
      "cell_type": "code",
      "execution_count": 97,
      "metadata": {},
      "outputs": [],
      "source": [
        "V_top = 1.0 # top wall voltage, in volts\n",
        "V_left = 0.0 # left wall voltage\n",
        "V_right = 0.0 # right wall voltage\n",
        "V_bottom = 0.0 # bottom wall voltage"
      ],
      "id": "behavioral-distributor"
    },
    {
      "cell_type": "markdown",
      "metadata": {},
      "source": [
        "Next let’s create a NumPy array to hold our $\\phi(x,y)$ and $\\phi'(x,y)$\n",
        "values:"
      ],
      "id": "b37876ca-2dfe-444a-b4ec-439dd63bc63a"
    },
    {
      "cell_type": "code",
      "execution_count": 98,
      "metadata": {},
      "outputs": [],
      "source": [
        "phi = np.zeros([grid_height,grid_width], float)\n",
        "phi_prime = np.empty([grid_height,grid_width], float)"
      ],
      "id": "composite-madagascar"
    },
    {
      "cell_type": "markdown",
      "metadata": {},
      "source": [
        "Now we apply the boundary conditions to our array:"
      ],
      "id": "91458b8e-0c4e-4610-aee5-2b3a9bb2d6f0"
    },
    {
      "cell_type": "code",
      "execution_count": 99,
      "metadata": {},
      "outputs": [],
      "source": [
        "phi[0,:] = V_top"
      ],
      "id": "cellular-documentation"
    },
    {
      "cell_type": "markdown",
      "metadata": {},
      "source": [
        "Now we write a function which uses the finite difference method to\n",
        "calculate an updated $\\phi'(x,y)$ ."
      ],
      "id": "0a9e9fd4-1928-44df-8e9d-950bb9c513d7"
    },
    {
      "cell_type": "code",
      "execution_count": 100,
      "metadata": {},
      "outputs": [],
      "source": [
        "def finite_difference(phi):\n",
        "\n",
        "    for i in range(grid_height): # for each grid point\n",
        "        for j in range(grid_width):\n",
        "            if i==0 or i==grid_height-1 or j==0 or j==grid_width-1:\n",
        "                phi_prime[i,j] = phi[i,j] # if at boundary, keep fixed\n",
        "            else: # otherwise apply finite difference\n",
        "                phi_prime[i,j] = (phi[i+1,j]+phi[i-1,j]+phi[i,j+1]+phi[i,j-1]) / 4\n",
        "    \n",
        "    return phi_prime"
      ],
      "id": "certified-plate"
    },
    {
      "cell_type": "markdown",
      "metadata": {},
      "source": [
        "Finally let’s use the relaxation method. We repeatedly call the function\n",
        "`finite_difference` until all values of $\\phi(x,y)$ are converged."
      ],
      "id": "34fdb638-178e-4ff9-8147-5585eeb649ea"
    },
    {
      "cell_type": "code",
      "execution_count": 101,
      "metadata": {},
      "outputs": [],
      "source": [
        "delta = 1.0 # create delta. It can take any value larger than the target accuracy\n",
        "\n",
        "while delta > 1e-6:  # keep running the following code until delta < 1e-6\n",
        "    phi_prime = finite_difference(phi)  # calculate phi_prime\n",
        "    delta = np.max(np.abs(phi-phi_prime)) # calculate the maximum difference between phi and phi_prime\n",
        "    phi,phi_prime = phi_prime,phi # Swap phi and phi-prime, ready for the next iteration"
      ],
      "id": "common-monitoring"
    },
    {
      "cell_type": "markdown",
      "metadata": {},
      "source": [
        "We can visualise our result using the function\n",
        "`matplotlib.pyplot.imshow` which displays our data as an image:"
      ],
      "id": "de447ef5-1a3a-44c0-a4eb-7c7f46f16b51"
    },
    {
      "cell_type": "code",
      "execution_count": 103,
      "metadata": {},
      "outputs": [
        {
          "output_type": "display_data",
          "metadata": {},
          "data": {
            "text/plain": [
              "<matplotlib.image.AxesImage at 0x7ffd66d69e10>"
            ]
          }
        },
        {
          "output_type": "display_data",
          "metadata": {},
          "data": {
            "image/png": "[encoded data removed]"
          }
        }
      ],
      "source": [
        "plt.imshow(phi_prime)"
      ],
      "id": "emotional-soccer"
    },
    {
      "cell_type": "markdown",
      "metadata": {},
      "source": [
        "This result makes sense: there is a region of high electric potential\n",
        "around the top side of the sheet, where the voltage is fixed at 1V, and\n",
        "regions of low potential around the other three walls. If we would like\n",
        "a colour bar to indicate the $\\phi(x,y)$ values across the image then we\n",
        "can use the function `matplotlib.pyplot.contourf` to produce a filled\n",
        "contour plot. Note that this function flips our image (plotting the\n",
        "values held in the array from left to right, top to bottom) so we use\n",
        "`numpy.flip` to achieve the expected result."
      ],
      "id": "a6efb594-ec7d-4bd0-be32-82dbd11beb03"
    },
    {
      "cell_type": "code",
      "execution_count": 106,
      "metadata": {},
      "outputs": [
        {
          "output_type": "display_data",
          "metadata": {},
          "data": {
            "image/png": "[encoded data removed]"
          }
        }
      ],
      "source": [
        "plt.contourf(np.flip(phi_prime),levels=np.linspace(0,1,101))\n",
        "plt.colorbar().set_label(\"Electric potential\")"
      ],
      "id": "ethical-inclusion"
    },
    {
      "cell_type": "markdown",
      "metadata": {},
      "source": [
        "> **Keypoints**\n",
        ">\n",
        "> -   The finite difference method for numerical derivatives is often\n",
        ">     used to solve partial differential equations\n",
        "> -   The finite difference method turns our partial differential\n",
        ">     equation into a set of linear simulatenous equation\n",
        "> -   To solve this set of equations we use the relaxation method\n",
        "> -   The relaxation method is limited by the accuracy of the finite\n",
        ">     difference method\n",
        "> -   The relaxation and finite difference methods can be applied using\n",
        ">     the Python skills we have developed\n",
        "\n",
        "### Test your understanding\n",
        "\n",
        "> **Boundary conditions**\n",
        ">\n",
        "> In this tutorial we implement a finite difference method to solve\n",
        "> Laplace’s equation. We use fixed boundary conditions, which are an\n",
        "> example of [Dirichlet-type boundary\n",
        "> conditions](https://math.libretexts.org/Bookshelves/Differential_Equations/Book%3A_Partial_Differential_Equations_(Walet)/03%3A_Boundary_and_Initial_Conditions/3.02%3A_Explicit_Boundary_Conditions).\n",
        ">\n",
        "> ``` python\n",
        "> def finite_difference(phi):\n",
        ">\n",
        ">     for i in range(grid_height): # for each grid point\n",
        ">         for j in range(grid_width):\n",
        ">             if i==0 or i==grid_height-1 or j==0 or j==grid_width-1:\n",
        ">                 phi_prime[i,j] = phi[i,j] # if at boundary, keep fixed\n",
        ">             else: # otherwise apply finite difference\n",
        ">                 phi_prime[i,j] = (phi[i+1,j]+phi[i-1,j]+phi[i,j+1]+phi[i,j-1]) / 4\n",
        ">     \n",
        ">     return phi_prime\n",
        "> ```\n",
        ">\n",
        "> Another form of boundary condition is a Periodic Boundary Condition.\n",
        "> PBCs are often chosen for approximating a large (infinite) system by\n",
        "> using a small part called a unit cell, and are most famously used for\n",
        "> modelling periodic crystals in solid state physics. Mathematically,\n",
        "> PBCs can be expressed for $f(x,y)$ on a two dimensional $N \\times N$\n",
        "> grid as:\n",
        ">\n",
        "> Write a function which calculates `phi_prime` using a finite\n",
        "> difference method with periodic boundary conditions.\n",
        ">\n",
        "> > **Show answer**\n",
        "> >\n",
        "> > ``` python\n",
        "> > def finite_difference(phi):\n",
        "> >\n",
        "> >     for i in range(N): # for each grid point\n",
        "> >         for j in range(N):\n",
        "> >     \n",
        "> >             i1 = i+1\n",
        "> >             j1 = j+1\n",
        "> >             i2 = i-1\n",
        "> >             j2 = j-1\n",
        "> >             \n",
        "> >             if i == N-1:\n",
        "> >                 i1 = 0\n",
        "> >             if i == 0:\n",
        "> >                 i2 == N-1\n",
        "> >             if j == N-1:\n",
        "> >                 j1 = 0\n",
        "> >             if j == 0:\n",
        "> >                 j2 == N-1\n",
        "> >\n",
        "> >             phi_prime[i,j] = (phi[i1,j]+phi[i2,j]+phi[i,j1]+phi[i,j2]) / 4\n",
        "> >     \n",
        "> >     return phi_prime\n",
        "> > ```"
      ],
      "id": "981a7b78-573b-4688-90de-69d909a244cc"
    }
  ],
  "nbformat": 4,
  "nbformat_minor": 5,
  "metadata": {
    "kernelspec": {
      "name": "python3",
      "display_name": "Python 3 (ipykernel)",
      "language": "python"
    },
    "language_info": {
      "name": "python",
      "codemirror_mode": {
        "name": "ipython",
        "version": "3"
      },
      "file_extension": ".py",
      "mimetype": "text/x-python",
      "nbconvert_exporter": "python",
      "pygments_lexer": "ipython3",
      "version": "3.10.10"
    }
  }
}